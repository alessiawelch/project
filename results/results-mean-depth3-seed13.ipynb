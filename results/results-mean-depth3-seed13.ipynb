{
 "cells": [
  {
   "cell_type": "code",
   "execution_count": 3,
   "metadata": {
    "execution": {
     "iopub.execute_input": "2025-01-11T03:26:09.637129Z",
     "iopub.status.busy": "2025-01-11T03:26:09.636829Z",
     "iopub.status.idle": "2025-01-11T03:26:26.944541Z",
     "shell.execute_reply": "2025-01-11T03:26:26.943544Z",
     "shell.execute_reply.started": "2025-01-11T03:26:09.637096Z"
    },
    "trusted": true
   },
   "outputs": [
    {
     "name": "stdout",
     "output_type": "stream",
     "text": [
      "2.4.1+cu121\n",
      "Looking in links: https://data.pyg.org/whl/torch-2.0.1+cu118.html\n",
      "Collecting torch-scatter\n",
      "  Downloading https://data.pyg.org/whl/torch-2.0.0%2Bcu118/torch_scatter-2.1.2%2Bpt20cu118-cp310-cp310-linux_x86_64.whl (10.2 MB)\n",
      "\u001b[2K     \u001b[90m━━━━━━━━━━━━━━━━━━━━━━━━━━━━━━━━━━━━━━━━\u001b[0m \u001b[32m10.2/10.2 MB\u001b[0m \u001b[31m54.9 MB/s\u001b[0m eta \u001b[36m0:00:00\u001b[0m00:01\u001b[0m0:01\u001b[0m\n",
      "\u001b[?25hInstalling collected packages: torch-scatter\n",
      "Successfully installed torch-scatter-2.1.2+pt20cu118\n",
      "Looking in links: https://data.pyg.org/whl/torch-2.0.1+cu118.html\n",
      "Collecting torch-sparse\n",
      "  Downloading https://data.pyg.org/whl/torch-2.0.0%2Bcu118/torch_sparse-0.6.18%2Bpt20cu118-cp310-cp310-linux_x86_64.whl (4.9 MB)\n",
      "\u001b[2K     \u001b[90m━━━━━━━━━━━━━━━━━━━━━━━━━━━━━━━━━━━━━━━━\u001b[0m \u001b[32m4.9/4.9 MB\u001b[0m \u001b[31m41.7 MB/s\u001b[0m eta \u001b[36m0:00:00\u001b[0m00:01\u001b[0m00:01\u001b[0m\n",
      "\u001b[?25hRequirement already satisfied: scipy in /usr/local/lib/python3.10/dist-packages (from torch-sparse) (1.13.1)\n",
      "Requirement already satisfied: numpy<2.3,>=1.22.4 in /usr/local/lib/python3.10/dist-packages (from scipy->torch-sparse) (1.26.4)\n",
      "Installing collected packages: torch-sparse\n",
      "Successfully installed torch-sparse-0.6.18+pt20cu118\n",
      "Collecting torch-geometric\n",
      "  Downloading torch_geometric-2.6.1-py3-none-any.whl.metadata (63 kB)\n",
      "\u001b[2K     \u001b[90m━━━━━━━━━━━━━━━━━━━━━━━━━━━━━━━━━━━━━━━━\u001b[0m \u001b[32m63.1/63.1 kB\u001b[0m \u001b[31m2.1 MB/s\u001b[0m eta \u001b[36m0:00:00\u001b[0m\n",
      "\u001b[?25hRequirement already satisfied: aiohttp in /usr/local/lib/python3.10/dist-packages (from torch-geometric) (3.10.5)\n",
      "Requirement already satisfied: fsspec in /usr/local/lib/python3.10/dist-packages (from torch-geometric) (2024.6.1)\n",
      "Requirement already satisfied: jinja2 in /usr/local/lib/python3.10/dist-packages (from torch-geometric) (3.1.4)\n",
      "Requirement already satisfied: numpy in /usr/local/lib/python3.10/dist-packages (from torch-geometric) (1.26.4)\n",
      "Requirement already satisfied: psutil>=5.8.0 in /usr/local/lib/python3.10/dist-packages (from torch-geometric) (5.9.5)\n",
      "Requirement already satisfied: pyparsing in /usr/local/lib/python3.10/dist-packages (from torch-geometric) (3.1.4)\n",
      "Requirement already satisfied: requests in /usr/local/lib/python3.10/dist-packages (from torch-geometric) (2.32.3)\n",
      "Requirement already satisfied: tqdm in /usr/local/lib/python3.10/dist-packages (from torch-geometric) (4.66.5)\n",
      "Requirement already satisfied: aiohappyeyeballs>=2.3.0 in /usr/local/lib/python3.10/dist-packages (from aiohttp->torch-geometric) (2.4.0)\n",
      "Requirement already satisfied: aiosignal>=1.1.2 in /usr/local/lib/python3.10/dist-packages (from aiohttp->torch-geometric) (1.3.1)\n",
      "Requirement already satisfied: attrs>=17.3.0 in /usr/local/lib/python3.10/dist-packages (from aiohttp->torch-geometric) (24.2.0)\n",
      "Requirement already satisfied: frozenlist>=1.1.1 in /usr/local/lib/python3.10/dist-packages (from aiohttp->torch-geometric) (1.4.1)\n",
      "Requirement already satisfied: multidict<7.0,>=4.5 in /usr/local/lib/python3.10/dist-packages (from aiohttp->torch-geometric) (6.1.0)\n",
      "Requirement already satisfied: yarl<2.0,>=1.0 in /usr/local/lib/python3.10/dist-packages (from aiohttp->torch-geometric) (1.11.1)\n",
      "Requirement already satisfied: async-timeout<5.0,>=4.0 in /usr/local/lib/python3.10/dist-packages (from aiohttp->torch-geometric) (4.0.3)\n",
      "Requirement already satisfied: MarkupSafe>=2.0 in /usr/local/lib/python3.10/dist-packages (from jinja2->torch-geometric) (2.1.5)\n",
      "Requirement already satisfied: charset-normalizer<4,>=2 in /usr/local/lib/python3.10/dist-packages (from requests->torch-geometric) (3.3.2)\n",
      "Requirement already satisfied: idna<4,>=2.5 in /usr/local/lib/python3.10/dist-packages (from requests->torch-geometric) (3.10)\n",
      "Requirement already satisfied: urllib3<3,>=1.21.1 in /usr/local/lib/python3.10/dist-packages (from requests->torch-geometric) (2.2.3)\n",
      "Requirement already satisfied: certifi>=2017.4.17 in /usr/local/lib/python3.10/dist-packages (from requests->torch-geometric) (2024.8.30)\n",
      "Requirement already satisfied: typing-extensions>=4.1.0 in /usr/local/lib/python3.10/dist-packages (from multidict<7.0,>=4.5->aiohttp->torch-geometric) (4.12.2)\n",
      "Downloading torch_geometric-2.6.1-py3-none-any.whl (1.1 MB)\n",
      "\u001b[2K   \u001b[90m━━━━━━━━━━━━━━━━━━━━━━━━━━━━━━━━━━━━━━━━\u001b[0m \u001b[32m1.1/1.1 MB\u001b[0m \u001b[31m20.0 MB/s\u001b[0m eta \u001b[36m0:00:00\u001b[0ma \u001b[36m0:00:01\u001b[0m\n",
      "\u001b[?25hInstalling collected packages: torch-geometric\n",
      "^C\n",
      "\u001b[31mERROR: Operation cancelled by user\u001b[0m\u001b[31m\n",
      "\u001b[0m"
     ]
    }
   ],
   "source": [
    "import torch\n",
    "print(torch.__version__)  # e.g., 2.0.1\n",
    "\n",
    "# Example installation (this line may change based on the PyTorch Geometric docs)\n",
    "!pip install torch-scatter -f https://data.pyg.org/whl/torch-2.0.1+cu118.html\n",
    "!pip install torch-sparse -f https://data.pyg.org/whl/torch-2.0.1+cu118.html\n",
    "!pip install torch-geometric"
   ]
  },
  {
   "cell_type": "code",
   "execution_count": 4,
   "metadata": {
    "execution": {
     "iopub.execute_input": "2025-01-11T03:26:26.946546Z",
     "iopub.status.busy": "2025-01-11T03:26:26.945780Z",
     "iopub.status.idle": "2025-01-11T03:26:28.524287Z",
     "shell.execute_reply": "2025-01-11T03:26:28.523096Z",
     "shell.execute_reply.started": "2025-01-11T03:26:26.946515Z"
    },
    "trusted": true
   },
   "outputs": [
    {
     "name": "stdout",
     "output_type": "stream",
     "text": [
      "Collecting attrdict==2.0.1 (from -r requirements.txt (line 1))\n",
      "  Downloading attrdict-2.0.1-py2.py3-none-any.whl.metadata (6.7 kB)\n",
      "Requirement already satisfied: torch>=1.4.0 in /usr/local/lib/python3.10/dist-packages (from -r requirements.txt (line 2)) (2.4.1+cu121)\n",
      "Requirement already satisfied: torch-geometric>=1.4.2 in /usr/local/lib/python3.10/dist-packages (from -r requirements.txt (line 3)) (2.6.1)\n",
      "Requirement already satisfied: torch-scatter>=2.0.4 in /usr/local/lib/python3.10/dist-packages (from -r requirements.txt (line 4)) (2.1.2+pt20cu118)\n",
      "Requirement already satisfied: torch-sparse>=0.6.0 in /usr/local/lib/python3.10/dist-packages (from -r requirements.txt (line 5)) (0.6.18+pt20cu118)\n",
      "Requirement already satisfied: torchvision>=0.5.0 in /usr/local/lib/python3.10/dist-packages (from -r requirements.txt (line 6)) (0.19.1+cu121)\n",
      "Requirement already satisfied: six in /usr/local/lib/python3.10/dist-packages (from attrdict==2.0.1->-r requirements.txt (line 1)) (1.16.0)\n",
      "Requirement already satisfied: filelock in /usr/local/lib/python3.10/dist-packages (from torch>=1.4.0->-r requirements.txt (line 2)) (3.16.1)\n",
      "Requirement already satisfied: typing-extensions>=4.8.0 in /usr/local/lib/python3.10/dist-packages (from torch>=1.4.0->-r requirements.txt (line 2)) (4.12.2)\n",
      "Requirement already satisfied: sympy in /usr/local/lib/python3.10/dist-packages (from torch>=1.4.0->-r requirements.txt (line 2)) (1.13.3)\n",
      "Requirement already satisfied: networkx in /usr/local/lib/python3.10/dist-packages (from torch>=1.4.0->-r requirements.txt (line 2)) (3.3)\n",
      "Requirement already satisfied: jinja2 in /usr/local/lib/python3.10/dist-packages (from torch>=1.4.0->-r requirements.txt (line 2)) (3.1.4)\n",
      "Requirement already satisfied: fsspec in /usr/local/lib/python3.10/dist-packages (from torch>=1.4.0->-r requirements.txt (line 2)) (2024.6.1)\n",
      "Requirement already satisfied: aiohttp in /usr/local/lib/python3.10/dist-packages (from torch-geometric>=1.4.2->-r requirements.txt (line 3)) (3.10.5)\n",
      "Requirement already satisfied: numpy in /usr/local/lib/python3.10/dist-packages (from torch-geometric>=1.4.2->-r requirements.txt (line 3)) (1.26.4)\n",
      "Requirement already satisfied: psutil>=5.8.0 in /usr/local/lib/python3.10/dist-packages (from torch-geometric>=1.4.2->-r requirements.txt (line 3)) (5.9.5)\n",
      "Requirement already satisfied: pyparsing in /usr/local/lib/python3.10/dist-packages (from torch-geometric>=1.4.2->-r requirements.txt (line 3)) (3.1.4)\n",
      "Requirement already satisfied: requests in /usr/local/lib/python3.10/dist-packages (from torch-geometric>=1.4.2->-r requirements.txt (line 3)) (2.32.3)\n",
      "Requirement already satisfied: tqdm in /usr/local/lib/python3.10/dist-packages (from torch-geometric>=1.4.2->-r requirements.txt (line 3)) (4.66.5)\n",
      "Requirement already satisfied: scipy in /usr/local/lib/python3.10/dist-packages (from torch-sparse>=0.6.0->-r requirements.txt (line 5)) (1.13.1)\n",
      "Requirement already satisfied: pillow!=8.3.*,>=5.3.0 in /usr/local/lib/python3.10/dist-packages (from torchvision>=0.5.0->-r requirements.txt (line 6)) (10.4.0)\n",
      "Requirement already satisfied: aiohappyeyeballs>=2.3.0 in /usr/local/lib/python3.10/dist-packages (from aiohttp->torch-geometric>=1.4.2->-r requirements.txt (line 3)) (2.4.0)\n",
      "Requirement already satisfied: aiosignal>=1.1.2 in /usr/local/lib/python3.10/dist-packages (from aiohttp->torch-geometric>=1.4.2->-r requirements.txt (line 3)) (1.3.1)\n",
      "Requirement already satisfied: attrs>=17.3.0 in /usr/local/lib/python3.10/dist-packages (from aiohttp->torch-geometric>=1.4.2->-r requirements.txt (line 3)) (24.2.0)\n",
      "Requirement already satisfied: frozenlist>=1.1.1 in /usr/local/lib/python3.10/dist-packages (from aiohttp->torch-geometric>=1.4.2->-r requirements.txt (line 3)) (1.4.1)\n",
      "Requirement already satisfied: multidict<7.0,>=4.5 in /usr/local/lib/python3.10/dist-packages (from aiohttp->torch-geometric>=1.4.2->-r requirements.txt (line 3)) (6.1.0)\n",
      "Requirement already satisfied: yarl<2.0,>=1.0 in /usr/local/lib/python3.10/dist-packages (from aiohttp->torch-geometric>=1.4.2->-r requirements.txt (line 3)) (1.11.1)\n",
      "Requirement already satisfied: async-timeout<5.0,>=4.0 in /usr/local/lib/python3.10/dist-packages (from aiohttp->torch-geometric>=1.4.2->-r requirements.txt (line 3)) (4.0.3)\n",
      "Requirement already satisfied: MarkupSafe>=2.0 in /usr/local/lib/python3.10/dist-packages (from jinja2->torch>=1.4.0->-r requirements.txt (line 2)) (2.1.5)\n",
      "Requirement already satisfied: charset-normalizer<4,>=2 in /usr/local/lib/python3.10/dist-packages (from requests->torch-geometric>=1.4.2->-r requirements.txt (line 3)) (3.3.2)\n",
      "Requirement already satisfied: idna<4,>=2.5 in /usr/local/lib/python3.10/dist-packages (from requests->torch-geometric>=1.4.2->-r requirements.txt (line 3)) (3.10)\n",
      "Requirement already satisfied: urllib3<3,>=1.21.1 in /usr/local/lib/python3.10/dist-packages (from requests->torch-geometric>=1.4.2->-r requirements.txt (line 3)) (2.2.3)\n",
      "Requirement already satisfied: certifi>=2017.4.17 in /usr/local/lib/python3.10/dist-packages (from requests->torch-geometric>=1.4.2->-r requirements.txt (line 3)) (2024.8.30)\n",
      "Requirement already satisfied: mpmath<1.4,>=1.1.0 in /usr/local/lib/python3.10/dist-packages (from sympy->torch>=1.4.0->-r requirements.txt (line 2)) (1.3.0)\n",
      "Downloading attrdict-2.0.1-py2.py3-none-any.whl (9.9 kB)\n",
      "^C\n",
      "\u001b[31mERROR: Operation cancelled by user\u001b[0m\u001b[31m\n",
      "\u001b[0m"
     ]
    }
   ],
   "source": [
    "!pip install -r requirements.txt"
   ]
  },
  {
   "cell_type": "code",
   "execution_count": 5,
   "metadata": {
    "execution": {
     "iopub.execute_input": "2025-01-11T03:26:28.526214Z",
     "iopub.status.busy": "2025-01-11T03:26:28.525825Z",
     "iopub.status.idle": "2025-01-11T03:26:31.701690Z",
     "shell.execute_reply": "2025-01-11T03:26:31.700543Z",
     "shell.execute_reply.started": "2025-01-11T03:26:28.526169Z"
    },
    "trusted": true
   },
   "outputs": [
    {
     "name": "stdout",
     "output_type": "stream",
     "text": [
      "Requirement already satisfied: scikit-learn in /usr/local/lib/python3.10/dist-packages (1.2.2)\n",
      "Requirement already satisfied: numpy>=1.17.3 in /usr/local/lib/python3.10/dist-packages (from scikit-learn) (1.26.4)\n",
      "Requirement already satisfied: scipy>=1.3.2 in /usr/local/lib/python3.10/dist-packages (from scikit-learn) (1.13.1)\n",
      "Requirement already satisfied: joblib>=1.1.1 in /usr/local/lib/python3.10/dist-packages (from scikit-learn) (1.4.2)\n",
      "Requirement already satisfied: threadpoolctl>=2.0.0 in /usr/local/lib/python3.10/dist-packages (from scikit-learn) (3.5.0)\n"
     ]
    }
   ],
   "source": [
    "!pip install scikit-learn"
   ]
  },
  {
   "cell_type": "code",
   "execution_count": 6,
   "metadata": {
    "execution": {
     "iopub.execute_input": "2025-01-11T03:26:31.704977Z",
     "iopub.status.busy": "2025-01-11T03:26:31.704749Z",
     "iopub.status.idle": "2025-01-11T03:26:37.001331Z",
     "shell.execute_reply": "2025-01-11T03:26:37.000452Z",
     "shell.execute_reply.started": "2025-01-11T03:26:31.704959Z"
    },
    "trusted": true
   },
   "outputs": [
    {
     "name": "stdout",
     "output_type": "stream",
     "text": [
      "/usr/local/lib/python3.10/dist-packages/torch_geometric/typing.py:86: UserWarning: An issue occurred while importing 'torch-scatter'. Disabling its usage. Stacktrace: /usr/local/lib/python3.10/dist-packages/torch_scatter/_version_cuda.so: undefined symbol: _ZN3c1017RegisterOperatorsD1Ev\n",
      "  warnings.warn(f\"An issue occurred while importing 'torch-scatter'. \"\n",
      "/usr/local/lib/python3.10/dist-packages/torch_geometric/typing.py:124: UserWarning: An issue occurred while importing 'torch-sparse'. Disabling its usage. Stacktrace: /usr/local/lib/python3.10/dist-packages/torch_sparse/_version_cuda.so: undefined symbol: _ZN3c1017RegisterOperatorsD1Ev\n",
      "  warnings.warn(f\"An issue occurred while importing 'torch-sparse'. \"\n"
     ]
    }
   ],
   "source": [
    "!python -c 'import torch; import torch_geometric'"
   ]
  },
  {
   "cell_type": "code",
   "execution_count": 7,
   "metadata": {
    "execution": {
     "iopub.execute_input": "2025-01-11T03:26:37.003141Z",
     "iopub.status.busy": "2025-01-11T03:26:37.002822Z",
     "iopub.status.idle": "2025-01-11T03:26:41.577426Z",
     "shell.execute_reply": "2025-01-11T03:26:41.576323Z",
     "shell.execute_reply.started": "2025-01-11T03:26:37.003119Z"
    },
    "trusted": true
   },
   "outputs": [
    {
     "name": "stdout",
     "output_type": "stream",
     "text": [
      "\u001b[33mWARNING: Skipping attrdict as it is not installed.\u001b[0m\u001b[33m\n",
      "\u001b[0mCollecting attrdict==2.0.1\n",
      "  Using cached attrdict-2.0.1-py2.py3-none-any.whl.metadata (6.7 kB)\n",
      "Requirement already satisfied: six in /usr/local/lib/python3.10/dist-packages (from attrdict==2.0.1) (1.16.0)\n",
      "Using cached attrdict-2.0.1-py2.py3-none-any.whl (9.9 kB)\n",
      "Installing collected packages: attrdict\n",
      "Successfully installed attrdict-2.0.1\n"
     ]
    }
   ],
   "source": [
    "# Uninstall any existing attrdict to ensure a clean reinstall\n",
    "!pip uninstall -y attrdict\n",
    "\n",
    "# Reinstall attrdict (so we can then patch it)\n",
    "!pip install attrdict==2.0.1\n",
    "\n",
    "# Replace \"from collections import Mapping, MutableMapping, Sequence\"\n",
    "# with \"from collections.abc import Mapping, MutableMapping, Sequence\"\n",
    "!sed -i 's/from collections import Mapping, MutableMapping, Sequence/from collections.abc import Mapping, MutableMapping, Sequence/g' /usr/local/lib/python3.10/dist-packages/attrdict/*.py\n",
    "\n",
    "# Sometimes they're imported separately, so let's handle those too:\n",
    "!sed -i 's/from collections import Mapping/from collections.abc import Mapping/g' /usr/local/lib/python3.10/dist-packages/attrdict/*.py\n",
    "!sed -i 's/from collections import MutableMapping/from collections.abc import MutableMapping/g' /usr/local/lib/python3.10/dist-packages/attrdict/*.py\n",
    "!sed -i 's/from collections import Sequence/from collections.abc import Sequence/g' /usr/local/lib/python3.10/dist-packages/attrdict/*.py\n"
   ]
  },
  {
   "cell_type": "code",
   "execution_count": 8,
   "metadata": {
    "execution": {
     "iopub.execute_input": "2025-01-11T03:26:41.578637Z",
     "iopub.status.busy": "2025-01-11T03:26:41.578420Z",
     "iopub.status.idle": "2025-01-11T03:26:44.692224Z",
     "shell.execute_reply": "2025-01-11T03:26:44.691348Z",
     "shell.execute_reply.started": "2025-01-11T03:26:41.578619Z"
    },
    "trusted": true
   },
   "outputs": [
    {
     "name": "stdout",
     "output_type": "stream",
     "text": [
      "Looking in links: https://data.pyg.org/whl/torch-2.4.1+cu121.html\n",
      "Requirement already satisfied: torch-scatter in /usr/local/lib/python3.10/dist-packages (2.1.2+pt20cu118)\n"
     ]
    }
   ],
   "source": [
    "!pip install torch-scatter -f https://data.pyg.org/whl/torch-2.4.1+cu121.html\n",
    "\n"
   ]
  },
  {
   "cell_type": "code",
   "execution_count": 9,
   "metadata": {
    "execution": {
     "iopub.execute_input": "2025-01-11T03:26:44.693672Z",
     "iopub.status.busy": "2025-01-11T03:26:44.693345Z",
     "iopub.status.idle": "2025-01-11T03:26:47.526520Z",
     "shell.execute_reply": "2025-01-11T03:26:47.525538Z",
     "shell.execute_reply.started": "2025-01-11T03:26:44.693641Z"
    },
    "trusted": true
   },
   "outputs": [
    {
     "name": "stdout",
     "output_type": "stream",
     "text": [
      "Name: torch-scatter\n",
      "Version: 2.1.2+pt20cu118\n",
      "Summary: PyTorch Extension Library of Optimized Scatter Operations\n",
      "Home-page: https://github.com/rusty1s/pytorch_scatter\n",
      "Author: Matthias Fey\n",
      "Author-email: matthias.fey@tu-dortmund.de\n",
      "License: \n",
      "Location: /usr/local/lib/python3.10/dist-packages\n",
      "Requires: \n",
      "Required-by: \n",
      "Note: you may need to restart the kernel to use updated packages.\n"
     ]
    }
   ],
   "source": [
    "pip show torch-scatter\n"
   ]
  },
  {
   "cell_type": "code",
   "execution_count": 10,
   "metadata": {
    "execution": {
     "iopub.execute_input": "2025-01-11T03:26:47.527990Z",
     "iopub.status.busy": "2025-01-11T03:26:47.527643Z",
     "iopub.status.idle": "2025-01-11T03:26:51.946116Z",
     "shell.execute_reply": "2025-01-11T03:26:51.944976Z",
     "shell.execute_reply.started": "2025-01-11T03:26:47.527958Z"
    },
    "trusted": true
   },
   "outputs": [
    {
     "name": "stdout",
     "output_type": "stream",
     "text": [
      "/usr/local/lib/python3.10/dist-packages/torch_geometric/typing.py:86: UserWarning: An issue occurred while importing 'torch-scatter'. Disabling its usage. Stacktrace: /usr/local/lib/python3.10/dist-packages/torch_scatter/_version_cuda.so: undefined symbol: _ZN3c1017RegisterOperatorsD1Ev\n",
      "  warnings.warn(f\"An issue occurred while importing 'torch-scatter'. \"\n",
      "/usr/local/lib/python3.10/dist-packages/torch_geometric/typing.py:124: UserWarning: An issue occurred while importing 'torch-sparse'. Disabling its usage. Stacktrace: /usr/local/lib/python3.10/dist-packages/torch_sparse/_version_cuda.so: undefined symbol: _ZN3c1017RegisterOperatorsD1Ev\n",
      "  warnings.warn(f\"An issue occurred while importing 'torch-sparse'. \"\n",
      "usage: main.py [-h] [--task {Task.NEIGHBORS_MATCH}]\n",
      "               [--type {GNN_TYPE.GCN,GNN_TYPE.GGNN,GNN_TYPE.GIN,GNN_TYPE.GAT,GNN_TYPE.GSAGE_MEAN,GNN_TYPE.GSAGE_MAX,GNN_TYPE.GSAGE_MIN,GNN_TYPE.GSAGE_SUM}]\n",
      "               [--dim DIM] [--depth DEPTH] [--num_layers NUM_LAYERS]\n",
      "               [--train_fraction TRAIN_FRACTION] [--max_epochs MAX_EPOCHS]\n",
      "               [--eval_every EVAL_EVERY] [--batch_size BATCH_SIZE] [--accum_grad ACCUM_GRAD]\n",
      "               [--stop {STOP.TRAIN,STOP.TEST}] [--patience PATIENCE]\n",
      "               [--loader_workers LOADER_WORKERS] [--last_layer_fully_adjacent] [--no_layer_norm]\n",
      "               [--no_activation] [--no_residual] [--unroll]\n",
      "               [--resume_checkpoint RESUME_CHECKPOINT]\n",
      "\n",
      "options:\n",
      "  -h, --help            show this help message and exit\n",
      "  --task {Task.NEIGHBORS_MATCH}\n",
      "  --type {GNN_TYPE.GCN,GNN_TYPE.GGNN,GNN_TYPE.GIN,GNN_TYPE.GAT,GNN_TYPE.GSAGE_MEAN,GNN_TYPE.GSAGE_MAX,GNN_TYPE.GSAGE_MIN,GNN_TYPE.GSAGE_SUM}\n",
      "  --dim DIM\n",
      "  --depth DEPTH\n",
      "  --num_layers NUM_LAYERS\n",
      "  --train_fraction TRAIN_FRACTION\n",
      "  --max_epochs MAX_EPOCHS\n",
      "  --eval_every EVAL_EVERY\n",
      "  --batch_size BATCH_SIZE\n",
      "  --accum_grad ACCUM_GRAD\n",
      "  --stop {STOP.TRAIN,STOP.TEST}\n",
      "  --patience PATIENCE\n",
      "  --loader_workers LOADER_WORKERS\n",
      "  --last_layer_fully_adjacent\n",
      "  --no_layer_norm\n",
      "  --no_activation\n",
      "  --no_residual\n",
      "  --unroll              use the same weights across GNN layers\n",
      "  --resume_checkpoint RESUME_CHECKPOINT\n",
      "                        Path to the checkpoint file to resume training\n"
     ]
    }
   ],
   "source": [
    "!python main.py --help"
   ]
  },
  {
   "cell_type": "code",
   "execution_count": 11,
   "metadata": {
    "execution": {
     "iopub.execute_input": "2025-01-11T03:26:51.948005Z",
     "iopub.status.busy": "2025-01-11T03:26:51.947624Z",
     "iopub.status.idle": "2025-01-11T03:26:51.955469Z",
     "shell.execute_reply": "2025-01-11T03:26:51.954766Z",
     "shell.execute_reply.started": "2025-01-11T03:26:51.947970Z"
    },
    "trusted": true
   },
   "outputs": [
    {
     "data": {
      "text/html": [
       "Path (<tt>/kaggle/working/project/checkpoints/checkpoint_epoch_25000.pt</tt>) doesn't exist. It may still be in the process of being generated, or you may have the incorrect path."
      ],
      "text/plain": [
       "/kaggle/working/project/checkpoints/checkpoint_epoch_25000.pt"
      ]
     },
     "execution_count": 11,
     "metadata": {},
     "output_type": "execute_result"
    }
   ],
   "source": [
    "from IPython.display import FileLink\n",
    "\n",
    "# Assuming the checkpoint file is located at 'checkpoints/checkpoint_epoch_25000.pt'\n",
    "file_path = '/kaggle/working/project/checkpoints/checkpoint_epoch_25000.pt'\n",
    "\n",
    "# Create a download link\n",
    "FileLink(file_path)\n"
   ]
  },
  {
   "cell_type": "code",
   "execution_count": 15,
   "metadata": {
    "execution": {
     "iopub.execute_input": "2025-01-11T03:27:16.755203Z",
     "iopub.status.busy": "2025-01-11T03:27:16.754757Z",
     "iopub.status.idle": "2025-01-11T09:48:14.709024Z",
     "shell.execute_reply": "2025-01-11T09:48:14.707988Z",
     "shell.execute_reply.started": "2025-01-11T03:27:16.755163Z"
    },
    "trusted": true
   },
   "outputs": [
    {
     "name": "stdout",
     "output_type": "stream",
     "text": [
      "/usr/local/lib/python3.10/dist-packages/torch_geometric/typing.py:86: UserWarning: An issue occurred while importing 'torch-scatter'. Disabling its usage. Stacktrace: /usr/local/lib/python3.10/dist-packages/torch_scatter/_version_cuda.so: undefined symbol: _ZN3c1017RegisterOperatorsD1Ev\n",
      "  warnings.warn(f\"An issue occurred while importing 'torch-scatter'. \"\n",
      "/usr/local/lib/python3.10/dist-packages/torch_geometric/typing.py:124: UserWarning: An issue occurred while importing 'torch-sparse'. Disabling its usage. Stacktrace: /usr/local/lib/python3.10/dist-packages/torch_sparse/_version_cuda.so: undefined symbol: _ZN3c1017RegisterOperatorsD1Ev\n",
      "  warnings.warn(f\"An issue occurred while importing 'torch-sparse'. \"\n",
      "Starting experiment\n",
      "task: Task.NEIGHBORS_MATCH\n",
      "type: GNN_TYPE.GSAGE_MEAN\n",
      "dim: 32\n",
      "depth: 3\n",
      "num_layers: 4\n",
      "train_fraction: 0.8\n",
      "max_epochs: 50000\n",
      "eval_every: 100\n",
      "batch_size: 64\n",
      "accum_grad: 1\n",
      "stop: STOP.TRAIN\n",
      "patience: 20\n",
      "loader_workers: 7\n",
      "last_layer_fully_adjacent: False\n",
      "no_layer_norm: False\n",
      "no_activation: True\n",
      "no_residual: False\n",
      "unroll: False\n",
      "resume_checkpoint: checkpoint_epoch_32000.pt\n",
      "\n",
      "Training examples: 6400, test examples: 1600\n",
      "/kaggle/working/project/experiment.py:85: FutureWarning: You are using `torch.load` with `weights_only=False` (the current default value), which uses the default pickle module implicitly. It is possible to construct malicious pickle data which will execute arbitrary code during unpickling (See https://github.com/pytorch/pytorch/blob/main/SECURITY.md#untrusted-models for more details). In a future release, the default value for `weights_only` will be flipped to `True`. This limits the functions that could be executed during unpickling. Arbitrary objects will no longer be allowed to be loaded via this mode unless they are explicitly allowlisted by the user via `torch.serialization.add_safe_globals`. We recommend you start setting `weights_only=True` for any use case where you don't have full control of the loaded file. Please open an issue on GitHub for any issues related to this experimental feature.\n",
      "  checkpoint = torch.load(resume_checkpoint, map_location=self.device)\n",
      "Resuming training from epoch 320, best_test_acc=0.64375, best_train_acc=0.694521875\n",
      "Starting training\n",
      "/usr/local/lib/python3.10/dist-packages/torch_geometric/deprecation.py:26: UserWarning: 'data.DataLoader' is deprecated, use 'loader.DataLoader' instead\n",
      "  warnings.warn(out)\n",
      "/usr/local/lib/python3.10/dist-packages/torch/utils/data/dataloader.py:557: UserWarning: This DataLoader will create 7 worker processes in total. Our suggested max number of worker in current system is 4, which is smaller than what this DataLoader is going to create. Please be aware that excessive worker creation might get DataLoader running slow or even freeze, lower the worker number to avoid potential slowness/freeze if necessary.\n",
      "  warnings.warn(_create_warning_msg(\n",
      "Epoch 32100, LR: [0.000125]: Train loss: 0.3677628, Train acc: 0.6943, Test accuracy: 0.6613\n",
      "Epoch 32200, LR: [0.000125]: Train loss: 0.3679387, Train acc: 0.6959, Test accuracy: 0.6687 (new best train)\n",
      "Epoch 32300, LR: [0.000125]: Train loss: 0.3677861, Train acc: 0.6966, Test accuracy: 0.6675 (new best train)\n",
      "Epoch 32400, LR: [0.000125]: Train loss: 0.3678294, Train acc: 0.6953, Test accuracy: 0.6581\n",
      "Epoch 32500, LR: [0.000125]: Train loss: 0.3676904, Train acc: 0.6971, Test accuracy: 0.6700 (new best train)\n",
      "Epoch 32600, LR: [0.000125]: Train loss: 0.3677271, Train acc: 0.6977, Test accuracy: 0.6650 (new best train)\n",
      "Epoch 32700, LR: [0.000125]: Train loss: 0.3674240, Train acc: 0.6967, Test accuracy: 0.6637\n",
      "Epoch 32800, LR: [0.000125]: Train loss: 0.3674666, Train acc: 0.6972, Test accuracy: 0.6725\n",
      "Epoch 32900, LR: [0.000125]: Train loss: 0.3673243, Train acc: 0.6968, Test accuracy: 0.6500\n",
      "Epoch 33000, LR: [0.000125]: Train loss: 0.3676284, Train acc: 0.6968, Test accuracy: 0.6587\n",
      "Checkpoint saved at epoch 33000 -> checkpoints/checkpoint_epoch_33000.pt\n",
      "Epoch 33100, LR: [0.000125]: Train loss: 0.3674423, Train acc: 0.6970, Test accuracy: 0.6575\n",
      "Epoch 33200, LR: [0.000125]: Train loss: 0.3674862, Train acc: 0.6975, Test accuracy: 0.6631\n",
      "Epoch 33300, LR: [0.000125]: Train loss: 0.3675584, Train acc: 0.6974, Test accuracy: 0.6550\n",
      "Epoch 33400, LR: [0.000125]: Train loss: 0.3671579, Train acc: 0.6980, Test accuracy: 0.6656 (new best train)\n",
      "Epoch 33500, LR: [0.000125]: Train loss: 0.3673525, Train acc: 0.6971, Test accuracy: 0.6619\n",
      "Epoch 33600, LR: [0.000125]: Train loss: 0.3669328, Train acc: 0.6984, Test accuracy: 0.6606 (new best train)\n",
      "Epoch 33700, LR: [0.000125]: Train loss: 0.3676180, Train acc: 0.6983, Test accuracy: 0.6544\n",
      "Epoch 33800, LR: [0.000125]: Train loss: 0.3672607, Train acc: 0.6988, Test accuracy: 0.6706 (new best train)\n",
      "Epoch 33900, LR: [0.000125]: Train loss: 0.3672155, Train acc: 0.6998, Test accuracy: 0.6400 (new best train)\n",
      "Epoch 34000, LR: [0.000125]: Train loss: 0.3672517, Train acc: 0.6973, Test accuracy: 0.6569\n",
      "Checkpoint saved at epoch 34000 -> checkpoints/checkpoint_epoch_34000.pt\n",
      "Epoch 34100, LR: [0.000125]: Train loss: 0.3670174, Train acc: 0.6983, Test accuracy: 0.6531\n",
      "Epoch 34200, LR: [0.000125]: Train loss: 0.3668591, Train acc: 0.6992, Test accuracy: 0.6606\n",
      "Epoch 34300, LR: [0.000125]: Train loss: 0.3670283, Train acc: 0.6984, Test accuracy: 0.6700\n",
      "Epoch 34400, LR: [0.000125]: Train loss: 0.3669295, Train acc: 0.6992, Test accuracy: 0.6350\n",
      "Epoch 34500, LR: [0.000125]: Train loss: 0.3668969, Train acc: 0.6992, Test accuracy: 0.6600\n",
      "Epoch 34600, LR: [0.000125]: Train loss: 0.3668685, Train acc: 0.6991, Test accuracy: 0.6625\n",
      "Epoch 34700, LR: [0.000125]: Train loss: 0.3669614, Train acc: 0.6995, Test accuracy: 0.6481\n",
      "Epoch 34800, LR: [0.000125]: Train loss: 0.3670167, Train acc: 0.6992, Test accuracy: 0.6494\n",
      "Epoch 34900, LR: [0.000125]: Train loss: 0.3667843, Train acc: 0.6999, Test accuracy: 0.6644\n",
      "Epoch 35000, LR: [0.000125]: Train loss: 0.3669820, Train acc: 0.7003, Test accuracy: 0.6569 (new best train)\n",
      "Checkpoint saved at epoch 35000 -> checkpoints/checkpoint_epoch_35000.pt\n",
      "Epoch 35100, LR: [0.000125]: Train loss: 0.3669214, Train acc: 0.7000, Test accuracy: 0.6631\n",
      "Epoch 35200, LR: [0.000125]: Train loss: 0.3671142, Train acc: 0.6998, Test accuracy: 0.6381\n",
      "Epoch 35300, LR: [0.000125]: Train loss: 0.3666327, Train acc: 0.6983, Test accuracy: 0.6763\n",
      "Epoch 35400, LR: [0.000125]: Train loss: 0.3669519, Train acc: 0.7002, Test accuracy: 0.6338\n",
      "Epoch 35500, LR: [0.000125]: Train loss: 0.3667984, Train acc: 0.6986, Test accuracy: 0.6600\n",
      "Epoch 35600, LR: [0.000125]: Train loss: 0.3666955, Train acc: 0.6994, Test accuracy: 0.6581\n",
      "Epoch 35700, LR: [0.000125]: Train loss: 0.3666967, Train acc: 0.7003, Test accuracy: 0.6700\n",
      "Epoch 35800, LR: [0.000125]: Train loss: 0.3667955, Train acc: 0.7002, Test accuracy: 0.6675\n",
      "Epoch 35900, LR: [0.000125]: Train loss: 0.3671043, Train acc: 0.6996, Test accuracy: 0.6675\n",
      "Epoch 36000, LR: [0.000125]: Train loss: 0.3669077, Train acc: 0.6996, Test accuracy: 0.6531\n",
      "Checkpoint saved at epoch 36000 -> checkpoints/checkpoint_epoch_36000.pt\n",
      "Epoch 36100, LR: [6.25e-05]: Train loss: 0.3667729, Train acc: 0.6992, Test accuracy: 0.6650\n",
      "Epoch 36200, LR: [6.25e-05]: Train loss: 0.3629405, Train acc: 0.7055, Test accuracy: 0.6700 (new best train)\n",
      "Epoch 36300, LR: [6.25e-05]: Train loss: 0.3628102, Train acc: 0.7054, Test accuracy: 0.6713\n",
      "Epoch 36400, LR: [6.25e-05]: Train loss: 0.3626997, Train acc: 0.7065, Test accuracy: 0.6506 (new best train)\n",
      "Epoch 36500, LR: [6.25e-05]: Train loss: 0.3625558, Train acc: 0.7061, Test accuracy: 0.6512\n",
      "Epoch 36600, LR: [6.25e-05]: Train loss: 0.3624224, Train acc: 0.7064, Test accuracy: 0.6575\n",
      "Epoch 36700, LR: [6.25e-05]: Train loss: 0.3623678, Train acc: 0.7072, Test accuracy: 0.6650 (new best train)\n",
      "Epoch 36800, LR: [6.25e-05]: Train loss: 0.3622366, Train acc: 0.7058, Test accuracy: 0.6756\n",
      "Epoch 36900, LR: [6.25e-05]: Train loss: 0.3622005, Train acc: 0.7066, Test accuracy: 0.6731\n",
      "Epoch 37000, LR: [6.25e-05]: Train loss: 0.3621208, Train acc: 0.7072, Test accuracy: 0.6669\n",
      "Checkpoint saved at epoch 37000 -> checkpoints/checkpoint_epoch_37000.pt\n",
      "Epoch 37100, LR: [6.25e-05]: Train loss: 0.3620331, Train acc: 0.7074, Test accuracy: 0.6706 (new best train)\n",
      "Epoch 37200, LR: [6.25e-05]: Train loss: 0.3619185, Train acc: 0.7071, Test accuracy: 0.6600\n",
      "Epoch 37300, LR: [6.25e-05]: Train loss: 0.3620469, Train acc: 0.7080, Test accuracy: 0.6562 (new best train)\n",
      "Epoch 37400, LR: [6.25e-05]: Train loss: 0.3619846, Train acc: 0.7074, Test accuracy: 0.6787\n",
      "Epoch 37500, LR: [6.25e-05]: Train loss: 0.3617051, Train acc: 0.7088, Test accuracy: 0.6562 (new best train)\n",
      "Epoch 37600, LR: [6.25e-05]: Train loss: 0.3617484, Train acc: 0.7086, Test accuracy: 0.6575\n",
      "Epoch 37700, LR: [6.25e-05]: Train loss: 0.3618210, Train acc: 0.7083, Test accuracy: 0.6644\n",
      "Epoch 37800, LR: [6.25e-05]: Train loss: 0.3616808, Train acc: 0.7069, Test accuracy: 0.6719\n",
      "Epoch 37900, LR: [6.25e-05]: Train loss: 0.3616586, Train acc: 0.7079, Test accuracy: 0.6619\n",
      "Epoch 38000, LR: [6.25e-05]: Train loss: 0.3616273, Train acc: 0.7071, Test accuracy: 0.6775\n",
      "Checkpoint saved at epoch 38000 -> checkpoints/checkpoint_epoch_38000.pt\n",
      "Epoch 38100, LR: [6.25e-05]: Train loss: 0.3616009, Train acc: 0.7079, Test accuracy: 0.6625\n",
      "Epoch 38200, LR: [6.25e-05]: Train loss: 0.3615585, Train acc: 0.7075, Test accuracy: 0.6787\n",
      "Epoch 38300, LR: [6.25e-05]: Train loss: 0.3614637, Train acc: 0.7078, Test accuracy: 0.6700\n",
      "Epoch 38400, LR: [6.25e-05]: Train loss: 0.3614102, Train acc: 0.7082, Test accuracy: 0.6700\n",
      "Epoch 38500, LR: [6.25e-05]: Train loss: 0.3615261, Train acc: 0.7090, Test accuracy: 0.6650 (new best train)\n",
      "Epoch 38600, LR: [6.25e-05]: Train loss: 0.3613393, Train acc: 0.7102, Test accuracy: 0.6600 (new best train)\n",
      "Epoch 38700, LR: [6.25e-05]: Train loss: 0.3613202, Train acc: 0.7100, Test accuracy: 0.6656\n",
      "Epoch 38800, LR: [6.25e-05]: Train loss: 0.3614451, Train acc: 0.7085, Test accuracy: 0.6700\n",
      "Epoch 38900, LR: [6.25e-05]: Train loss: 0.3612647, Train acc: 0.7085, Test accuracy: 0.6781\n",
      "Epoch 39000, LR: [6.25e-05]: Train loss: 0.3612123, Train acc: 0.7098, Test accuracy: 0.6525\n",
      "Checkpoint saved at epoch 39000 -> checkpoints/checkpoint_epoch_39000.pt\n",
      "Epoch 39100, LR: [6.25e-05]: Train loss: 0.3614180, Train acc: 0.7086, Test accuracy: 0.6694\n",
      "Epoch 39200, LR: [6.25e-05]: Train loss: 0.3612262, Train acc: 0.7098, Test accuracy: 0.6644\n",
      "Epoch 39300, LR: [6.25e-05]: Train loss: 0.3611381, Train acc: 0.7097, Test accuracy: 0.6456\n",
      "Epoch 39400, LR: [6.25e-05]: Train loss: 0.3611971, Train acc: 0.7093, Test accuracy: 0.6725\n",
      "Epoch 39500, LR: [6.25e-05]: Train loss: 0.3610574, Train acc: 0.7103, Test accuracy: 0.6656 (new best train)\n",
      "Epoch 39600, LR: [6.25e-05]: Train loss: 0.3611464, Train acc: 0.7091, Test accuracy: 0.6725\n",
      "Epoch 39700, LR: [6.25e-05]: Train loss: 0.3610674, Train acc: 0.7099, Test accuracy: 0.6675\n",
      "Epoch 39800, LR: [6.25e-05]: Train loss: 0.3611944, Train acc: 0.7082, Test accuracy: 0.6713\n",
      "Epoch 39900, LR: [6.25e-05]: Train loss: 0.3608731, Train acc: 0.7103, Test accuracy: 0.6706\n",
      "Epoch 40000, LR: [6.25e-05]: Train loss: 0.3611629, Train acc: 0.7095, Test accuracy: 0.6706\n",
      "Checkpoint saved at epoch 40000 -> checkpoints/checkpoint_epoch_40000.pt\n",
      "Epoch 40100, LR: [6.25e-05]: Train loss: 0.3609616, Train acc: 0.7090, Test accuracy: 0.6769\n",
      "Epoch 40200, LR: [6.25e-05]: Train loss: 0.3608954, Train acc: 0.7094, Test accuracy: 0.6600\n",
      "Epoch 40300, LR: [6.25e-05]: Train loss: 0.3609936, Train acc: 0.7107, Test accuracy: 0.6625 (new best train)\n",
      "Epoch 40400, LR: [6.25e-05]: Train loss: 0.3610089, Train acc: 0.7097, Test accuracy: 0.6694\n",
      "Epoch 40500, LR: [6.25e-05]: Train loss: 0.3610119, Train acc: 0.7099, Test accuracy: 0.6769\n",
      "Epoch 40600, LR: [6.25e-05]: Train loss: 0.3607510, Train acc: 0.7097, Test accuracy: 0.6687\n",
      "Epoch 40700, LR: [6.25e-05]: Train loss: 0.3609608, Train acc: 0.7093, Test accuracy: 0.6625\n",
      "Epoch 40800, LR: [6.25e-05]: Train loss: 0.3608882, Train acc: 0.7099, Test accuracy: 0.6625\n",
      "Epoch 40900, LR: [6.25e-05]: Train loss: 0.3610213, Train acc: 0.7096, Test accuracy: 0.6619\n",
      "Epoch 41000, LR: [6.25e-05]: Train loss: 0.3612723, Train acc: 0.7094, Test accuracy: 0.6650\n",
      "Checkpoint saved at epoch 41000 -> checkpoints/checkpoint_epoch_41000.pt\n",
      "Epoch 41100, LR: [6.25e-05]: Train loss: 0.3605334, Train acc: 0.7109, Test accuracy: 0.6663 (new best train)\n",
      "Epoch 41200, LR: [6.25e-05]: Train loss: 0.3608761, Train acc: 0.7101, Test accuracy: 0.6675\n",
      "Epoch 41300, LR: [6.25e-05]: Train loss: 0.3607287, Train acc: 0.7095, Test accuracy: 0.6631\n",
      "Epoch 41400, LR: [6.25e-05]: Train loss: 0.3610676, Train acc: 0.7104, Test accuracy: 0.6706\n",
      "Epoch 41500, LR: [6.25e-05]: Train loss: 0.3606447, Train acc: 0.7109, Test accuracy: 0.6700\n",
      "Epoch 41600, LR: [6.25e-05]: Train loss: 0.3609948, Train acc: 0.7104, Test accuracy: 0.6625\n",
      "Epoch 41700, LR: [6.25e-05]: Train loss: 0.3610701, Train acc: 0.7088, Test accuracy: 0.6575\n",
      "Epoch 41800, LR: [6.25e-05]: Train loss: 0.3607297, Train acc: 0.7111, Test accuracy: 0.6587 (new best train)\n",
      "Epoch 41900, LR: [6.25e-05]: Train loss: 0.3609374, Train acc: 0.7095, Test accuracy: 0.6531\n",
      "Epoch 42000, LR: [6.25e-05]: Train loss: 0.3606847, Train acc: 0.7116, Test accuracy: 0.6637 (new best train)\n",
      "Checkpoint saved at epoch 42000 -> checkpoints/checkpoint_epoch_42000.pt\n",
      "Epoch 42100, LR: [6.25e-05]: Train loss: 0.3604714, Train acc: 0.7105, Test accuracy: 0.6775\n",
      "Epoch 42200, LR: [6.25e-05]: Train loss: 0.3606871, Train acc: 0.7111, Test accuracy: 0.6737\n",
      "Epoch 42300, LR: [6.25e-05]: Train loss: 0.3606571, Train acc: 0.7107, Test accuracy: 0.6669\n",
      "Epoch 42400, LR: [6.25e-05]: Train loss: 0.3606600, Train acc: 0.7097, Test accuracy: 0.6631\n",
      "Epoch 42500, LR: [6.25e-05]: Train loss: 0.3607282, Train acc: 0.7111, Test accuracy: 0.6656\n",
      "Epoch 42600, LR: [6.25e-05]: Train loss: 0.3605521, Train acc: 0.7103, Test accuracy: 0.6631\n",
      "Epoch 42700, LR: [6.25e-05]: Train loss: 0.3607326, Train acc: 0.7093, Test accuracy: 0.6687\n",
      "Epoch 42800, LR: [6.25e-05]: Train loss: 0.3607712, Train acc: 0.7104, Test accuracy: 0.6594\n",
      "Epoch 42900, LR: [6.25e-05]: Train loss: 0.3603991, Train acc: 0.7110, Test accuracy: 0.6725\n",
      "Epoch 43000, LR: [6.25e-05]: Train loss: 0.3604619, Train acc: 0.7112, Test accuracy: 0.6531\n",
      "Checkpoint saved at epoch 43000 -> checkpoints/checkpoint_epoch_43000.pt\n",
      "Epoch 43100, LR: [3.125e-05]: Train loss: 0.3605340, Train acc: 0.7109, Test accuracy: 0.6569\n",
      "Epoch 43200, LR: [3.125e-05]: Train loss: 0.3584553, Train acc: 0.7118, Test accuracy: 0.6663 (new best train)\n",
      "Epoch 43300, LR: [3.125e-05]: Train loss: 0.3584101, Train acc: 0.7140, Test accuracy: 0.6619 (new best train)\n",
      "Epoch 43400, LR: [3.125e-05]: Train loss: 0.3583239, Train acc: 0.7119, Test accuracy: 0.6687\n",
      "Epoch 43500, LR: [3.125e-05]: Train loss: 0.3583390, Train acc: 0.7132, Test accuracy: 0.6713\n",
      "Epoch 43600, LR: [3.125e-05]: Train loss: 0.3583018, Train acc: 0.7130, Test accuracy: 0.6613\n",
      "Epoch 43700, LR: [3.125e-05]: Train loss: 0.3582129, Train acc: 0.7133, Test accuracy: 0.6669\n",
      "Epoch 43800, LR: [3.125e-05]: Train loss: 0.3582559, Train acc: 0.7138, Test accuracy: 0.6613\n",
      "Epoch 43900, LR: [3.125e-05]: Train loss: 0.3581598, Train acc: 0.7135, Test accuracy: 0.6669\n",
      "Epoch 44000, LR: [3.125e-05]: Train loss: 0.3581781, Train acc: 0.7137, Test accuracy: 0.6700\n",
      "Checkpoint saved at epoch 44000 -> checkpoints/checkpoint_epoch_44000.pt\n",
      "Epoch 44100, LR: [3.125e-05]: Train loss: 0.3581662, Train acc: 0.7130, Test accuracy: 0.6644\n",
      "Epoch 44200, LR: [3.125e-05]: Train loss: 0.3581292, Train acc: 0.7131, Test accuracy: 0.6794\n",
      "Epoch 44300, LR: [3.125e-05]: Train loss: 0.3580997, Train acc: 0.7144, Test accuracy: 0.6606 (new best train)\n",
      "Epoch 44400, LR: [3.125e-05]: Train loss: 0.3579894, Train acc: 0.7142, Test accuracy: 0.6600\n",
      "Epoch 44500, LR: [3.125e-05]: Train loss: 0.3580329, Train acc: 0.7145, Test accuracy: 0.6713\n",
      "Epoch 44600, LR: [3.125e-05]: Train loss: 0.3579343, Train acc: 0.7139, Test accuracy: 0.6681\n",
      "Epoch 44700, LR: [3.125e-05]: Train loss: 0.3579985, Train acc: 0.7140, Test accuracy: 0.6681\n",
      "Epoch 44800, LR: [3.125e-05]: Train loss: 0.3579360, Train acc: 0.7144, Test accuracy: 0.6781\n",
      "Epoch 44900, LR: [3.125e-05]: Train loss: 0.3578376, Train acc: 0.7150, Test accuracy: 0.6675 (new best train)\n",
      "Epoch 45000, LR: [3.125e-05]: Train loss: 0.3578206, Train acc: 0.7150, Test accuracy: 0.6587\n",
      "Checkpoint saved at epoch 45000 -> checkpoints/checkpoint_epoch_45000.pt\n",
      "Epoch 45100, LR: [3.125e-05]: Train loss: 0.3578776, Train acc: 0.7140, Test accuracy: 0.6706\n",
      "Epoch 45200, LR: [3.125e-05]: Train loss: 0.3578692, Train acc: 0.7155, Test accuracy: 0.6700 (new best train)\n",
      "Epoch 45300, LR: [3.125e-05]: Train loss: 0.3577929, Train acc: 0.7152, Test accuracy: 0.6675\n",
      "Epoch 45400, LR: [3.125e-05]: Train loss: 0.3578673, Train acc: 0.7149, Test accuracy: 0.6619\n",
      "Epoch 45500, LR: [3.125e-05]: Train loss: 0.3577863, Train acc: 0.7134, Test accuracy: 0.6675\n",
      "Epoch 45600, LR: [3.125e-05]: Train loss: 0.3577649, Train acc: 0.7154, Test accuracy: 0.6694\n",
      "Epoch 45700, LR: [3.125e-05]: Train loss: 0.3576998, Train acc: 0.7157, Test accuracy: 0.6675 (new best train)\n",
      "Epoch 45800, LR: [3.125e-05]: Train loss: 0.3576554, Train acc: 0.7157, Test accuracy: 0.6606\n",
      "Epoch 45900, LR: [3.125e-05]: Train loss: 0.3576658, Train acc: 0.7143, Test accuracy: 0.6681\n",
      "Epoch 46000, LR: [3.125e-05]: Train loss: 0.3576560, Train acc: 0.7151, Test accuracy: 0.6787\n",
      "Checkpoint saved at epoch 46000 -> checkpoints/checkpoint_epoch_46000.pt\n",
      "Epoch 46100, LR: [3.125e-05]: Train loss: 0.3577181, Train acc: 0.7155, Test accuracy: 0.6700\n",
      "Epoch 46200, LR: [3.125e-05]: Train loss: 0.3576204, Train acc: 0.7150, Test accuracy: 0.6656\n",
      "Epoch 46300, LR: [3.125e-05]: Train loss: 0.3576630, Train acc: 0.7147, Test accuracy: 0.6706\n",
      "Epoch 46400, LR: [3.125e-05]: Train loss: 0.3576072, Train acc: 0.7153, Test accuracy: 0.6675\n",
      "Epoch 46500, LR: [3.125e-05]: Train loss: 0.3575561, Train acc: 0.7153, Test accuracy: 0.6619\n",
      "Epoch 46600, LR: [3.125e-05]: Train loss: 0.3576550, Train acc: 0.7141, Test accuracy: 0.6787\n",
      "Epoch 46700, LR: [3.125e-05]: Train loss: 0.3575362, Train acc: 0.7155, Test accuracy: 0.6562\n",
      "Epoch 46800, LR: [1.5625e-05]: Train loss: 0.3575405, Train acc: 0.7145, Test accuracy: 0.6744\n",
      "Epoch 46900, LR: [1.5625e-05]: Train loss: 0.3565889, Train acc: 0.7163, Test accuracy: 0.6706 (new best train)\n",
      "Epoch 47000, LR: [1.5625e-05]: Train loss: 0.3565398, Train acc: 0.7149, Test accuracy: 0.6731\n",
      "Checkpoint saved at epoch 47000 -> checkpoints/checkpoint_epoch_47000.pt\n",
      "Epoch 47100, LR: [1.5625e-05]: Train loss: 0.3564889, Train acc: 0.7156, Test accuracy: 0.6669\n",
      "Epoch 47200, LR: [1.5625e-05]: Train loss: 0.3565051, Train acc: 0.7156, Test accuracy: 0.6731\n",
      "Epoch 47300, LR: [1.5625e-05]: Train loss: 0.3564785, Train acc: 0.7164, Test accuracy: 0.6663\n",
      "Epoch 47400, LR: [1.5625e-05]: Train loss: 0.3564601, Train acc: 0.7152, Test accuracy: 0.6644\n",
      "Epoch 47500, LR: [1.5625e-05]: Train loss: 0.3564377, Train acc: 0.7161, Test accuracy: 0.6631\n",
      "Epoch 47600, LR: [1.5625e-05]: Train loss: 0.3564126, Train acc: 0.7162, Test accuracy: 0.6619\n",
      "Epoch 47700, LR: [1.5625e-05]: Train loss: 0.3564165, Train acc: 0.7159, Test accuracy: 0.6725\n",
      "Epoch 47800, LR: [1.5625e-05]: Train loss: 0.3563815, Train acc: 0.7167, Test accuracy: 0.6681 (new best train)\n",
      "Epoch 47900, LR: [1.5625e-05]: Train loss: 0.3563669, Train acc: 0.7152, Test accuracy: 0.6675\n",
      "Epoch 48000, LR: [1.5625e-05]: Train loss: 0.3563423, Train acc: 0.7161, Test accuracy: 0.6831\n",
      "Checkpoint saved at epoch 48000 -> checkpoints/checkpoint_epoch_48000.pt\n",
      "Epoch 48100, LR: [1.5625e-05]: Train loss: 0.3563159, Train acc: 0.7167, Test accuracy: 0.6763\n",
      "Epoch 48200, LR: [1.5625e-05]: Train loss: 0.3563507, Train acc: 0.7182, Test accuracy: 0.6594 (new best train)\n",
      "Epoch 48300, LR: [1.5625e-05]: Train loss: 0.3563046, Train acc: 0.7155, Test accuracy: 0.6613\n",
      "Epoch 48400, LR: [1.5625e-05]: Train loss: 0.3562993, Train acc: 0.7163, Test accuracy: 0.6669\n",
      "Epoch 48500, LR: [1.5625e-05]: Train loss: 0.3562503, Train acc: 0.7156, Test accuracy: 0.6644\n",
      "Epoch 48600, LR: [1.5625e-05]: Train loss: 0.3562409, Train acc: 0.7178, Test accuracy: 0.6644\n",
      "Epoch 48700, LR: [1.5625e-05]: Train loss: 0.3562660, Train acc: 0.7156, Test accuracy: 0.6544\n",
      "Epoch 48800, LR: [1.5625e-05]: Train loss: 0.3562764, Train acc: 0.7167, Test accuracy: 0.6637\n",
      "Epoch 48900, LR: [1.5625e-05]: Train loss: 0.3562049, Train acc: 0.7180, Test accuracy: 0.6575\n",
      "Epoch 49000, LR: [1.5625e-05]: Train loss: 0.3562026, Train acc: 0.7174, Test accuracy: 0.6687\n",
      "Checkpoint saved at epoch 49000 -> checkpoints/checkpoint_epoch_49000.pt\n",
      "Epoch 49100, LR: [1.5625e-05]: Train loss: 0.3562177, Train acc: 0.7165, Test accuracy: 0.6725\n",
      "Epoch 49200, LR: [1.5625e-05]: Train loss: 0.3561615, Train acc: 0.7165, Test accuracy: 0.6700\n",
      "Epoch 49300, LR: [7.8125e-06]: Train loss: 0.3561975, Train acc: 0.7160, Test accuracy: 0.6675\n",
      "Epoch 49400, LR: [7.8125e-06]: Train loss: 0.3556795, Train acc: 0.7169, Test accuracy: 0.6787\n",
      "Epoch 49500, LR: [7.8125e-06]: Train loss: 0.3556642, Train acc: 0.7164, Test accuracy: 0.6744\n",
      "Epoch 49600, LR: [7.8125e-06]: Train loss: 0.3556498, Train acc: 0.7168, Test accuracy: 0.6663\n",
      "Epoch 49700, LR: [7.8125e-06]: Train loss: 0.3556562, Train acc: 0.7163, Test accuracy: 0.6719\n",
      "Epoch 49800, LR: [7.8125e-06]: Train loss: 0.3556219, Train acc: 0.7164, Test accuracy: 0.6763\n",
      "Epoch 49900, LR: [7.8125e-06]: Train loss: 0.3556358, Train acc: 0.7183, Test accuracy: 0.6706 (new best train)\n",
      "Epoch 50000, LR: [7.8125e-06]: Train loss: 0.3556192, Train acc: 0.7173, Test accuracy: 0.6681\n",
      "Checkpoint saved at epoch 50000 -> checkpoints/checkpoint_epoch_50000.pt\n",
      "Best train acc: 0.71828125, epoch: 49900\n"
     ]
    }
   ],
   "source": [
    "!python main.py --task NEIGHBORS_MATCH --type GSAGE_MEAN --dim 32 --depth 3 --num_layers 4 --train_fraction 0.8 --max_epochs 50000 --eval_every 100 --batch_size 64 --accum_grad 1 --stop TRAIN --patience 20 --loader_workers 7 --no_activation --resume_checkpoint checkpoint_epoch_32000.pt\n"
   ]
  }
 ],
 "metadata": {
  "kaggle": {
   "accelerator": "nvidiaTeslaT4",
   "dataSources": [],
   "dockerImageVersionId": 30823,
   "isGpuEnabled": true,
   "isInternetEnabled": true,
   "language": "python",
   "sourceType": "notebook"
  },
  "kernelspec": {
   "display_name": "Python 3",
   "language": "python",
   "name": "python3"
  },
  "language_info": {
   "codemirror_mode": {
    "name": "ipython",
    "version": 3
   },
   "file_extension": ".py",
   "mimetype": "text/x-python",
   "name": "python",
   "nbconvert_exporter": "python",
   "pygments_lexer": "ipython3",
   "version": "3.10.12"
  }
 },
 "nbformat": 4,
 "nbformat_minor": 4
}
