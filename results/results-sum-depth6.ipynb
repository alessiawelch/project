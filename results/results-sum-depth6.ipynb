{
 "cells": [
  {
   "cell_type": "code",
   "execution_count": 3,
   "metadata": {
    "execution": {
     "iopub.execute_input": "2025-01-11T14:31:16.541385Z",
     "iopub.status.busy": "2025-01-11T14:31:16.541093Z",
     "iopub.status.idle": "2025-01-11T14:31:33.625422Z",
     "shell.execute_reply": "2025-01-11T14:31:33.624490Z",
     "shell.execute_reply.started": "2025-01-11T14:31:16.541365Z"
    },
    "trusted": true
   },
   "outputs": [
    {
     "name": "stdout",
     "output_type": "stream",
     "text": [
      "2.4.1+cu121\n",
      "Looking in links: https://data.pyg.org/whl/torch-2.0.1+cu118.html\n",
      "Collecting torch-scatter\n",
      "  Downloading https://data.pyg.org/whl/torch-2.0.0%2Bcu118/torch_scatter-2.1.2%2Bpt20cu118-cp310-cp310-linux_x86_64.whl (10.2 MB)\n",
      "\u001b[2K     \u001b[90m━━━━━━━━━━━━━━━━━━━━━━━━━━━━━━━━━━━━━━━━\u001b[0m \u001b[32m10.2/10.2 MB\u001b[0m \u001b[31m59.3 MB/s\u001b[0m eta \u001b[36m0:00:00\u001b[0m00:01\u001b[0m0:01\u001b[0m\n",
      "\u001b[?25hInstalling collected packages: torch-scatter\n",
      "Successfully installed torch-scatter-2.1.2+pt20cu118\n",
      "Looking in links: https://data.pyg.org/whl/torch-2.0.1+cu118.html\n",
      "Collecting torch-sparse\n",
      "  Downloading https://data.pyg.org/whl/torch-2.0.0%2Bcu118/torch_sparse-0.6.18%2Bpt20cu118-cp310-cp310-linux_x86_64.whl (4.9 MB)\n",
      "\u001b[2K     \u001b[90m━━━━━━━━━━━━━━━━━━━━━━━━━━━━━━━━━━━━━━━━\u001b[0m \u001b[32m4.9/4.9 MB\u001b[0m \u001b[31m42.1 MB/s\u001b[0m eta \u001b[36m0:00:00\u001b[0m00:01\u001b[0m00:01\u001b[0m\n",
      "\u001b[?25hRequirement already satisfied: scipy in /usr/local/lib/python3.10/dist-packages (from torch-sparse) (1.13.1)\n",
      "Requirement already satisfied: numpy<2.3,>=1.22.4 in /usr/local/lib/python3.10/dist-packages (from scipy->torch-sparse) (1.26.4)\n",
      "Installing collected packages: torch-sparse\n",
      "Successfully installed torch-sparse-0.6.18+pt20cu118\n",
      "Collecting torch-geometric\n",
      "  Downloading torch_geometric-2.6.1-py3-none-any.whl.metadata (63 kB)\n",
      "\u001b[2K     \u001b[90m━━━━━━━━━━━━━━━━━━━━━━━━━━━━━━━━━━━━━━━━\u001b[0m \u001b[32m63.1/63.1 kB\u001b[0m \u001b[31m2.3 MB/s\u001b[0m eta \u001b[36m0:00:00\u001b[0m\n",
      "\u001b[?25hRequirement already satisfied: aiohttp in /usr/local/lib/python3.10/dist-packages (from torch-geometric) (3.10.5)\n",
      "Requirement already satisfied: fsspec in /usr/local/lib/python3.10/dist-packages (from torch-geometric) (2024.6.1)\n",
      "Requirement already satisfied: jinja2 in /usr/local/lib/python3.10/dist-packages (from torch-geometric) (3.1.4)\n",
      "Requirement already satisfied: numpy in /usr/local/lib/python3.10/dist-packages (from torch-geometric) (1.26.4)\n",
      "Requirement already satisfied: psutil>=5.8.0 in /usr/local/lib/python3.10/dist-packages (from torch-geometric) (5.9.5)\n",
      "Requirement already satisfied: pyparsing in /usr/local/lib/python3.10/dist-packages (from torch-geometric) (3.1.4)\n",
      "Requirement already satisfied: requests in /usr/local/lib/python3.10/dist-packages (from torch-geometric) (2.32.3)\n",
      "Requirement already satisfied: tqdm in /usr/local/lib/python3.10/dist-packages (from torch-geometric) (4.66.5)\n",
      "Requirement already satisfied: aiohappyeyeballs>=2.3.0 in /usr/local/lib/python3.10/dist-packages (from aiohttp->torch-geometric) (2.4.0)\n",
      "Requirement already satisfied: aiosignal>=1.1.2 in /usr/local/lib/python3.10/dist-packages (from aiohttp->torch-geometric) (1.3.1)\n",
      "Requirement already satisfied: attrs>=17.3.0 in /usr/local/lib/python3.10/dist-packages (from aiohttp->torch-geometric) (24.2.0)\n",
      "Requirement already satisfied: frozenlist>=1.1.1 in /usr/local/lib/python3.10/dist-packages (from aiohttp->torch-geometric) (1.4.1)\n",
      "Requirement already satisfied: multidict<7.0,>=4.5 in /usr/local/lib/python3.10/dist-packages (from aiohttp->torch-geometric) (6.1.0)\n",
      "Requirement already satisfied: yarl<2.0,>=1.0 in /usr/local/lib/python3.10/dist-packages (from aiohttp->torch-geometric) (1.11.1)\n",
      "Requirement already satisfied: async-timeout<5.0,>=4.0 in /usr/local/lib/python3.10/dist-packages (from aiohttp->torch-geometric) (4.0.3)\n",
      "Requirement already satisfied: MarkupSafe>=2.0 in /usr/local/lib/python3.10/dist-packages (from jinja2->torch-geometric) (2.1.5)\n",
      "Requirement already satisfied: charset-normalizer<4,>=2 in /usr/local/lib/python3.10/dist-packages (from requests->torch-geometric) (3.3.2)\n",
      "Requirement already satisfied: idna<4,>=2.5 in /usr/local/lib/python3.10/dist-packages (from requests->torch-geometric) (3.10)\n",
      "Requirement already satisfied: urllib3<3,>=1.21.1 in /usr/local/lib/python3.10/dist-packages (from requests->torch-geometric) (2.2.3)\n",
      "Requirement already satisfied: certifi>=2017.4.17 in /usr/local/lib/python3.10/dist-packages (from requests->torch-geometric) (2024.8.30)\n",
      "Requirement already satisfied: typing-extensions>=4.1.0 in /usr/local/lib/python3.10/dist-packages (from multidict<7.0,>=4.5->aiohttp->torch-geometric) (4.12.2)\n",
      "Downloading torch_geometric-2.6.1-py3-none-any.whl (1.1 MB)\n",
      "\u001b[2K   \u001b[90m━━━━━━━━━━━━━━━━━━━━━━━━━━━━━━━━━━━━━━━━\u001b[0m \u001b[32m1.1/1.1 MB\u001b[0m \u001b[31m19.5 MB/s\u001b[0m eta \u001b[36m0:00:00\u001b[0ma \u001b[36m0:00:01\u001b[0m\n",
      "\u001b[?25hInstalling collected packages: torch-geometric\n",
      "Successfully installed torch-geometric-2.6.1\n"
     ]
    }
   ],
   "source": [
    "import torch\n",
    "print(torch.__version__)  # e.g., 2.0.1\n",
    "\n",
    "# Example installation (this line may change based on the PyTorch Geometric docs)\n",
    "!pip install torch-scatter -f https://data.pyg.org/whl/torch-2.0.1+cu118.html\n",
    "!pip install torch-sparse -f https://data.pyg.org/whl/torch-2.0.1+cu118.html\n",
    "!pip install torch-geometric"
   ]
  },
  {
   "cell_type": "code",
   "execution_count": 4,
   "metadata": {
    "execution": {
     "iopub.execute_input": "2025-01-11T14:31:38.343086Z",
     "iopub.status.busy": "2025-01-11T14:31:38.342416Z",
     "iopub.status.idle": "2025-01-11T14:31:41.712895Z",
     "shell.execute_reply": "2025-01-11T14:31:41.711776Z",
     "shell.execute_reply.started": "2025-01-11T14:31:38.343056Z"
    },
    "trusted": true
   },
   "outputs": [
    {
     "name": "stdout",
     "output_type": "stream",
     "text": [
      "Collecting attrdict==2.0.1 (from -r requirements.txt (line 1))\n",
      "  Downloading attrdict-2.0.1-py2.py3-none-any.whl.metadata (6.7 kB)\n",
      "Requirement already satisfied: torch>=1.4.0 in /usr/local/lib/python3.10/dist-packages (from -r requirements.txt (line 2)) (2.4.1+cu121)\n",
      "Requirement already satisfied: torch-geometric>=1.4.2 in /usr/local/lib/python3.10/dist-packages (from -r requirements.txt (line 3)) (2.6.1)\n",
      "Requirement already satisfied: torch-scatter>=2.0.4 in /usr/local/lib/python3.10/dist-packages (from -r requirements.txt (line 4)) (2.1.2+pt20cu118)\n",
      "Requirement already satisfied: torch-sparse>=0.6.0 in /usr/local/lib/python3.10/dist-packages (from -r requirements.txt (line 5)) (0.6.18+pt20cu118)\n",
      "Requirement already satisfied: torchvision>=0.5.0 in /usr/local/lib/python3.10/dist-packages (from -r requirements.txt (line 6)) (0.19.1+cu121)\n",
      "Requirement already satisfied: six in /usr/local/lib/python3.10/dist-packages (from attrdict==2.0.1->-r requirements.txt (line 1)) (1.16.0)\n",
      "Requirement already satisfied: filelock in /usr/local/lib/python3.10/dist-packages (from torch>=1.4.0->-r requirements.txt (line 2)) (3.16.1)\n",
      "Requirement already satisfied: typing-extensions>=4.8.0 in /usr/local/lib/python3.10/dist-packages (from torch>=1.4.0->-r requirements.txt (line 2)) (4.12.2)\n",
      "Requirement already satisfied: sympy in /usr/local/lib/python3.10/dist-packages (from torch>=1.4.0->-r requirements.txt (line 2)) (1.13.3)\n",
      "Requirement already satisfied: networkx in /usr/local/lib/python3.10/dist-packages (from torch>=1.4.0->-r requirements.txt (line 2)) (3.3)\n",
      "Requirement already satisfied: jinja2 in /usr/local/lib/python3.10/dist-packages (from torch>=1.4.0->-r requirements.txt (line 2)) (3.1.4)\n",
      "Requirement already satisfied: fsspec in /usr/local/lib/python3.10/dist-packages (from torch>=1.4.0->-r requirements.txt (line 2)) (2024.6.1)\n",
      "Requirement already satisfied: aiohttp in /usr/local/lib/python3.10/dist-packages (from torch-geometric>=1.4.2->-r requirements.txt (line 3)) (3.10.5)\n",
      "Requirement already satisfied: numpy in /usr/local/lib/python3.10/dist-packages (from torch-geometric>=1.4.2->-r requirements.txt (line 3)) (1.26.4)\n",
      "Requirement already satisfied: psutil>=5.8.0 in /usr/local/lib/python3.10/dist-packages (from torch-geometric>=1.4.2->-r requirements.txt (line 3)) (5.9.5)\n",
      "Requirement already satisfied: pyparsing in /usr/local/lib/python3.10/dist-packages (from torch-geometric>=1.4.2->-r requirements.txt (line 3)) (3.1.4)\n",
      "Requirement already satisfied: requests in /usr/local/lib/python3.10/dist-packages (from torch-geometric>=1.4.2->-r requirements.txt (line 3)) (2.32.3)\n",
      "Requirement already satisfied: tqdm in /usr/local/lib/python3.10/dist-packages (from torch-geometric>=1.4.2->-r requirements.txt (line 3)) (4.66.5)\n",
      "Requirement already satisfied: scipy in /usr/local/lib/python3.10/dist-packages (from torch-sparse>=0.6.0->-r requirements.txt (line 5)) (1.13.1)\n",
      "Requirement already satisfied: pillow!=8.3.*,>=5.3.0 in /usr/local/lib/python3.10/dist-packages (from torchvision>=0.5.0->-r requirements.txt (line 6)) (10.4.0)\n",
      "Requirement already satisfied: aiohappyeyeballs>=2.3.0 in /usr/local/lib/python3.10/dist-packages (from aiohttp->torch-geometric>=1.4.2->-r requirements.txt (line 3)) (2.4.0)\n",
      "Requirement already satisfied: aiosignal>=1.1.2 in /usr/local/lib/python3.10/dist-packages (from aiohttp->torch-geometric>=1.4.2->-r requirements.txt (line 3)) (1.3.1)\n",
      "Requirement already satisfied: attrs>=17.3.0 in /usr/local/lib/python3.10/dist-packages (from aiohttp->torch-geometric>=1.4.2->-r requirements.txt (line 3)) (24.2.0)\n",
      "Requirement already satisfied: frozenlist>=1.1.1 in /usr/local/lib/python3.10/dist-packages (from aiohttp->torch-geometric>=1.4.2->-r requirements.txt (line 3)) (1.4.1)\n",
      "Requirement already satisfied: multidict<7.0,>=4.5 in /usr/local/lib/python3.10/dist-packages (from aiohttp->torch-geometric>=1.4.2->-r requirements.txt (line 3)) (6.1.0)\n",
      "Requirement already satisfied: yarl<2.0,>=1.0 in /usr/local/lib/python3.10/dist-packages (from aiohttp->torch-geometric>=1.4.2->-r requirements.txt (line 3)) (1.11.1)\n",
      "Requirement already satisfied: async-timeout<5.0,>=4.0 in /usr/local/lib/python3.10/dist-packages (from aiohttp->torch-geometric>=1.4.2->-r requirements.txt (line 3)) (4.0.3)\n",
      "Requirement already satisfied: MarkupSafe>=2.0 in /usr/local/lib/python3.10/dist-packages (from jinja2->torch>=1.4.0->-r requirements.txt (line 2)) (2.1.5)\n",
      "Requirement already satisfied: charset-normalizer<4,>=2 in /usr/local/lib/python3.10/dist-packages (from requests->torch-geometric>=1.4.2->-r requirements.txt (line 3)) (3.3.2)\n",
      "Requirement already satisfied: idna<4,>=2.5 in /usr/local/lib/python3.10/dist-packages (from requests->torch-geometric>=1.4.2->-r requirements.txt (line 3)) (3.10)\n",
      "Requirement already satisfied: urllib3<3,>=1.21.1 in /usr/local/lib/python3.10/dist-packages (from requests->torch-geometric>=1.4.2->-r requirements.txt (line 3)) (2.2.3)\n",
      "Requirement already satisfied: certifi>=2017.4.17 in /usr/local/lib/python3.10/dist-packages (from requests->torch-geometric>=1.4.2->-r requirements.txt (line 3)) (2024.8.30)\n",
      "Requirement already satisfied: mpmath<1.4,>=1.1.0 in /usr/local/lib/python3.10/dist-packages (from sympy->torch>=1.4.0->-r requirements.txt (line 2)) (1.3.0)\n",
      "Downloading attrdict-2.0.1-py2.py3-none-any.whl (9.9 kB)\n",
      "Installing collected packages: attrdict\n",
      "Successfully installed attrdict-2.0.1\n"
     ]
    }
   ],
   "source": [
    "!pip install -r requirements.txt"
   ]
  },
  {
   "cell_type": "code",
   "execution_count": 5,
   "metadata": {
    "execution": {
     "iopub.execute_input": "2025-01-11T14:31:45.298539Z",
     "iopub.status.busy": "2025-01-11T14:31:45.298234Z",
     "iopub.status.idle": "2025-01-11T14:31:48.401599Z",
     "shell.execute_reply": "2025-01-11T14:31:48.400469Z",
     "shell.execute_reply.started": "2025-01-11T14:31:45.298500Z"
    },
    "trusted": true
   },
   "outputs": [
    {
     "name": "stdout",
     "output_type": "stream",
     "text": [
      "Requirement already satisfied: scikit-learn in /usr/local/lib/python3.10/dist-packages (1.2.2)\n",
      "Requirement already satisfied: numpy>=1.17.3 in /usr/local/lib/python3.10/dist-packages (from scikit-learn) (1.26.4)\n",
      "Requirement already satisfied: scipy>=1.3.2 in /usr/local/lib/python3.10/dist-packages (from scikit-learn) (1.13.1)\n",
      "Requirement already satisfied: joblib>=1.1.1 in /usr/local/lib/python3.10/dist-packages (from scikit-learn) (1.4.2)\n",
      "Requirement already satisfied: threadpoolctl>=2.0.0 in /usr/local/lib/python3.10/dist-packages (from scikit-learn) (3.5.0)\n"
     ]
    }
   ],
   "source": [
    "!pip install scikit-learn"
   ]
  },
  {
   "cell_type": "code",
   "execution_count": 6,
   "metadata": {
    "execution": {
     "iopub.execute_input": "2025-01-11T14:32:14.163594Z",
     "iopub.status.busy": "2025-01-11T14:32:14.163241Z",
     "iopub.status.idle": "2025-01-11T14:32:19.398899Z",
     "shell.execute_reply": "2025-01-11T14:32:19.398019Z",
     "shell.execute_reply.started": "2025-01-11T14:32:14.163564Z"
    },
    "trusted": true
   },
   "outputs": [
    {
     "name": "stdout",
     "output_type": "stream",
     "text": [
      "/usr/local/lib/python3.10/dist-packages/torch_geometric/typing.py:86: UserWarning: An issue occurred while importing 'torch-scatter'. Disabling its usage. Stacktrace: /usr/local/lib/python3.10/dist-packages/torch_scatter/_version_cuda.so: undefined symbol: _ZN3c1017RegisterOperatorsD1Ev\n",
      "  warnings.warn(f\"An issue occurred while importing 'torch-scatter'. \"\n",
      "/usr/local/lib/python3.10/dist-packages/torch_geometric/typing.py:124: UserWarning: An issue occurred while importing 'torch-sparse'. Disabling its usage. Stacktrace: /usr/local/lib/python3.10/dist-packages/torch_sparse/_version_cuda.so: undefined symbol: _ZN3c1017RegisterOperatorsD1Ev\n",
      "  warnings.warn(f\"An issue occurred while importing 'torch-sparse'. \"\n"
     ]
    }
   ],
   "source": [
    "!python -c 'import torch; import torch_geometric'"
   ]
  },
  {
   "cell_type": "code",
   "execution_count": 7,
   "metadata": {
    "execution": {
     "iopub.execute_input": "2025-01-11T14:32:21.762614Z",
     "iopub.status.busy": "2025-01-11T14:32:21.762272Z",
     "iopub.status.idle": "2025-01-11T14:32:26.336179Z",
     "shell.execute_reply": "2025-01-11T14:32:26.334929Z",
     "shell.execute_reply.started": "2025-01-11T14:32:21.762584Z"
    },
    "trusted": true
   },
   "outputs": [
    {
     "name": "stdout",
     "output_type": "stream",
     "text": [
      "Found existing installation: attrdict 2.0.1\n",
      "Uninstalling attrdict-2.0.1:\n",
      "  Successfully uninstalled attrdict-2.0.1\n",
      "Collecting attrdict==2.0.1\n",
      "  Using cached attrdict-2.0.1-py2.py3-none-any.whl.metadata (6.7 kB)\n",
      "Requirement already satisfied: six in /usr/local/lib/python3.10/dist-packages (from attrdict==2.0.1) (1.16.0)\n",
      "Using cached attrdict-2.0.1-py2.py3-none-any.whl (9.9 kB)\n",
      "Installing collected packages: attrdict\n",
      "Successfully installed attrdict-2.0.1\n"
     ]
    }
   ],
   "source": [
    "# Uninstall any existing attrdict to ensure a clean reinstall\n",
    "!pip uninstall -y attrdict\n",
    "\n",
    "# Reinstall attrdict (so we can then patch it)\n",
    "!pip install attrdict==2.0.1\n",
    "\n",
    "# Replace \"from collections import Mapping, MutableMapping, Sequence\"\n",
    "# with \"from collections.abc import Mapping, MutableMapping, Sequence\"\n",
    "!sed -i 's/from collections import Mapping, MutableMapping, Sequence/from collections.abc import Mapping, MutableMapping, Sequence/g' /usr/local/lib/python3.10/dist-packages/attrdict/*.py\n",
    "\n",
    "# Sometimes they're imported separately, so let's handle those too:\n",
    "!sed -i 's/from collections import Mapping/from collections.abc import Mapping/g' /usr/local/lib/python3.10/dist-packages/attrdict/*.py\n",
    "!sed -i 's/from collections import MutableMapping/from collections.abc import MutableMapping/g' /usr/local/lib/python3.10/dist-packages/attrdict/*.py\n",
    "!sed -i 's/from collections import Sequence/from collections.abc import Sequence/g' /usr/local/lib/python3.10/dist-packages/attrdict/*.py\n"
   ]
  },
  {
   "cell_type": "code",
   "execution_count": 9,
   "metadata": {
    "execution": {
     "iopub.execute_input": "2025-01-11T14:32:32.958330Z",
     "iopub.status.busy": "2025-01-11T14:32:32.957930Z",
     "iopub.status.idle": "2025-01-11T14:32:36.063289Z",
     "shell.execute_reply": "2025-01-11T14:32:36.062372Z",
     "shell.execute_reply.started": "2025-01-11T14:32:32.958296Z"
    },
    "trusted": true
   },
   "outputs": [
    {
     "name": "stdout",
     "output_type": "stream",
     "text": [
      "Looking in links: https://data.pyg.org/whl/torch-2.4.1+cu121.html\n",
      "Requirement already satisfied: torch-scatter in /usr/local/lib/python3.10/dist-packages (2.1.2+pt20cu118)\n"
     ]
    }
   ],
   "source": [
    "!pip install torch-scatter -f https://data.pyg.org/whl/torch-2.4.1+cu121.html\n",
    "\n"
   ]
  },
  {
   "cell_type": "code",
   "execution_count": 10,
   "metadata": {
    "execution": {
     "iopub.execute_input": "2025-01-11T14:32:43.152423Z",
     "iopub.status.busy": "2025-01-11T14:32:43.152128Z",
     "iopub.status.idle": "2025-01-11T14:32:45.747666Z",
     "shell.execute_reply": "2025-01-11T14:32:45.746689Z",
     "shell.execute_reply.started": "2025-01-11T14:32:43.152400Z"
    },
    "trusted": true
   },
   "outputs": [
    {
     "name": "stdout",
     "output_type": "stream",
     "text": [
      "Name: torch-scatter\n",
      "Version: 2.1.2+pt20cu118\n",
      "Summary: PyTorch Extension Library of Optimized Scatter Operations\n",
      "Home-page: https://github.com/rusty1s/pytorch_scatter\n",
      "Author: Matthias Fey\n",
      "Author-email: matthias.fey@tu-dortmund.de\n",
      "License: \n",
      "Location: /usr/local/lib/python3.10/dist-packages\n",
      "Requires: \n",
      "Required-by: \n",
      "Note: you may need to restart the kernel to use updated packages.\n"
     ]
    }
   ],
   "source": [
    "pip show torch-scatter\n"
   ]
  },
  {
   "cell_type": "code",
   "execution_count": 11,
   "metadata": {
    "execution": {
     "iopub.execute_input": "2025-01-11T14:32:48.710748Z",
     "iopub.status.busy": "2025-01-11T14:32:48.710373Z",
     "iopub.status.idle": "2025-01-11T14:32:52.894553Z",
     "shell.execute_reply": "2025-01-11T14:32:52.893645Z",
     "shell.execute_reply.started": "2025-01-11T14:32:48.710721Z"
    },
    "trusted": true
   },
   "outputs": [
    {
     "name": "stdout",
     "output_type": "stream",
     "text": [
      "/usr/local/lib/python3.10/dist-packages/torch_geometric/typing.py:86: UserWarning: An issue occurred while importing 'torch-scatter'. Disabling its usage. Stacktrace: /usr/local/lib/python3.10/dist-packages/torch_scatter/_version_cuda.so: undefined symbol: _ZN3c1017RegisterOperatorsD1Ev\n",
      "  warnings.warn(f\"An issue occurred while importing 'torch-scatter'. \"\n",
      "/usr/local/lib/python3.10/dist-packages/torch_geometric/typing.py:124: UserWarning: An issue occurred while importing 'torch-sparse'. Disabling its usage. Stacktrace: /usr/local/lib/python3.10/dist-packages/torch_sparse/_version_cuda.so: undefined symbol: _ZN3c1017RegisterOperatorsD1Ev\n",
      "  warnings.warn(f\"An issue occurred while importing 'torch-sparse'. \"\n",
      "usage: main.py [-h] [--task {Task.NEIGHBORS_MATCH}]\n",
      "               [--type {GNN_TYPE.GCN,GNN_TYPE.GGNN,GNN_TYPE.GIN,GNN_TYPE.GAT,GNN_TYPE.GSAGE_MEAN,GNN_TYPE.GSAGE_MAX,GNN_TYPE.GSAGE_MIN,GNN_TYPE.GSAGE_SUM}]\n",
      "               [--dim DIM] [--depth DEPTH] [--num_layers NUM_LAYERS]\n",
      "               [--train_fraction TRAIN_FRACTION] [--max_epochs MAX_EPOCHS]\n",
      "               [--eval_every EVAL_EVERY] [--batch_size BATCH_SIZE] [--accum_grad ACCUM_GRAD]\n",
      "               [--stop {STOP.TRAIN,STOP.TEST}] [--patience PATIENCE]\n",
      "               [--loader_workers LOADER_WORKERS] [--last_layer_fully_adjacent] [--no_layer_norm]\n",
      "               [--no_activation] [--no_residual] [--unroll]\n",
      "               [--resume_checkpoint RESUME_CHECKPOINT]\n",
      "\n",
      "options:\n",
      "  -h, --help            show this help message and exit\n",
      "  --task {Task.NEIGHBORS_MATCH}\n",
      "  --type {GNN_TYPE.GCN,GNN_TYPE.GGNN,GNN_TYPE.GIN,GNN_TYPE.GAT,GNN_TYPE.GSAGE_MEAN,GNN_TYPE.GSAGE_MAX,GNN_TYPE.GSAGE_MIN,GNN_TYPE.GSAGE_SUM}\n",
      "  --dim DIM\n",
      "  --depth DEPTH\n",
      "  --num_layers NUM_LAYERS\n",
      "  --train_fraction TRAIN_FRACTION\n",
      "  --max_epochs MAX_EPOCHS\n",
      "  --eval_every EVAL_EVERY\n",
      "  --batch_size BATCH_SIZE\n",
      "  --accum_grad ACCUM_GRAD\n",
      "  --stop {STOP.TRAIN,STOP.TEST}\n",
      "  --patience PATIENCE\n",
      "  --loader_workers LOADER_WORKERS\n",
      "  --last_layer_fully_adjacent\n",
      "  --no_layer_norm\n",
      "  --no_activation\n",
      "  --no_residual\n",
      "  --unroll              use the same weights across GNN layers\n",
      "  --resume_checkpoint RESUME_CHECKPOINT\n",
      "                        Path to the checkpoint file to resume training\n"
     ]
    }
   ],
   "source": [
    "!python main.py --help"
   ]
  },
  {
   "cell_type": "code",
   "execution_count": 15,
   "metadata": {
    "execution": {
     "iopub.execute_input": "2025-01-11T14:36:29.057344Z",
     "iopub.status.busy": "2025-01-11T14:36:29.057040Z",
     "iopub.status.idle": "2025-01-11T21:32:51.160357Z",
     "shell.execute_reply": "2025-01-11T21:32:51.159252Z",
     "shell.execute_reply.started": "2025-01-11T14:36:29.057323Z"
    },
    "trusted": true
   },
   "outputs": [
    {
     "name": "stdout",
     "output_type": "stream",
     "text": [
      "/usr/local/lib/python3.10/dist-packages/torch_geometric/typing.py:86: UserWarning: An issue occurred while importing 'torch-scatter'. Disabling its usage. Stacktrace: /usr/local/lib/python3.10/dist-packages/torch_scatter/_version_cuda.so: undefined symbol: _ZN3c1017RegisterOperatorsD1Ev\n",
      "  warnings.warn(f\"An issue occurred while importing 'torch-scatter'. \"\n",
      "/usr/local/lib/python3.10/dist-packages/torch_geometric/typing.py:124: UserWarning: An issue occurred while importing 'torch-sparse'. Disabling its usage. Stacktrace: /usr/local/lib/python3.10/dist-packages/torch_sparse/_version_cuda.so: undefined symbol: _ZN3c1017RegisterOperatorsD1Ev\n",
      "  warnings.warn(f\"An issue occurred while importing 'torch-sparse'. \"\n",
      "Starting experiment\n",
      "task: Task.NEIGHBORS_MATCH\n",
      "type: GNN_TYPE.GSAGE_SUM\n",
      "dim: 32\n",
      "depth: 6\n",
      "num_layers: 7\n",
      "train_fraction: 0.8\n",
      "max_epochs: 50000\n",
      "eval_every: 100\n",
      "batch_size: 1024\n",
      "accum_grad: 1\n",
      "stop: STOP.TRAIN\n",
      "patience: 20\n",
      "loader_workers: 7\n",
      "last_layer_fully_adjacent: False\n",
      "no_layer_norm: False\n",
      "no_activation: True\n",
      "no_residual: False\n",
      "unroll: False\n",
      "resume_checkpoint: checkpoing_epoch_32000_sum.pt\n",
      "\n",
      "Training examples: 25600, test examples: 6400\n",
      "/kaggle/working/project/experiment.py:85: FutureWarning: You are using `torch.load` with `weights_only=False` (the current default value), which uses the default pickle module implicitly. It is possible to construct malicious pickle data which will execute arbitrary code during unpickling (See https://github.com/pytorch/pytorch/blob/main/SECURITY.md#untrusted-models for more details). In a future release, the default value for `weights_only` will be flipped to `True`. This limits the functions that could be executed during unpickling. Arbitrary objects will no longer be allowed to be loaded via this mode unless they are explicitly allowlisted by the user via `torch.serialization.add_safe_globals`. We recommend you start setting `weights_only=True` for any use case where you don't have full control of the loaded file. Please open an issue on GitHub for any issues related to this experimental feature.\n",
      "  checkpoint = torch.load(resume_checkpoint, map_location=self.device)\n",
      "Resuming training from epoch 320, best_test_acc=0.01, best_train_acc=0.1160078125\n",
      "Starting training\n",
      "/usr/local/lib/python3.10/dist-packages/torch_geometric/deprecation.py:26: UserWarning: 'data.DataLoader' is deprecated, use 'loader.DataLoader' instead\n",
      "  warnings.warn(out)\n",
      "/usr/local/lib/python3.10/dist-packages/torch/utils/data/dataloader.py:557: UserWarning: This DataLoader will create 7 worker processes in total. Our suggested max number of worker in current system is 4, which is smaller than what this DataLoader is going to create. Please be aware that excessive worker creation might get DataLoader running slow or even freeze, lower the worker number to avoid potential slowness/freeze if necessary.\n",
      "  warnings.warn(_create_warning_msg(\n",
      "Epoch 32100, LR: [0.001]: Train loss: 3.5834723, Train acc: 0.1164, Test accuracy: 0.0114 (new best train)\n",
      "Epoch 32200, LR: [0.001]: Train loss: 3.5830294, Train acc: 0.1164, Test accuracy: 0.0114\n",
      "Epoch 32300, LR: [0.001]: Train loss: 3.5831459, Train acc: 0.1163, Test accuracy: 0.0103\n",
      "Epoch 32400, LR: [0.001]: Train loss: 3.5823483, Train acc: 0.1165, Test accuracy: 0.0109\n",
      "Epoch 32500, LR: [0.001]: Train loss: 3.5811954, Train acc: 0.1168, Test accuracy: 0.0102 (new best train)\n",
      "Epoch 32600, LR: [0.001]: Train loss: 3.5820137, Train acc: 0.1167, Test accuracy: 0.0089\n",
      "Epoch 32700, LR: [0.001]: Train loss: 3.5810688, Train acc: 0.1169, Test accuracy: 0.0111\n",
      "Epoch 32800, LR: [0.001]: Train loss: 3.5820887, Train acc: 0.1165, Test accuracy: 0.0109\n",
      "Epoch 32900, LR: [0.001]: Train loss: 3.5812104, Train acc: 0.1167, Test accuracy: 0.0106\n",
      "Epoch 33000, LR: [0.001]: Train loss: 3.5804488, Train acc: 0.1169, Test accuracy: 0.0106 (new best train)\n",
      "Checkpoint saved at epoch 33000 -> checkpoints/checkpoint_epoch_33000.pt\n",
      "Epoch 33100, LR: [0.001]: Train loss: 3.5806516, Train acc: 0.1166, Test accuracy: 0.0112\n",
      "Epoch 33200, LR: [0.001]: Train loss: 3.5801863, Train acc: 0.1169, Test accuracy: 0.0109\n",
      "Epoch 33300, LR: [0.001]: Train loss: 3.5808334, Train acc: 0.1168, Test accuracy: 0.0122\n",
      "Epoch 33400, LR: [0.001]: Train loss: 3.5791054, Train acc: 0.1171, Test accuracy: 0.0106 (new best train)\n",
      "Epoch 33500, LR: [0.001]: Train loss: 3.5785816, Train acc: 0.1174, Test accuracy: 0.0108 (new best train)\n",
      "Epoch 33600, LR: [0.001]: Train loss: 3.5793178, Train acc: 0.1169, Test accuracy: 0.0117\n",
      "Epoch 33700, LR: [0.001]: Train loss: 3.5785461, Train acc: 0.1172, Test accuracy: 0.0116\n",
      "Epoch 33800, LR: [0.001]: Train loss: 3.5790625, Train acc: 0.1171, Test accuracy: 0.0103\n",
      "Epoch 33900, LR: [0.001]: Train loss: 3.5779120, Train acc: 0.1174, Test accuracy: 0.0106\n",
      "Epoch 34000, LR: [0.001]: Train loss: 3.5779837, Train acc: 0.1172, Test accuracy: 0.0117\n",
      "Checkpoint saved at epoch 34000 -> checkpoints/checkpoint_epoch_34000.pt\n",
      "Epoch 34100, LR: [0.001]: Train loss: 3.5771943, Train acc: 0.1176, Test accuracy: 0.0112 (new best train)\n",
      "Epoch 34200, LR: [0.001]: Train loss: 3.5770448, Train acc: 0.1174, Test accuracy: 0.0111\n",
      "Epoch 34300, LR: [0.001]: Train loss: 3.5773854, Train acc: 0.1174, Test accuracy: 0.0106\n",
      "Epoch 34400, LR: [0.001]: Train loss: 3.5762094, Train acc: 0.1178, Test accuracy: 0.0112 (new best train)\n",
      "Epoch 34500, LR: [0.001]: Train loss: 3.5764580, Train acc: 0.1176, Test accuracy: 0.0106\n",
      "Epoch 34600, LR: [0.001]: Train loss: 3.5757878, Train acc: 0.1177, Test accuracy: 0.0112\n",
      "Epoch 34700, LR: [0.001]: Train loss: 3.5752062, Train acc: 0.1177, Test accuracy: 0.0108\n",
      "Epoch 34800, LR: [0.001]: Train loss: 3.5755729, Train acc: 0.1177, Test accuracy: 0.0103\n",
      "Epoch 34900, LR: [0.001]: Train loss: 3.5752829, Train acc: 0.1178, Test accuracy: 0.0108\n",
      "Epoch 35000, LR: [0.001]: Train loss: 3.5754601, Train acc: 0.1176, Test accuracy: 0.0127\n",
      "Checkpoint saved at epoch 35000 -> checkpoints/checkpoint_epoch_35000.pt\n",
      "Epoch 35100, LR: [0.001]: Train loss: 3.5749220, Train acc: 0.1181, Test accuracy: 0.0119 (new best train)\n",
      "Epoch 35200, LR: [0.001]: Train loss: 3.5760042, Train acc: 0.1173, Test accuracy: 0.0117\n",
      "Epoch 35300, LR: [0.001]: Train loss: 3.5736984, Train acc: 0.1182, Test accuracy: 0.0111 (new best train)\n",
      "Epoch 35400, LR: [0.001]: Train loss: 3.5748266, Train acc: 0.1180, Test accuracy: 0.0122\n",
      "Epoch 35500, LR: [0.001]: Train loss: 3.5731658, Train acc: 0.1183, Test accuracy: 0.0111 (new best train)\n",
      "Epoch 35600, LR: [0.001]: Train loss: 3.5730406, Train acc: 0.1182, Test accuracy: 0.0123\n",
      "Epoch 35700, LR: [0.001]: Train loss: 3.5733523, Train acc: 0.1180, Test accuracy: 0.0111\n",
      "Epoch 35800, LR: [0.001]: Train loss: 3.5726529, Train acc: 0.1183, Test accuracy: 0.0120\n",
      "Epoch 35900, LR: [0.001]: Train loss: 3.5723354, Train acc: 0.1183, Test accuracy: 0.0127\n",
      "Epoch 36000, LR: [0.001]: Train loss: 3.5721004, Train acc: 0.1184, Test accuracy: 0.0112\n",
      "Checkpoint saved at epoch 36000 -> checkpoints/checkpoint_epoch_36000.pt\n",
      "Epoch 36100, LR: [0.001]: Train loss: 3.5715938, Train acc: 0.1184, Test accuracy: 0.0111 (new best train)\n",
      "Epoch 36200, LR: [0.001]: Train loss: 3.5717494, Train acc: 0.1184, Test accuracy: 0.0112\n",
      "Epoch 36300, LR: [0.001]: Train loss: 3.5724817, Train acc: 0.1183, Test accuracy: 0.0108\n",
      "Epoch 36400, LR: [0.001]: Train loss: 3.5718357, Train acc: 0.1184, Test accuracy: 0.0116\n",
      "Epoch 36500, LR: [0.001]: Train loss: 3.5713400, Train acc: 0.1187, Test accuracy: 0.0122 (new best train)\n",
      "Epoch 36600, LR: [0.001]: Train loss: 3.5706411, Train acc: 0.1186, Test accuracy: 0.0111\n",
      "Epoch 36700, LR: [0.001]: Train loss: 3.5702105, Train acc: 0.1190, Test accuracy: 0.0102 (new best train)\n",
      "Epoch 36800, LR: [0.001]: Train loss: 3.5707834, Train acc: 0.1187, Test accuracy: 0.0119\n",
      "Epoch 36900, LR: [0.001]: Train loss: 3.5702674, Train acc: 0.1187, Test accuracy: 0.0108\n",
      "Epoch 37000, LR: [0.001]: Train loss: 3.5699085, Train acc: 0.1187, Test accuracy: 0.0125\n",
      "Checkpoint saved at epoch 37000 -> checkpoints/checkpoint_epoch_37000.pt\n",
      "Epoch 37100, LR: [0.001]: Train loss: 3.5683732, Train acc: 0.1192, Test accuracy: 0.0106 (new best train)\n",
      "Epoch 37200, LR: [0.001]: Train loss: 3.5689395, Train acc: 0.1191, Test accuracy: 0.0111\n",
      "Epoch 37300, LR: [0.001]: Train loss: 3.5688891, Train acc: 0.1189, Test accuracy: 0.0114\n",
      "Epoch 37400, LR: [0.001]: Train loss: 3.5682515, Train acc: 0.1192, Test accuracy: 0.0111\n",
      "Epoch 37500, LR: [0.001]: Train loss: 3.5683986, Train acc: 0.1190, Test accuracy: 0.0102\n",
      "Epoch 37600, LR: [0.001]: Train loss: 3.5672207, Train acc: 0.1194, Test accuracy: 0.0103 (new best train)\n",
      "Epoch 37700, LR: [0.001]: Train loss: 3.5684352, Train acc: 0.1190, Test accuracy: 0.0122\n",
      "Epoch 37800, LR: [0.001]: Train loss: 3.5666756, Train acc: 0.1195, Test accuracy: 0.0109 (new best train)\n",
      "Epoch 37900, LR: [0.001]: Train loss: 3.5674447, Train acc: 0.1192, Test accuracy: 0.0117\n",
      "Epoch 38000, LR: [0.001]: Train loss: 3.5668252, Train acc: 0.1197, Test accuracy: 0.0116 (new best train)\n",
      "Checkpoint saved at epoch 38000 -> checkpoints/checkpoint_epoch_38000.pt\n",
      "Epoch 38100, LR: [0.001]: Train loss: 3.5665557, Train acc: 0.1196, Test accuracy: 0.0103\n",
      "Epoch 38200, LR: [0.001]: Train loss: 3.5656888, Train acc: 0.1198, Test accuracy: 0.0114 (new best train)\n",
      "Epoch 38300, LR: [0.001]: Train loss: 3.5658055, Train acc: 0.1196, Test accuracy: 0.0123\n",
      "Epoch 38400, LR: [0.001]: Train loss: 3.5657259, Train acc: 0.1197, Test accuracy: 0.0125\n",
      "Epoch 38500, LR: [0.001]: Train loss: 3.5658372, Train acc: 0.1195, Test accuracy: 0.0114\n",
      "Epoch 38600, LR: [0.001]: Train loss: 3.5650649, Train acc: 0.1198, Test accuracy: 0.0116\n",
      "Epoch 38700, LR: [0.001]: Train loss: 3.5654210, Train acc: 0.1198, Test accuracy: 0.0108\n",
      "Epoch 38800, LR: [0.001]: Train loss: 3.5639302, Train acc: 0.1202, Test accuracy: 0.0108 (new best train)\n",
      "Epoch 38900, LR: [0.001]: Train loss: 3.5647641, Train acc: 0.1199, Test accuracy: 0.0117\n",
      "Epoch 39000, LR: [0.001]: Train loss: 3.5641824, Train acc: 0.1199, Test accuracy: 0.0106\n",
      "Checkpoint saved at epoch 39000 -> checkpoints/checkpoint_epoch_39000.pt\n",
      "Epoch 39100, LR: [0.001]: Train loss: 3.5641975, Train acc: 0.1199, Test accuracy: 0.0112\n",
      "Epoch 39200, LR: [0.001]: Train loss: 3.5633990, Train acc: 0.1202, Test accuracy: 0.0108\n",
      "Epoch 39300, LR: [0.001]: Train loss: 3.5633470, Train acc: 0.1202, Test accuracy: 0.0119\n",
      "Epoch 39400, LR: [0.001]: Train loss: 3.5629129, Train acc: 0.1203, Test accuracy: 0.0111 (new best train)\n",
      "Epoch 39500, LR: [0.001]: Train loss: 3.5628403, Train acc: 0.1203, Test accuracy: 0.0112\n",
      "Epoch 39600, LR: [0.001]: Train loss: 3.5627107, Train acc: 0.1203, Test accuracy: 0.0106\n",
      "Epoch 39700, LR: [0.001]: Train loss: 3.5618664, Train acc: 0.1205, Test accuracy: 0.0106 (new best train)\n",
      "Epoch 39800, LR: [0.001]: Train loss: 3.5624352, Train acc: 0.1203, Test accuracy: 0.0119\n",
      "Epoch 39900, LR: [0.001]: Train loss: 3.5622049, Train acc: 0.1204, Test accuracy: 0.0116\n",
      "Epoch 40000, LR: [0.001]: Train loss: 3.5609675, Train acc: 0.1207, Test accuracy: 0.0123 (new best train)\n",
      "Checkpoint saved at epoch 40000 -> checkpoints/checkpoint_epoch_40000.pt\n",
      "Epoch 40100, LR: [0.001]: Train loss: 3.5612938, Train acc: 0.1206, Test accuracy: 0.0120\n",
      "Epoch 40200, LR: [0.001]: Train loss: 3.5609329, Train acc: 0.1206, Test accuracy: 0.0130\n",
      "Epoch 40300, LR: [0.001]: Train loss: 3.5599955, Train acc: 0.1209, Test accuracy: 0.0128 (new best train)\n",
      "Epoch 40400, LR: [0.001]: Train loss: 3.5604717, Train acc: 0.1208, Test accuracy: 0.0119\n",
      "Epoch 40500, LR: [0.001]: Train loss: 3.5609548, Train acc: 0.1207, Test accuracy: 0.0114\n",
      "Epoch 40600, LR: [0.001]: Train loss: 3.5592682, Train acc: 0.1210, Test accuracy: 0.0108\n",
      "Epoch 40700, LR: [0.001]: Train loss: 3.5595245, Train acc: 0.1209, Test accuracy: 0.0119\n",
      "Epoch 40800, LR: [0.001]: Train loss: 3.5594670, Train acc: 0.1212, Test accuracy: 0.0116 (new best train)\n",
      "Epoch 40900, LR: [0.001]: Train loss: 3.5587652, Train acc: 0.1213, Test accuracy: 0.0116 (new best train)\n",
      "Epoch 41000, LR: [0.001]: Train loss: 3.5595824, Train acc: 0.1212, Test accuracy: 0.0117\n",
      "Checkpoint saved at epoch 41000 -> checkpoints/checkpoint_epoch_41000.pt\n",
      "Epoch 41100, LR: [0.001]: Train loss: 3.5587263, Train acc: 0.1210, Test accuracy: 0.0128\n",
      "Epoch 41200, LR: [0.001]: Train loss: 3.5581450, Train acc: 0.1213, Test accuracy: 0.0105\n",
      "Epoch 41300, LR: [0.001]: Train loss: 3.5580060, Train acc: 0.1213, Test accuracy: 0.0106\n",
      "Epoch 41400, LR: [0.001]: Train loss: 3.5587531, Train acc: 0.1210, Test accuracy: 0.0116\n",
      "Epoch 41500, LR: [0.001]: Train loss: 3.5572295, Train acc: 0.1214, Test accuracy: 0.0114\n",
      "Epoch 41600, LR: [0.001]: Train loss: 3.5574666, Train acc: 0.1216, Test accuracy: 0.0108 (new best train)\n",
      "Epoch 41700, LR: [0.001]: Train loss: 3.5568672, Train acc: 0.1216, Test accuracy: 0.0123\n",
      "Epoch 41800, LR: [0.001]: Train loss: 3.5568824, Train acc: 0.1217, Test accuracy: 0.0120 (new best train)\n",
      "Epoch 41900, LR: [0.001]: Train loss: 3.5564858, Train acc: 0.1217, Test accuracy: 0.0109\n",
      "Epoch 42000, LR: [0.001]: Train loss: 3.5565660, Train acc: 0.1215, Test accuracy: 0.0102\n",
      "Checkpoint saved at epoch 42000 -> checkpoints/checkpoint_epoch_42000.pt\n",
      "Epoch 42100, LR: [0.001]: Train loss: 3.5574910, Train acc: 0.1213, Test accuracy: 0.0122\n",
      "Epoch 42200, LR: [0.001]: Train loss: 3.5559352, Train acc: 0.1216, Test accuracy: 0.0117\n",
      "Epoch 42300, LR: [0.001]: Train loss: 3.5561037, Train acc: 0.1216, Test accuracy: 0.0122\n",
      "Epoch 42400, LR: [0.001]: Train loss: 3.5560704, Train acc: 0.1216, Test accuracy: 0.0111\n",
      "Epoch 42500, LR: [0.001]: Train loss: 3.5554812, Train acc: 0.1217, Test accuracy: 0.0103\n",
      "Epoch 42600, LR: [0.001]: Train loss: 3.5548586, Train acc: 0.1218, Test accuracy: 0.0128\n",
      "Epoch 42700, LR: [0.001]: Train loss: 3.5550356, Train acc: 0.1219, Test accuracy: 0.0112 (new best train)\n",
      "Epoch 42800, LR: [0.001]: Train loss: 3.5552191, Train acc: 0.1217, Test accuracy: 0.0120\n",
      "Epoch 42900, LR: [0.001]: Train loss: 3.5539770, Train acc: 0.1221, Test accuracy: 0.0130 (new best train)\n",
      "Epoch 43000, LR: [0.001]: Train loss: 3.5555000, Train acc: 0.1216, Test accuracy: 0.0125\n",
      "Checkpoint saved at epoch 43000 -> checkpoints/checkpoint_epoch_43000.pt\n",
      "Epoch 43100, LR: [0.001]: Train loss: 3.5532210, Train acc: 0.1224, Test accuracy: 0.0116 (new best train)\n",
      "Epoch 43200, LR: [0.001]: Train loss: 3.5532043, Train acc: 0.1223, Test accuracy: 0.0111\n",
      "Epoch 43300, LR: [0.001]: Train loss: 3.5535650, Train acc: 0.1222, Test accuracy: 0.0134\n",
      "Epoch 43400, LR: [0.001]: Train loss: 3.5537941, Train acc: 0.1222, Test accuracy: 0.0117\n",
      "Epoch 43500, LR: [0.001]: Train loss: 3.5539434, Train acc: 0.1218, Test accuracy: 0.0122\n",
      "Epoch 43600, LR: [0.001]: Train loss: 3.5527728, Train acc: 0.1225, Test accuracy: 0.0120 (new best train)\n",
      "Epoch 43700, LR: [0.001]: Train loss: 3.5539150, Train acc: 0.1221, Test accuracy: 0.0125\n",
      "Epoch 43800, LR: [0.001]: Train loss: 3.5527520, Train acc: 0.1223, Test accuracy: 0.0128\n",
      "Epoch 43900, LR: [0.001]: Train loss: 3.5520592, Train acc: 0.1225, Test accuracy: 0.0109\n",
      "Epoch 44000, LR: [0.001]: Train loss: 3.5520554, Train acc: 0.1225, Test accuracy: 0.0114\n",
      "Checkpoint saved at epoch 44000 -> checkpoints/checkpoint_epoch_44000.pt\n",
      "Epoch 44100, LR: [0.001]: Train loss: 3.5525634, Train acc: 0.1224, Test accuracy: 0.0114\n",
      "Epoch 44200, LR: [0.001]: Train loss: 3.5516735, Train acc: 0.1226, Test accuracy: 0.0125\n",
      "Epoch 44300, LR: [0.001]: Train loss: 3.5514373, Train acc: 0.1227, Test accuracy: 0.0119 (new best train)\n",
      "Epoch 44400, LR: [0.001]: Train loss: 3.5517510, Train acc: 0.1226, Test accuracy: 0.0108\n",
      "Epoch 44500, LR: [0.001]: Train loss: 3.5504419, Train acc: 0.1231, Test accuracy: 0.0112 (new best train)\n",
      "Epoch 44600, LR: [0.001]: Train loss: 3.5511369, Train acc: 0.1227, Test accuracy: 0.0122\n",
      "Epoch 44700, LR: [0.001]: Train loss: 3.5492101, Train acc: 0.1233, Test accuracy: 0.0130 (new best train)\n",
      "Epoch 44800, LR: [0.001]: Train loss: 3.5510403, Train acc: 0.1226, Test accuracy: 0.0116\n",
      "Epoch 44900, LR: [0.001]: Train loss: 3.5502029, Train acc: 0.1230, Test accuracy: 0.0125\n",
      "Epoch 45000, LR: [0.001]: Train loss: 3.5497911, Train acc: 0.1231, Test accuracy: 0.0111\n",
      "Checkpoint saved at epoch 45000 -> checkpoints/checkpoint_epoch_45000.pt\n",
      "Epoch 45100, LR: [0.001]: Train loss: 3.5491976, Train acc: 0.1232, Test accuracy: 0.0117\n",
      "Epoch 45200, LR: [0.001]: Train loss: 3.5488350, Train acc: 0.1232, Test accuracy: 0.0123\n",
      "Epoch 45300, LR: [0.001]: Train loss: 3.5489717, Train acc: 0.1232, Test accuracy: 0.0114\n",
      "Epoch 45400, LR: [0.001]: Train loss: 3.5488773, Train acc: 0.1233, Test accuracy: 0.0117\n",
      "Epoch 45500, LR: [0.001]: Train loss: 3.5486827, Train acc: 0.1232, Test accuracy: 0.0114\n",
      "Epoch 45600, LR: [0.001]: Train loss: 3.5480502, Train acc: 0.1233, Test accuracy: 0.0116\n",
      "Epoch 45700, LR: [0.001]: Train loss: 3.5482705, Train acc: 0.1231, Test accuracy: 0.0109\n",
      "Epoch 45800, LR: [0.001]: Train loss: 3.5479104, Train acc: 0.1234, Test accuracy: 0.0125 (new best train)\n",
      "Epoch 45900, LR: [0.001]: Train loss: 3.5481381, Train acc: 0.1235, Test accuracy: 0.0119 (new best train)\n",
      "Epoch 46000, LR: [0.001]: Train loss: 3.5479985, Train acc: 0.1234, Test accuracy: 0.0106\n",
      "Checkpoint saved at epoch 46000 -> checkpoints/checkpoint_epoch_46000.pt\n",
      "Epoch 46100, LR: [0.001]: Train loss: 3.5475171, Train acc: 0.1237, Test accuracy: 0.0109 (new best train)\n",
      "Epoch 46200, LR: [0.001]: Train loss: 3.5473796, Train acc: 0.1235, Test accuracy: 0.0128\n",
      "Epoch 46300, LR: [0.001]: Train loss: 3.5465161, Train acc: 0.1240, Test accuracy: 0.0127 (new best train)\n",
      "Epoch 46400, LR: [0.001]: Train loss: 3.5473158, Train acc: 0.1235, Test accuracy: 0.0109\n",
      "Epoch 46500, LR: [0.001]: Train loss: 3.5462555, Train acc: 0.1240, Test accuracy: 0.0125\n",
      "Epoch 46600, LR: [0.001]: Train loss: 3.5462420, Train acc: 0.1238, Test accuracy: 0.0116\n",
      "Epoch 46700, LR: [0.001]: Train loss: 3.5463186, Train acc: 0.1237, Test accuracy: 0.0119\n",
      "Epoch 46800, LR: [0.001]: Train loss: 3.5458000, Train acc: 0.1241, Test accuracy: 0.0111\n",
      "Epoch 46900, LR: [0.001]: Train loss: 3.5453886, Train acc: 0.1240, Test accuracy: 0.0127\n",
      "Epoch 47000, LR: [0.001]: Train loss: 3.5458247, Train acc: 0.1237, Test accuracy: 0.0127\n",
      "Checkpoint saved at epoch 47000 -> checkpoints/checkpoint_epoch_47000.pt\n",
      "Epoch 47100, LR: [0.001]: Train loss: 3.5447642, Train acc: 0.1244, Test accuracy: 0.0123 (new best train)\n",
      "Epoch 47200, LR: [0.001]: Train loss: 3.5453030, Train acc: 0.1241, Test accuracy: 0.0117\n",
      "Epoch 47300, LR: [0.001]: Train loss: 3.5452258, Train acc: 0.1240, Test accuracy: 0.0125\n",
      "Epoch 47400, LR: [0.001]: Train loss: 3.5445027, Train acc: 0.1239, Test accuracy: 0.0127\n",
      "Epoch 47500, LR: [0.001]: Train loss: 3.5441511, Train acc: 0.1243, Test accuracy: 0.0130\n",
      "Epoch 47600, LR: [0.001]: Train loss: 3.5442512, Train acc: 0.1244, Test accuracy: 0.0125\n",
      "Epoch 47700, LR: [0.001]: Train loss: 3.5452977, Train acc: 0.1240, Test accuracy: 0.0114\n",
      "Epoch 47800, LR: [0.001]: Train loss: 3.5432931, Train acc: 0.1245, Test accuracy: 0.0125 (new best train)\n",
      "Epoch 47900, LR: [0.001]: Train loss: 3.5440903, Train acc: 0.1243, Test accuracy: 0.0122\n",
      "Epoch 48000, LR: [0.001]: Train loss: 3.5432958, Train acc: 0.1245, Test accuracy: 0.0127\n",
      "Checkpoint saved at epoch 48000 -> checkpoints/checkpoint_epoch_48000.pt\n",
      "Epoch 48100, LR: [0.001]: Train loss: 3.5422732, Train acc: 0.1246, Test accuracy: 0.0123\n",
      "Epoch 48200, LR: [0.001]: Train loss: 3.5430150, Train acc: 0.1245, Test accuracy: 0.0127\n",
      "Epoch 48300, LR: [0.001]: Train loss: 3.5445870, Train acc: 0.1240, Test accuracy: 0.0127\n",
      "Epoch 48400, LR: [0.001]: Train loss: 3.5415845, Train acc: 0.1250, Test accuracy: 0.0120 (new best train)\n",
      "Epoch 48500, LR: [0.001]: Train loss: 3.5424246, Train acc: 0.1247, Test accuracy: 0.0119\n",
      "Epoch 48600, LR: [0.001]: Train loss: 3.5423502, Train acc: 0.1247, Test accuracy: 0.0119\n",
      "Epoch 48700, LR: [0.001]: Train loss: 3.5427113, Train acc: 0.1244, Test accuracy: 0.0130\n",
      "Epoch 48800, LR: [0.001]: Train loss: 3.5411927, Train acc: 0.1249, Test accuracy: 0.0130\n",
      "Epoch 48900, LR: [0.001]: Train loss: 3.5403225, Train acc: 0.1251, Test accuracy: 0.0106\n",
      "Epoch 49000, LR: [0.001]: Train loss: 3.5416857, Train acc: 0.1247, Test accuracy: 0.0131\n",
      "Checkpoint saved at epoch 49000 -> checkpoints/checkpoint_epoch_49000.pt\n",
      "Epoch 49100, LR: [0.001]: Train loss: 3.5422088, Train acc: 0.1246, Test accuracy: 0.0123\n",
      "Epoch 49200, LR: [0.001]: Train loss: 3.5416674, Train acc: 0.1247, Test accuracy: 0.0108\n",
      "Epoch 49300, LR: [0.001]: Train loss: 3.5412654, Train acc: 0.1249, Test accuracy: 0.0116\n",
      "Epoch 49400, LR: [0.001]: Train loss: 3.5403280, Train acc: 0.1252, Test accuracy: 0.0116 (new best train)\n",
      "Epoch 49500, LR: [0.001]: Train loss: 3.5405292, Train acc: 0.1250, Test accuracy: 0.0122\n",
      "Epoch 49600, LR: [0.001]: Train loss: 3.5401067, Train acc: 0.1251, Test accuracy: 0.0103\n",
      "Epoch 49700, LR: [0.001]: Train loss: 3.5401655, Train acc: 0.1249, Test accuracy: 0.0138\n",
      "Epoch 49800, LR: [0.001]: Train loss: 3.5391420, Train acc: 0.1254, Test accuracy: 0.0120 (new best train)\n",
      "Epoch 49900, LR: [0.001]: Train loss: 3.5402209, Train acc: 0.1250, Test accuracy: 0.0123\n",
      "Epoch 50000, LR: [0.001]: Train loss: 3.5394483, Train acc: 0.1253, Test accuracy: 0.0125\n",
      "Checkpoint saved at epoch 50000 -> checkpoints/checkpoint_epoch_50000.pt\n",
      "Best train acc: 0.125427734375, epoch: 49800\n"
     ]
    }
   ],
   "source": [
    "!python main.py --task NEIGHBORS_MATCH --type GSAGE_SUM --dim 32 --depth 6 --num_layers 7 --train_fraction 0.8 --max_epochs 50000 --eval_every 100 --batch_size 1024 --accum_grad 1 --stop TRAIN --patience 20 --loader_workers 7 --no_activation --resume_checkpoint checkpoing_epoch_32000_sum.pt"
   ]
  }
 ],
 "metadata": {
  "kaggle": {
   "accelerator": "nvidiaTeslaT4",
   "dataSources": [],
   "dockerImageVersionId": 30823,
   "isGpuEnabled": true,
   "isInternetEnabled": true,
   "language": "python",
   "sourceType": "notebook"
  },
  "kernelspec": {
   "display_name": "Python 3",
   "language": "python",
   "name": "python3"
  },
  "language_info": {
   "codemirror_mode": {
    "name": "ipython",
    "version": 3
   },
   "file_extension": ".py",
   "mimetype": "text/x-python",
   "name": "python",
   "nbconvert_exporter": "python",
   "pygments_lexer": "ipython3",
   "version": "3.10.12"
  }
 },
 "nbformat": 4,
 "nbformat_minor": 4
}
