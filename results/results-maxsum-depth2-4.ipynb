{
 "cells": [
  {
   "cell_type": "code",
   "execution_count": 3,
   "metadata": {
    "execution": {
     "iopub.execute_input": "2025-01-13T22:33:00.926866Z",
     "iopub.status.busy": "2025-01-13T22:33:00.926456Z",
     "iopub.status.idle": "2025-01-13T22:33:17.700838Z",
     "shell.execute_reply": "2025-01-13T22:33:17.699820Z",
     "shell.execute_reply.started": "2025-01-13T22:33:00.926819Z"
    },
    "trusted": true
   },
   "outputs": [
    {
     "name": "stdout",
     "output_type": "stream",
     "text": [
      "2.4.1+cu121\n",
      "Looking in links: https://data.pyg.org/whl/torch-2.0.1+cu118.html\n",
      "Collecting torch-scatter\n",
      "  Downloading https://data.pyg.org/whl/torch-2.0.0%2Bcu118/torch_scatter-2.1.2%2Bpt20cu118-cp310-cp310-linux_x86_64.whl (10.2 MB)\n",
      "\u001b[2K     \u001b[90m━━━━━━━━━━━━━━━━━━━━━━━━━━━━━━━━━━━━━━━━\u001b[0m \u001b[32m10.2/10.2 MB\u001b[0m \u001b[31m66.5 MB/s\u001b[0m eta \u001b[36m0:00:00\u001b[0m:00:01\u001b[0m:01\u001b[0m\n",
      "\u001b[?25hInstalling collected packages: torch-scatter\n",
      "Successfully installed torch-scatter-2.1.2+pt20cu118\n",
      "Looking in links: https://data.pyg.org/whl/torch-2.0.1+cu118.html\n",
      "Collecting torch-sparse\n",
      "  Downloading https://data.pyg.org/whl/torch-2.0.0%2Bcu118/torch_sparse-0.6.18%2Bpt20cu118-cp310-cp310-linux_x86_64.whl (4.9 MB)\n",
      "\u001b[2K     \u001b[90m━━━━━━━━━━━━━━━━━━━━━━━━━━━━━━━━━━━━━━━━\u001b[0m \u001b[32m4.9/4.9 MB\u001b[0m \u001b[31m40.5 MB/s\u001b[0m eta \u001b[36m0:00:00\u001b[0m00:01\u001b[0m00:01\u001b[0m\n",
      "\u001b[?25hRequirement already satisfied: scipy in /usr/local/lib/python3.10/dist-packages (from torch-sparse) (1.13.1)\n",
      "Requirement already satisfied: numpy<2.3,>=1.22.4 in /usr/local/lib/python3.10/dist-packages (from scipy->torch-sparse) (1.26.4)\n",
      "Installing collected packages: torch-sparse\n",
      "Successfully installed torch-sparse-0.6.18+pt20cu118\n",
      "Collecting torch-geometric\n",
      "  Downloading torch_geometric-2.6.1-py3-none-any.whl.metadata (63 kB)\n",
      "\u001b[2K     \u001b[90m━━━━━━━━━━━━━━━━━━━━━━━━━━━━━━━━━━━━━━━━\u001b[0m \u001b[32m63.1/63.1 kB\u001b[0m \u001b[31m2.7 MB/s\u001b[0m eta \u001b[36m0:00:00\u001b[0m\n",
      "\u001b[?25hRequirement already satisfied: aiohttp in /usr/local/lib/python3.10/dist-packages (from torch-geometric) (3.10.5)\n",
      "Requirement already satisfied: fsspec in /usr/local/lib/python3.10/dist-packages (from torch-geometric) (2024.6.1)\n",
      "Requirement already satisfied: jinja2 in /usr/local/lib/python3.10/dist-packages (from torch-geometric) (3.1.4)\n",
      "Requirement already satisfied: numpy in /usr/local/lib/python3.10/dist-packages (from torch-geometric) (1.26.4)\n",
      "Requirement already satisfied: psutil>=5.8.0 in /usr/local/lib/python3.10/dist-packages (from torch-geometric) (5.9.5)\n",
      "Requirement already satisfied: pyparsing in /usr/local/lib/python3.10/dist-packages (from torch-geometric) (3.1.4)\n",
      "Requirement already satisfied: requests in /usr/local/lib/python3.10/dist-packages (from torch-geometric) (2.32.3)\n",
      "Requirement already satisfied: tqdm in /usr/local/lib/python3.10/dist-packages (from torch-geometric) (4.66.5)\n",
      "Requirement already satisfied: aiohappyeyeballs>=2.3.0 in /usr/local/lib/python3.10/dist-packages (from aiohttp->torch-geometric) (2.4.0)\n",
      "Requirement already satisfied: aiosignal>=1.1.2 in /usr/local/lib/python3.10/dist-packages (from aiohttp->torch-geometric) (1.3.1)\n",
      "Requirement already satisfied: attrs>=17.3.0 in /usr/local/lib/python3.10/dist-packages (from aiohttp->torch-geometric) (24.2.0)\n",
      "Requirement already satisfied: frozenlist>=1.1.1 in /usr/local/lib/python3.10/dist-packages (from aiohttp->torch-geometric) (1.4.1)\n",
      "Requirement already satisfied: multidict<7.0,>=4.5 in /usr/local/lib/python3.10/dist-packages (from aiohttp->torch-geometric) (6.1.0)\n",
      "Requirement already satisfied: yarl<2.0,>=1.0 in /usr/local/lib/python3.10/dist-packages (from aiohttp->torch-geometric) (1.11.1)\n",
      "Requirement already satisfied: async-timeout<5.0,>=4.0 in /usr/local/lib/python3.10/dist-packages (from aiohttp->torch-geometric) (4.0.3)\n",
      "Requirement already satisfied: MarkupSafe>=2.0 in /usr/local/lib/python3.10/dist-packages (from jinja2->torch-geometric) (2.1.5)\n",
      "Requirement already satisfied: charset-normalizer<4,>=2 in /usr/local/lib/python3.10/dist-packages (from requests->torch-geometric) (3.3.2)\n",
      "Requirement already satisfied: idna<4,>=2.5 in /usr/local/lib/python3.10/dist-packages (from requests->torch-geometric) (3.10)\n",
      "Requirement already satisfied: urllib3<3,>=1.21.1 in /usr/local/lib/python3.10/dist-packages (from requests->torch-geometric) (2.2.3)\n",
      "Requirement already satisfied: certifi>=2017.4.17 in /usr/local/lib/python3.10/dist-packages (from requests->torch-geometric) (2024.8.30)\n",
      "Requirement already satisfied: typing-extensions>=4.1.0 in /usr/local/lib/python3.10/dist-packages (from multidict<7.0,>=4.5->aiohttp->torch-geometric) (4.12.2)\n",
      "Downloading torch_geometric-2.6.1-py3-none-any.whl (1.1 MB)\n",
      "\u001b[2K   \u001b[90m━━━━━━━━━━━━━━━━━━━━━━━━━━━━━━━━━━━━━━━━\u001b[0m \u001b[32m1.1/1.1 MB\u001b[0m \u001b[31m22.0 MB/s\u001b[0m eta \u001b[36m0:00:00\u001b[0m00:01\u001b[0m\n",
      "\u001b[?25hInstalling collected packages: torch-geometric\n",
      "Successfully installed torch-geometric-2.6.1\n"
     ]
    }
   ],
   "source": [
    "import torch\n",
    "print(torch.__version__)  # e.g., 2.0.1\n",
    "\n",
    "# Example installation (this line may change based on the PyTorch Geometric docs)\n",
    "!pip install torch-scatter -f https://data.pyg.org/whl/torch-2.0.1+cu118.html\n",
    "!pip install torch-sparse -f https://data.pyg.org/whl/torch-2.0.1+cu118.html\n",
    "!pip install torch-geometric"
   ]
  },
  {
   "cell_type": "code",
   "execution_count": 4,
   "metadata": {
    "execution": {
     "iopub.execute_input": "2025-01-13T22:33:20.365820Z",
     "iopub.status.busy": "2025-01-13T22:33:20.365097Z",
     "iopub.status.idle": "2025-01-13T22:33:24.030933Z",
     "shell.execute_reply": "2025-01-13T22:33:24.029723Z",
     "shell.execute_reply.started": "2025-01-13T22:33:20.365765Z"
    },
    "trusted": true
   },
   "outputs": [
    {
     "name": "stdout",
     "output_type": "stream",
     "text": [
      "Collecting attrdict==2.0.1 (from -r requirements.txt (line 1))\n",
      "  Downloading attrdict-2.0.1-py2.py3-none-any.whl.metadata (6.7 kB)\n",
      "Requirement already satisfied: torch>=1.4.0 in /usr/local/lib/python3.10/dist-packages (from -r requirements.txt (line 2)) (2.4.1+cu121)\n",
      "Requirement already satisfied: torch-geometric>=1.4.2 in /usr/local/lib/python3.10/dist-packages (from -r requirements.txt (line 3)) (2.6.1)\n",
      "Requirement already satisfied: torch-scatter>=2.0.4 in /usr/local/lib/python3.10/dist-packages (from -r requirements.txt (line 4)) (2.1.2+pt20cu118)\n",
      "Requirement already satisfied: torch-sparse>=0.6.0 in /usr/local/lib/python3.10/dist-packages (from -r requirements.txt (line 5)) (0.6.18+pt20cu118)\n",
      "Requirement already satisfied: torchvision>=0.5.0 in /usr/local/lib/python3.10/dist-packages (from -r requirements.txt (line 6)) (0.19.1+cu121)\n",
      "Requirement already satisfied: six in /usr/local/lib/python3.10/dist-packages (from attrdict==2.0.1->-r requirements.txt (line 1)) (1.16.0)\n",
      "Requirement already satisfied: filelock in /usr/local/lib/python3.10/dist-packages (from torch>=1.4.0->-r requirements.txt (line 2)) (3.16.1)\n",
      "Requirement already satisfied: typing-extensions>=4.8.0 in /usr/local/lib/python3.10/dist-packages (from torch>=1.4.0->-r requirements.txt (line 2)) (4.12.2)\n",
      "Requirement already satisfied: sympy in /usr/local/lib/python3.10/dist-packages (from torch>=1.4.0->-r requirements.txt (line 2)) (1.13.3)\n",
      "Requirement already satisfied: networkx in /usr/local/lib/python3.10/dist-packages (from torch>=1.4.0->-r requirements.txt (line 2)) (3.3)\n",
      "Requirement already satisfied: jinja2 in /usr/local/lib/python3.10/dist-packages (from torch>=1.4.0->-r requirements.txt (line 2)) (3.1.4)\n",
      "Requirement already satisfied: fsspec in /usr/local/lib/python3.10/dist-packages (from torch>=1.4.0->-r requirements.txt (line 2)) (2024.6.1)\n",
      "Requirement already satisfied: aiohttp in /usr/local/lib/python3.10/dist-packages (from torch-geometric>=1.4.2->-r requirements.txt (line 3)) (3.10.5)\n",
      "Requirement already satisfied: numpy in /usr/local/lib/python3.10/dist-packages (from torch-geometric>=1.4.2->-r requirements.txt (line 3)) (1.26.4)\n",
      "Requirement already satisfied: psutil>=5.8.0 in /usr/local/lib/python3.10/dist-packages (from torch-geometric>=1.4.2->-r requirements.txt (line 3)) (5.9.5)\n",
      "Requirement already satisfied: pyparsing in /usr/local/lib/python3.10/dist-packages (from torch-geometric>=1.4.2->-r requirements.txt (line 3)) (3.1.4)\n",
      "Requirement already satisfied: requests in /usr/local/lib/python3.10/dist-packages (from torch-geometric>=1.4.2->-r requirements.txt (line 3)) (2.32.3)\n",
      "Requirement already satisfied: tqdm in /usr/local/lib/python3.10/dist-packages (from torch-geometric>=1.4.2->-r requirements.txt (line 3)) (4.66.5)\n",
      "Requirement already satisfied: scipy in /usr/local/lib/python3.10/dist-packages (from torch-sparse>=0.6.0->-r requirements.txt (line 5)) (1.13.1)\n",
      "Requirement already satisfied: pillow!=8.3.*,>=5.3.0 in /usr/local/lib/python3.10/dist-packages (from torchvision>=0.5.0->-r requirements.txt (line 6)) (10.4.0)\n",
      "Requirement already satisfied: aiohappyeyeballs>=2.3.0 in /usr/local/lib/python3.10/dist-packages (from aiohttp->torch-geometric>=1.4.2->-r requirements.txt (line 3)) (2.4.0)\n",
      "Requirement already satisfied: aiosignal>=1.1.2 in /usr/local/lib/python3.10/dist-packages (from aiohttp->torch-geometric>=1.4.2->-r requirements.txt (line 3)) (1.3.1)\n",
      "Requirement already satisfied: attrs>=17.3.0 in /usr/local/lib/python3.10/dist-packages (from aiohttp->torch-geometric>=1.4.2->-r requirements.txt (line 3)) (24.2.0)\n",
      "Requirement already satisfied: frozenlist>=1.1.1 in /usr/local/lib/python3.10/dist-packages (from aiohttp->torch-geometric>=1.4.2->-r requirements.txt (line 3)) (1.4.1)\n",
      "Requirement already satisfied: multidict<7.0,>=4.5 in /usr/local/lib/python3.10/dist-packages (from aiohttp->torch-geometric>=1.4.2->-r requirements.txt (line 3)) (6.1.0)\n",
      "Requirement already satisfied: yarl<2.0,>=1.0 in /usr/local/lib/python3.10/dist-packages (from aiohttp->torch-geometric>=1.4.2->-r requirements.txt (line 3)) (1.11.1)\n",
      "Requirement already satisfied: async-timeout<5.0,>=4.0 in /usr/local/lib/python3.10/dist-packages (from aiohttp->torch-geometric>=1.4.2->-r requirements.txt (line 3)) (4.0.3)\n",
      "Requirement already satisfied: MarkupSafe>=2.0 in /usr/local/lib/python3.10/dist-packages (from jinja2->torch>=1.4.0->-r requirements.txt (line 2)) (2.1.5)\n",
      "Requirement already satisfied: charset-normalizer<4,>=2 in /usr/local/lib/python3.10/dist-packages (from requests->torch-geometric>=1.4.2->-r requirements.txt (line 3)) (3.3.2)\n",
      "Requirement already satisfied: idna<4,>=2.5 in /usr/local/lib/python3.10/dist-packages (from requests->torch-geometric>=1.4.2->-r requirements.txt (line 3)) (3.10)\n",
      "Requirement already satisfied: urllib3<3,>=1.21.1 in /usr/local/lib/python3.10/dist-packages (from requests->torch-geometric>=1.4.2->-r requirements.txt (line 3)) (2.2.3)\n",
      "Requirement already satisfied: certifi>=2017.4.17 in /usr/local/lib/python3.10/dist-packages (from requests->torch-geometric>=1.4.2->-r requirements.txt (line 3)) (2024.8.30)\n",
      "Requirement already satisfied: mpmath<1.4,>=1.1.0 in /usr/local/lib/python3.10/dist-packages (from sympy->torch>=1.4.0->-r requirements.txt (line 2)) (1.3.0)\n",
      "Downloading attrdict-2.0.1-py2.py3-none-any.whl (9.9 kB)\n",
      "Installing collected packages: attrdict\n",
      "Successfully installed attrdict-2.0.1\n"
     ]
    }
   ],
   "source": [
    "!pip install -r requirements.txt"
   ]
  },
  {
   "cell_type": "code",
   "execution_count": 5,
   "metadata": {
    "execution": {
     "iopub.execute_input": "2025-01-13T22:33:25.151393Z",
     "iopub.status.busy": "2025-01-13T22:33:25.151010Z",
     "iopub.status.idle": "2025-01-13T22:33:28.496326Z",
     "shell.execute_reply": "2025-01-13T22:33:28.495291Z",
     "shell.execute_reply.started": "2025-01-13T22:33:25.151364Z"
    },
    "trusted": true
   },
   "outputs": [
    {
     "name": "stdout",
     "output_type": "stream",
     "text": [
      "Requirement already satisfied: scikit-learn in /usr/local/lib/python3.10/dist-packages (1.2.2)\n",
      "Requirement already satisfied: numpy>=1.17.3 in /usr/local/lib/python3.10/dist-packages (from scikit-learn) (1.26.4)\n",
      "Requirement already satisfied: scipy>=1.3.2 in /usr/local/lib/python3.10/dist-packages (from scikit-learn) (1.13.1)\n",
      "Requirement already satisfied: joblib>=1.1.1 in /usr/local/lib/python3.10/dist-packages (from scikit-learn) (1.4.2)\n",
      "Requirement already satisfied: threadpoolctl>=2.0.0 in /usr/local/lib/python3.10/dist-packages (from scikit-learn) (3.5.0)\n"
     ]
    }
   ],
   "source": [
    "!pip install scikit-learn"
   ]
  },
  {
   "cell_type": "code",
   "execution_count": 6,
   "metadata": {
    "execution": {
     "iopub.execute_input": "2025-01-13T22:33:28.498237Z",
     "iopub.status.busy": "2025-01-13T22:33:28.497847Z",
     "iopub.status.idle": "2025-01-13T22:33:33.611693Z",
     "shell.execute_reply": "2025-01-13T22:33:33.610801Z",
     "shell.execute_reply.started": "2025-01-13T22:33:28.498205Z"
    },
    "trusted": true
   },
   "outputs": [
    {
     "name": "stdout",
     "output_type": "stream",
     "text": [
      "/usr/local/lib/python3.10/dist-packages/torch_geometric/typing.py:86: UserWarning: An issue occurred while importing 'torch-scatter'. Disabling its usage. Stacktrace: /usr/local/lib/python3.10/dist-packages/torch_scatter/_version_cuda.so: undefined symbol: _ZN3c1017RegisterOperatorsD1Ev\n",
      "  warnings.warn(f\"An issue occurred while importing 'torch-scatter'. \"\n",
      "/usr/local/lib/python3.10/dist-packages/torch_geometric/typing.py:124: UserWarning: An issue occurred while importing 'torch-sparse'. Disabling its usage. Stacktrace: /usr/local/lib/python3.10/dist-packages/torch_sparse/_version_cuda.so: undefined symbol: _ZN3c1017RegisterOperatorsD1Ev\n",
      "  warnings.warn(f\"An issue occurred while importing 'torch-sparse'. \"\n"
     ]
    }
   ],
   "source": [
    "!python -c 'import torch; import torch_geometric'"
   ]
  },
  {
   "cell_type": "code",
   "execution_count": 7,
   "metadata": {
    "execution": {
     "iopub.execute_input": "2025-01-13T22:33:34.049878Z",
     "iopub.status.busy": "2025-01-13T22:33:34.049558Z",
     "iopub.status.idle": "2025-01-13T22:33:38.880191Z",
     "shell.execute_reply": "2025-01-13T22:33:38.879258Z",
     "shell.execute_reply.started": "2025-01-13T22:33:34.049857Z"
    },
    "trusted": true
   },
   "outputs": [
    {
     "name": "stdout",
     "output_type": "stream",
     "text": [
      "Found existing installation: attrdict 2.0.1\n",
      "Uninstalling attrdict-2.0.1:\n",
      "  Successfully uninstalled attrdict-2.0.1\n",
      "Collecting attrdict==2.0.1\n",
      "  Using cached attrdict-2.0.1-py2.py3-none-any.whl.metadata (6.7 kB)\n",
      "Requirement already satisfied: six in /usr/local/lib/python3.10/dist-packages (from attrdict==2.0.1) (1.16.0)\n",
      "Using cached attrdict-2.0.1-py2.py3-none-any.whl (9.9 kB)\n",
      "Installing collected packages: attrdict\n",
      "Successfully installed attrdict-2.0.1\n"
     ]
    }
   ],
   "source": [
    "# Uninstall any existing attrdict to ensure a clean reinstall\n",
    "!pip uninstall -y attrdict\n",
    "\n",
    "# Reinstall attrdict (so we can then patch it)\n",
    "!pip install attrdict==2.0.1\n",
    "\n",
    "# Replace \"from collections import Mapping, MutableMapping, Sequence\"\n",
    "# with \"from collections.abc import Mapping, MutableMapping, Sequence\"\n",
    "!sed -i 's/from collections import Mapping, MutableMapping, Sequence/from collections.abc import Mapping, MutableMapping, Sequence/g' /usr/local/lib/python3.10/dist-packages/attrdict/*.py\n",
    "\n",
    "# Sometimes they're imported separately, so let's handle those too:\n",
    "!sed -i 's/from collections import Mapping/from collections.abc import Mapping/g' /usr/local/lib/python3.10/dist-packages/attrdict/*.py\n",
    "!sed -i 's/from collections import MutableMapping/from collections.abc import MutableMapping/g' /usr/local/lib/python3.10/dist-packages/attrdict/*.py\n",
    "!sed -i 's/from collections import Sequence/from collections.abc import Sequence/g' /usr/local/lib/python3.10/dist-packages/attrdict/*.py\n"
   ]
  },
  {
   "cell_type": "code",
   "execution_count": 8,
   "metadata": {
    "execution": {
     "iopub.execute_input": "2025-01-13T22:33:42.546940Z",
     "iopub.status.busy": "2025-01-13T22:33:42.546648Z",
     "iopub.status.idle": "2025-01-13T22:33:45.940437Z",
     "shell.execute_reply": "2025-01-13T22:33:45.939257Z",
     "shell.execute_reply.started": "2025-01-13T22:33:42.546919Z"
    },
    "trusted": true
   },
   "outputs": [
    {
     "name": "stdout",
     "output_type": "stream",
     "text": [
      "Looking in links: https://data.pyg.org/whl/torch-2.4.1+cu121.html\n",
      "Requirement already satisfied: torch-scatter in /usr/local/lib/python3.10/dist-packages (2.1.2+pt20cu118)\n"
     ]
    }
   ],
   "source": [
    "!pip install torch-scatter -f https://data.pyg.org/whl/torch-2.4.1+cu121.html\n",
    "\n"
   ]
  },
  {
   "cell_type": "code",
   "execution_count": 9,
   "metadata": {
    "execution": {
     "iopub.execute_input": "2025-01-13T22:33:48.534958Z",
     "iopub.status.busy": "2025-01-13T22:33:48.534605Z",
     "iopub.status.idle": "2025-01-13T22:33:51.334414Z",
     "shell.execute_reply": "2025-01-13T22:33:51.333259Z",
     "shell.execute_reply.started": "2025-01-13T22:33:48.534931Z"
    },
    "trusted": true
   },
   "outputs": [
    {
     "name": "stdout",
     "output_type": "stream",
     "text": [
      "Name: torch-scatter\n",
      "Version: 2.1.2+pt20cu118\n",
      "Summary: PyTorch Extension Library of Optimized Scatter Operations\n",
      "Home-page: https://github.com/rusty1s/pytorch_scatter\n",
      "Author: Matthias Fey\n",
      "Author-email: matthias.fey@tu-dortmund.de\n",
      "License: \n",
      "Location: /usr/local/lib/python3.10/dist-packages\n",
      "Requires: \n",
      "Required-by: \n",
      "Note: you may need to restart the kernel to use updated packages.\n"
     ]
    }
   ],
   "source": [
    "pip show torch-scatter\n"
   ]
  },
  {
   "cell_type": "code",
   "execution_count": 10,
   "metadata": {
    "execution": {
     "iopub.execute_input": "2025-01-13T22:33:53.489938Z",
     "iopub.status.busy": "2025-01-13T22:33:53.489471Z",
     "iopub.status.idle": "2025-01-13T22:33:58.033434Z",
     "shell.execute_reply": "2025-01-13T22:33:58.032545Z",
     "shell.execute_reply.started": "2025-01-13T22:33:53.489903Z"
    },
    "trusted": true
   },
   "outputs": [
    {
     "name": "stdout",
     "output_type": "stream",
     "text": [
      "/usr/local/lib/python3.10/dist-packages/torch_geometric/typing.py:86: UserWarning: An issue occurred while importing 'torch-scatter'. Disabling its usage. Stacktrace: /usr/local/lib/python3.10/dist-packages/torch_scatter/_version_cuda.so: undefined symbol: _ZN3c1017RegisterOperatorsD1Ev\n",
      "  warnings.warn(f\"An issue occurred while importing 'torch-scatter'. \"\n",
      "/usr/local/lib/python3.10/dist-packages/torch_geometric/typing.py:124: UserWarning: An issue occurred while importing 'torch-sparse'. Disabling its usage. Stacktrace: /usr/local/lib/python3.10/dist-packages/torch_sparse/_version_cuda.so: undefined symbol: _ZN3c1017RegisterOperatorsD1Ev\n",
      "  warnings.warn(f\"An issue occurred while importing 'torch-sparse'. \"\n",
      "usage: main.py [-h] [--task {Task.NEIGHBORS_MATCH}]\n",
      "               [--type {GNN_TYPE.GCN,GNN_TYPE.GGNN,GNN_TYPE.GIN,GNN_TYPE.GAT,GNN_TYPE.GSAGE_MEAN,GNN_TYPE.GSAGE_MAX,GNN_TYPE.GSAGE_MIN,GNN_TYPE.GSAGE_SUM,GNN_TYPE.GSAGE_HYBRID,GNN_TYPE.GSAGE_GATED_HYBRID_SUM,GNN_TYPE.GSAGE_GATED_HYBRID_MAX,GNN_TYPE.GSAGE_GATED_HYBRID_MEAN,GNN_TYPE.GSAGE_MAXSUM}]\n",
      "               [--dim DIM] [--depth DEPTH] [--num_layers NUM_LAYERS]\n",
      "               [--train_fraction TRAIN_FRACTION] [--max_epochs MAX_EPOCHS]\n",
      "               [--eval_every EVAL_EVERY] [--batch_size BATCH_SIZE] [--accum_grad ACCUM_GRAD]\n",
      "               [--stop {STOP.TRAIN,STOP.TEST}] [--patience PATIENCE]\n",
      "               [--loader_workers LOADER_WORKERS] [--last_layer_fully_adjacent] [--no_layer_norm]\n",
      "               [--no_activation] [--no_residual] [--unroll]\n",
      "               [--resume_checkpoint RESUME_CHECKPOINT]\n",
      "\n",
      "options:\n",
      "  -h, --help            show this help message and exit\n",
      "  --task {Task.NEIGHBORS_MATCH}\n",
      "  --type {GNN_TYPE.GCN,GNN_TYPE.GGNN,GNN_TYPE.GIN,GNN_TYPE.GAT,GNN_TYPE.GSAGE_MEAN,GNN_TYPE.GSAGE_MAX,GNN_TYPE.GSAGE_MIN,GNN_TYPE.GSAGE_SUM,GNN_TYPE.GSAGE_HYBRID,GNN_TYPE.GSAGE_GATED_HYBRID_SUM,GNN_TYPE.GSAGE_GATED_HYBRID_MAX,GNN_TYPE.GSAGE_GATED_HYBRID_MEAN,GNN_TYPE.GSAGE_MAXSUM}\n",
      "  --dim DIM\n",
      "  --depth DEPTH\n",
      "  --num_layers NUM_LAYERS\n",
      "  --train_fraction TRAIN_FRACTION\n",
      "  --max_epochs MAX_EPOCHS\n",
      "  --eval_every EVAL_EVERY\n",
      "  --batch_size BATCH_SIZE\n",
      "  --accum_grad ACCUM_GRAD\n",
      "  --stop {STOP.TRAIN,STOP.TEST}\n",
      "  --patience PATIENCE\n",
      "  --loader_workers LOADER_WORKERS\n",
      "  --last_layer_fully_adjacent\n",
      "  --no_layer_norm\n",
      "  --no_activation\n",
      "  --no_residual\n",
      "  --unroll              use the same weights across GNN layers\n",
      "  --resume_checkpoint RESUME_CHECKPOINT\n",
      "                        Path to the checkpoint file to resume training\n"
     ]
    }
   ],
   "source": [
    "!python main.py --help"
   ]
  },
  {
   "cell_type": "code",
   "execution_count": 12,
   "metadata": {
    "execution": {
     "iopub.execute_input": "2025-01-13T22:34:46.755268Z",
     "iopub.status.busy": "2025-01-13T22:34:46.754869Z",
     "iopub.status.idle": "2025-01-13T23:27:04.266853Z",
     "shell.execute_reply": "2025-01-13T23:27:04.265867Z",
     "shell.execute_reply.started": "2025-01-13T22:34:46.755239Z"
    },
    "trusted": true
   },
   "outputs": [
    {
     "name": "stdout",
     "output_type": "stream",
     "text": [
      "/usr/local/lib/python3.10/dist-packages/torch_geometric/typing.py:86: UserWarning: An issue occurred while importing 'torch-scatter'. Disabling its usage. Stacktrace: /usr/local/lib/python3.10/dist-packages/torch_scatter/_version_cuda.so: undefined symbol: _ZN3c1017RegisterOperatorsD1Ev\n",
      "  warnings.warn(f\"An issue occurred while importing 'torch-scatter'. \"\n",
      "/usr/local/lib/python3.10/dist-packages/torch_geometric/typing.py:124: UserWarning: An issue occurred while importing 'torch-sparse'. Disabling its usage. Stacktrace: /usr/local/lib/python3.10/dist-packages/torch_sparse/_version_cuda.so: undefined symbol: _ZN3c1017RegisterOperatorsD1Ev\n",
      "  warnings.warn(f\"An issue occurred while importing 'torch-sparse'. \"\n",
      "Starting experiment\n",
      "task: Task.NEIGHBORS_MATCH\n",
      "type: GNN_TYPE.GSAGE_MAXSUM\n",
      "dim: 32\n",
      "depth: 2\n",
      "num_layers: 3\n",
      "train_fraction: 0.8\n",
      "max_epochs: 50000\n",
      "eval_every: 1000\n",
      "batch_size: 64\n",
      "accum_grad: 1\n",
      "stop: STOP.TRAIN\n",
      "patience: 20\n",
      "loader_workers: 7\n",
      "last_layer_fully_adjacent: False\n",
      "no_layer_norm: False\n",
      "no_activation: True\n",
      "no_residual: False\n",
      "unroll: False\n",
      "\n",
      "Training examples: 76, test examples: 20\n",
      "Starting training\n",
      "/usr/local/lib/python3.10/dist-packages/torch_geometric/deprecation.py:26: UserWarning: 'data.DataLoader' is deprecated, use 'loader.DataLoader' instead\n",
      "  warnings.warn(out)\n",
      "/usr/local/lib/python3.10/dist-packages/torch/utils/data/dataloader.py:557: UserWarning: This DataLoader will create 7 worker processes in total. Our suggested max number of worker in current system is 4, which is smaller than what this DataLoader is going to create. Please be aware that excessive worker creation might get DataLoader running slow or even freeze, lower the worker number to avoid potential slowness/freeze if necessary.\n",
      "  warnings.warn(_create_warning_msg(\n",
      "/usr/local/lib/python3.10/dist-packages/torch_geometric/warnings.py:11: UserWarning: The usage of `scatter(reduce='max')` can be accelerated via the 'torch-scatter' package, but it was not found\n",
      "  warnings.warn(message)\n",
      "Epoch 1000, LR: [0.001]: Train loss: 0.2268985, Train acc: 0.9058, Test accuracy: 0.5500 (new best train)\n",
      "Checkpoint saved at epoch 1000 -> checkpoints/checkpoint_epoch_1000.pt\n",
      "Epoch 2000, LR: [0.001]: Train loss: 0.0006327, Train acc: 1.0000, Test accuracy: 0.6000 (new best train)\n",
      "Checkpoint saved at epoch 2000 -> checkpoints/checkpoint_epoch_2000.pt\n",
      "Best train acc: 1.0, epoch: 2000\n",
      "\n",
      "Starting experiment\n",
      "task: Task.NEIGHBORS_MATCH\n",
      "type: GNN_TYPE.GSAGE_MAXSUM\n",
      "dim: 32\n",
      "depth: 3\n",
      "num_layers: 4\n",
      "train_fraction: 0.8\n",
      "max_epochs: 50000\n",
      "eval_every: 100\n",
      "batch_size: 64\n",
      "accum_grad: 1\n",
      "stop: STOP.TRAIN\n",
      "patience: 20\n",
      "loader_workers: 7\n",
      "last_layer_fully_adjacent: False\n",
      "no_layer_norm: False\n",
      "no_activation: True\n",
      "no_residual: False\n",
      "unroll: False\n",
      "\n",
      "Training examples: 6400, test examples: 1600\n",
      "Starting training\n",
      "/usr/local/lib/python3.10/dist-packages/torch_geometric/deprecation.py:26: UserWarning: 'data.DataLoader' is deprecated, use 'loader.DataLoader' instead\n",
      "  warnings.warn(out)\n",
      "/usr/local/lib/python3.10/dist-packages/torch/utils/data/dataloader.py:557: UserWarning: This DataLoader will create 7 worker processes in total. Our suggested max number of worker in current system is 4, which is smaller than what this DataLoader is going to create. Please be aware that excessive worker creation might get DataLoader running slow or even freeze, lower the worker number to avoid potential slowness/freeze if necessary.\n",
      "  warnings.warn(_create_warning_msg(\n",
      "/usr/local/lib/python3.10/dist-packages/torch_geometric/warnings.py:11: UserWarning: The usage of `scatter(reduce='max')` can be accelerated via the 'torch-scatter' package, but it was not found\n",
      "  warnings.warn(message)\n",
      "Epoch 100, LR: [0.001]: Train loss: 0.4470419, Train acc: 0.8261, Test accuracy: 0.9975 (new best train)\n",
      "Epoch 200, LR: [0.001]: Train loss: 0.0098761, Train acc: 0.9976, Test accuracy: 1.0000 (new best train)\n",
      "Epoch 300, LR: [0.001]: Train loss: 0.0107792, Train acc: 0.9979, Test accuracy: 0.9994 (new best train)\n",
      "Epoch 400, LR: [0.001]: Train loss: 0.0049374, Train acc: 0.9988, Test accuracy: 1.0000 (new best train)\n",
      "Epoch 500, LR: [0.001]: Train loss: 0.0075626, Train acc: 0.9988, Test accuracy: 0.9994\n",
      "Epoch 600, LR: [0.001]: Train loss: 0.0000079, Train acc: 1.0000, Test accuracy: 0.9981 (new best train)\n",
      "Best train acc: 1.0, epoch: 600\n",
      "\n",
      "Starting experiment\n",
      "task: Task.NEIGHBORS_MATCH\n",
      "type: GNN_TYPE.GSAGE_MAXSUM\n",
      "dim: 32\n",
      "depth: 4\n",
      "num_layers: 5\n",
      "train_fraction: 0.8\n",
      "max_epochs: 50000\n",
      "eval_every: 100\n",
      "batch_size: 1024\n",
      "accum_grad: 1\n",
      "stop: STOP.TRAIN\n",
      "patience: 20\n",
      "loader_workers: 7\n",
      "last_layer_fully_adjacent: False\n",
      "no_layer_norm: False\n",
      "no_activation: True\n",
      "no_residual: False\n",
      "unroll: False\n",
      "\n",
      "Training examples: 12800, test examples: 3200\n",
      "Starting training\n",
      "/usr/local/lib/python3.10/dist-packages/torch_geometric/deprecation.py:26: UserWarning: 'data.DataLoader' is deprecated, use 'loader.DataLoader' instead\n",
      "  warnings.warn(out)\n",
      "/usr/local/lib/python3.10/dist-packages/torch/utils/data/dataloader.py:557: UserWarning: This DataLoader will create 7 worker processes in total. Our suggested max number of worker in current system is 4, which is smaller than what this DataLoader is going to create. Please be aware that excessive worker creation might get DataLoader running slow or even freeze, lower the worker number to avoid potential slowness/freeze if necessary.\n",
      "  warnings.warn(_create_warning_msg(\n",
      "/usr/local/lib/python3.10/dist-packages/torch_geometric/warnings.py:11: UserWarning: The usage of `scatter(reduce='max')` can be accelerated via the 'torch-scatter' package, but it was not found\n",
      "  warnings.warn(message)\n",
      "Epoch 100, LR: [0.001]: Train loss: 2.7698303, Train acc: 0.0730, Test accuracy: 0.0622 (new best train)\n",
      "Epoch 200, LR: [0.001]: Train loss: 2.5294069, Train acc: 0.1583, Test accuracy: 0.1875 (new best train)\n",
      "Epoch 300, LR: [0.001]: Train loss: 1.9820107, Train acc: 0.3345, Test accuracy: 0.2791 (new best train)\n",
      "Epoch 400, LR: [0.001]: Train loss: 1.7060073, Train acc: 0.4299, Test accuracy: 0.3541 (new best train)\n",
      "Epoch 500, LR: [0.001]: Train loss: 1.5060759, Train acc: 0.5023, Test accuracy: 0.4031 (new best train)\n",
      "Epoch 600, LR: [0.001]: Train loss: 1.3951396, Train acc: 0.5429, Test accuracy: 0.4537 (new best train)\n",
      "Epoch 700, LR: [0.001]: Train loss: 1.3354684, Train acc: 0.5606, Test accuracy: 0.4606 (new best train)\n",
      "Epoch 800, LR: [0.001]: Train loss: 1.2788431, Train acc: 0.5743, Test accuracy: 0.4875 (new best train)\n",
      "Epoch 900, LR: [0.001]: Train loss: 1.2027558, Train acc: 0.5949, Test accuracy: 0.5038 (new best train)\n",
      "Epoch 1000, LR: [0.001]: Train loss: 1.0921264, Train acc: 0.6278, Test accuracy: 0.5494 (new best train)\n",
      "Checkpoint saved at epoch 1000 -> checkpoints/checkpoint_epoch_1000.pt\n",
      "Epoch 1100, LR: [0.001]: Train loss: 0.9707127, Train acc: 0.6654, Test accuracy: 0.6009 (new best train)\n",
      "Epoch 1200, LR: [0.001]: Train loss: 0.8415126, Train acc: 0.7069, Test accuracy: 0.6334 (new best train)\n",
      "Epoch 1300, LR: [0.001]: Train loss: 0.7259136, Train acc: 0.7486, Test accuracy: 0.6813 (new best train)\n",
      "Epoch 1400, LR: [0.001]: Train loss: 0.6109612, Train acc: 0.7904, Test accuracy: 0.7444 (new best train)\n",
      "Epoch 1500, LR: [0.001]: Train loss: 0.5227818, Train acc: 0.8222, Test accuracy: 0.7306 (new best train)\n",
      "Epoch 1600, LR: [0.001]: Train loss: 0.4885655, Train acc: 0.8437, Test accuracy: 0.8006 (new best train)\n",
      "Epoch 1700, LR: [0.001]: Train loss: 0.4035017, Train acc: 0.8713, Test accuracy: 0.8078 (new best train)\n",
      "Epoch 1800, LR: [0.001]: Train loss: 0.3955732, Train acc: 0.8746, Test accuracy: 0.8447 (new best train)\n",
      "Epoch 1900, LR: [0.001]: Train loss: 0.5470035, Train acc: 0.8449, Test accuracy: 0.8491\n",
      "Epoch 2000, LR: [0.001]: Train loss: 0.3276150, Train acc: 0.8997, Test accuracy: 0.8516 (new best train)\n",
      "Checkpoint saved at epoch 2000 -> checkpoints/checkpoint_epoch_2000.pt\n",
      "Epoch 2100, LR: [0.001]: Train loss: 0.3921533, Train acc: 0.8917, Test accuracy: 0.8694\n",
      "Epoch 2200, LR: [0.001]: Train loss: 0.2283289, Train acc: 0.9284, Test accuracy: 0.8681 (new best train)\n",
      "Epoch 2300, LR: [0.001]: Train loss: 0.3567400, Train acc: 0.9039, Test accuracy: 0.8828\n",
      "Epoch 2400, LR: [0.001]: Train loss: 0.3058840, Train acc: 0.9174, Test accuracy: 0.9053\n",
      "Epoch 2500, LR: [0.001]: Train loss: 0.3659494, Train acc: 0.9021, Test accuracy: 0.8709\n",
      "Epoch 2600, LR: [0.001]: Train loss: 0.2407213, Train acc: 0.9307, Test accuracy: 0.8791 (new best train)\n",
      "Epoch 2700, LR: [0.001]: Train loss: 0.2542372, Train acc: 0.9304, Test accuracy: 0.9022\n",
      "Epoch 2800, LR: [0.001]: Train loss: 0.2830163, Train acc: 0.9240, Test accuracy: 0.8897\n",
      "Epoch 2900, LR: [0.001]: Train loss: 0.2320507, Train acc: 0.9451, Test accuracy: 0.3538 (new best train)\n",
      "Epoch 3000, LR: [0.001]: Train loss: 0.2024588, Train acc: 0.9423, Test accuracy: 0.9328\n",
      "Checkpoint saved at epoch 3000 -> checkpoints/checkpoint_epoch_3000.pt\n",
      "Epoch 3100, LR: [0.001]: Train loss: 0.1569927, Train acc: 0.9630, Test accuracy: 0.9441 (new best train)\n",
      "Epoch 3200, LR: [0.001]: Train loss: 0.1131268, Train acc: 0.9762, Test accuracy: 0.9434 (new best train)\n",
      "Epoch 3300, LR: [0.001]: Train loss: 0.1102275, Train acc: 0.9777, Test accuracy: 0.9625 (new best train)\n",
      "Epoch 3400, LR: [0.001]: Train loss: 0.1048316, Train acc: 0.9808, Test accuracy: 0.9691 (new best train)\n",
      "Epoch 3500, LR: [0.001]: Train loss: 0.3848030, Train acc: 0.9167, Test accuracy: 0.9644\n",
      "Epoch 3600, LR: [0.001]: Train loss: 0.0807428, Train acc: 0.9862, Test accuracy: 0.9697 (new best train)\n",
      "Epoch 3700, LR: [0.001]: Train loss: 0.0689630, Train acc: 0.9879, Test accuracy: 0.9734 (new best train)\n",
      "Epoch 3800, LR: [0.001]: Train loss: 0.3025757, Train acc: 0.9518, Test accuracy: 0.9722\n",
      "Epoch 3900, LR: [0.001]: Train loss: 0.0843984, Train acc: 0.9850, Test accuracy: 0.9769\n",
      "Epoch 4000, LR: [0.001]: Train loss: 0.2541865, Train acc: 0.9560, Test accuracy: 0.7719\n",
      "Checkpoint saved at epoch 4000 -> checkpoints/checkpoint_epoch_4000.pt\n",
      "Epoch 4100, LR: [0.001]: Train loss: 0.1323510, Train acc: 0.9757, Test accuracy: 0.9781\n",
      "Epoch 4200, LR: [0.001]: Train loss: 0.0037154, Train acc: 1.0000, Test accuracy: 0.9812 (new best train)\n",
      "Epoch 4300, LR: [0.001]: Train loss: 0.5614497, Train acc: 0.8683, Test accuracy: 0.9750\n",
      "Epoch 4400, LR: [0.001]: Train loss: 0.1644966, Train acc: 0.9732, Test accuracy: 0.9816\n",
      "Epoch 4500, LR: [0.001]: Train loss: 0.0041681, Train acc: 1.0000, Test accuracy: 0.9875\n",
      "Epoch 4600, LR: [0.001]: Train loss: 0.0018961, Train acc: 1.0000, Test accuracy: 0.9909\n",
      "Epoch 4700, LR: [0.001]: Train loss: 1.0253145, Train acc: 0.7350, Test accuracy: 0.9675\n",
      "Epoch 4800, LR: [0.001]: Train loss: 0.0250693, Train acc: 0.9952, Test accuracy: 0.9859\n",
      "Epoch 4900, LR: [0.001]: Train loss: 0.0029375, Train acc: 1.0000, Test accuracy: 0.9900\n",
      "Epoch 5000, LR: [0.001]: Train loss: 0.0014293, Train acc: 1.0000, Test accuracy: 0.9925\n",
      "Checkpoint saved at epoch 5000 -> checkpoints/checkpoint_epoch_5000.pt\n",
      "Epoch 5100, LR: [0.001]: Train loss: 1.2189149, Train acc: 0.6433, Test accuracy: 0.9491\n",
      "Epoch 5200, LR: [0.001]: Train loss: 0.0590422, Train acc: 0.9890, Test accuracy: 0.9888\n",
      "Epoch 5300, LR: [0.0005]: Train loss: 0.0025741, Train acc: 1.0000, Test accuracy: 0.9922\n",
      "Epoch 5400, LR: [0.0005]: Train loss: 0.0013015, Train acc: 1.0000, Test accuracy: 0.9944\n",
      "Epoch 5500, LR: [0.0005]: Train loss: 0.0008533, Train acc: 1.0000, Test accuracy: 0.9956\n",
      "Epoch 5600, LR: [0.0005]: Train loss: 0.0005223, Train acc: 1.0000, Test accuracy: 0.9972\n",
      "Epoch 5700, LR: [0.0005]: Train loss: 0.2551718, Train acc: 0.9607, Test accuracy: 0.9894\n",
      "Epoch 5800, LR: [0.0005]: Train loss: 0.0013897, Train acc: 1.0000, Test accuracy: 0.9928\n",
      "Epoch 5900, LR: [0.0005]: Train loss: 0.0006135, Train acc: 1.0000, Test accuracy: 0.9928\n",
      "Epoch 6000, LR: [0.0005]: Train loss: 0.0003751, Train acc: 1.0000, Test accuracy: 0.9944\n",
      "Checkpoint saved at epoch 6000 -> checkpoints/checkpoint_epoch_6000.pt\n",
      "Epoch 6100, LR: [0.0005]: Train loss: 0.0002477, Train acc: 1.0000, Test accuracy: 0.9966\n",
      "Epoch 6200, LR: [0.0005]: Train loss: 0.1929580, Train acc: 0.9753, Test accuracy: 0.9897\n",
      "20 * 100 epochs without STOP.TRAIN improvement, stopping.\n",
      "Best train acc: 0.99999921875, epoch: 4200\n",
      "\n",
      "Task: Task.NEIGHBORS_MATCH\n",
      "depth, train_acc, test_acc, epoch, train_acc, test_acc, epoch,\n",
      "2, 1.0, 0.6, 2\n",
      "3, 1.0, 0.998125, 6\n",
      "4, 0.99999921875, 0.98125, 42\n"
     ]
    }
   ],
   "source": [
    "!python run-gsage-hybrid-2-6.py"
   ]
  }
 ],
 "metadata": {
  "kaggle": {
   "accelerator": "nvidiaTeslaT4",
   "dataSources": [],
   "dockerImageVersionId": 30823,
   "isGpuEnabled": true,
   "isInternetEnabled": true,
   "language": "python",
   "sourceType": "notebook"
  },
  "kernelspec": {
   "display_name": "Python 3",
   "language": "python",
   "name": "python3"
  },
  "language_info": {
   "codemirror_mode": {
    "name": "ipython",
    "version": 3
   },
   "file_extension": ".py",
   "mimetype": "text/x-python",
   "name": "python",
   "nbconvert_exporter": "python",
   "pygments_lexer": "ipython3",
   "version": "3.10.12"
  }
 },
 "nbformat": 4,
 "nbformat_minor": 4
}
