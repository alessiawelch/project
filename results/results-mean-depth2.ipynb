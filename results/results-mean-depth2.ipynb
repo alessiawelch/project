{
 "cells": [
  {
   "cell_type": "code",
   "execution_count": 3,
   "metadata": {
    "execution": {
     "iopub.execute_input": "2025-01-06T12:07:43.648009Z",
     "iopub.status.busy": "2025-01-06T12:07:43.647750Z",
     "iopub.status.idle": "2025-01-06T12:07:54.392433Z",
     "shell.execute_reply": "2025-01-06T12:07:54.391525Z",
     "shell.execute_reply.started": "2025-01-06T12:07:43.647986Z"
    },
    "trusted": true
   },
   "outputs": [
    {
     "name": "stdout",
     "output_type": "stream",
     "text": [
      "2.4.1+cu121\n",
      "Looking in links: https://data.pyg.org/whl/torch-2.0.1+cu118.html\n",
      "Requirement already satisfied: torch-scatter in /usr/local/lib/python3.10/dist-packages (2.1.2+pt20cu118)\n",
      "Looking in links: https://data.pyg.org/whl/torch-2.0.1+cu118.html\n",
      "Requirement already satisfied: torch-sparse in /usr/local/lib/python3.10/dist-packages (0.6.18+pt20cu118)\n",
      "Requirement already satisfied: scipy in /usr/local/lib/python3.10/dist-packages (from torch-sparse) (1.13.1)\n",
      "Requirement already satisfied: numpy<2.3,>=1.22.4 in /usr/local/lib/python3.10/dist-packages (from scipy->torch-sparse) (1.26.4)\n",
      "Requirement already satisfied: torch-geometric in /usr/local/lib/python3.10/dist-packages (2.6.1)\n",
      "Requirement already satisfied: aiohttp in /usr/local/lib/python3.10/dist-packages (from torch-geometric) (3.10.5)\n",
      "Requirement already satisfied: fsspec in /usr/local/lib/python3.10/dist-packages (from torch-geometric) (2024.6.1)\n",
      "Requirement already satisfied: jinja2 in /usr/local/lib/python3.10/dist-packages (from torch-geometric) (3.1.4)\n",
      "Requirement already satisfied: numpy in /usr/local/lib/python3.10/dist-packages (from torch-geometric) (1.26.4)\n",
      "Requirement already satisfied: psutil>=5.8.0 in /usr/local/lib/python3.10/dist-packages (from torch-geometric) (5.9.5)\n",
      "Requirement already satisfied: pyparsing in /usr/local/lib/python3.10/dist-packages (from torch-geometric) (3.1.4)\n",
      "Requirement already satisfied: requests in /usr/local/lib/python3.10/dist-packages (from torch-geometric) (2.32.3)\n",
      "Requirement already satisfied: tqdm in /usr/local/lib/python3.10/dist-packages (from torch-geometric) (4.66.5)\n",
      "Requirement already satisfied: aiohappyeyeballs>=2.3.0 in /usr/local/lib/python3.10/dist-packages (from aiohttp->torch-geometric) (2.4.0)\n",
      "Requirement already satisfied: aiosignal>=1.1.2 in /usr/local/lib/python3.10/dist-packages (from aiohttp->torch-geometric) (1.3.1)\n",
      "Requirement already satisfied: attrs>=17.3.0 in /usr/local/lib/python3.10/dist-packages (from aiohttp->torch-geometric) (24.2.0)\n",
      "Requirement already satisfied: frozenlist>=1.1.1 in /usr/local/lib/python3.10/dist-packages (from aiohttp->torch-geometric) (1.4.1)\n",
      "Requirement already satisfied: multidict<7.0,>=4.5 in /usr/local/lib/python3.10/dist-packages (from aiohttp->torch-geometric) (6.1.0)\n",
      "Requirement already satisfied: yarl<2.0,>=1.0 in /usr/local/lib/python3.10/dist-packages (from aiohttp->torch-geometric) (1.11.1)\n",
      "Requirement already satisfied: async-timeout<5.0,>=4.0 in /usr/local/lib/python3.10/dist-packages (from aiohttp->torch-geometric) (4.0.3)\n",
      "Requirement already satisfied: MarkupSafe>=2.0 in /usr/local/lib/python3.10/dist-packages (from jinja2->torch-geometric) (2.1.5)\n",
      "Requirement already satisfied: charset-normalizer<4,>=2 in /usr/local/lib/python3.10/dist-packages (from requests->torch-geometric) (3.3.2)\n",
      "Requirement already satisfied: idna<4,>=2.5 in /usr/local/lib/python3.10/dist-packages (from requests->torch-geometric) (3.10)\n",
      "Requirement already satisfied: urllib3<3,>=1.21.1 in /usr/local/lib/python3.10/dist-packages (from requests->torch-geometric) (2.2.3)\n",
      "Requirement already satisfied: certifi>=2017.4.17 in /usr/local/lib/python3.10/dist-packages (from requests->torch-geometric) (2024.8.30)\n",
      "Requirement already satisfied: typing-extensions>=4.1.0 in /usr/local/lib/python3.10/dist-packages (from multidict<7.0,>=4.5->aiohttp->torch-geometric) (4.12.2)\n"
     ]
    }
   ],
   "source": [
    "import torch\n",
    "print(torch.__version__)  # e.g., 2.0.1\n",
    "\n",
    "# Example installation (this line may change based on the PyTorch Geometric docs)\n",
    "!pip install torch-scatter -f https://data.pyg.org/whl/torch-2.0.1+cu118.html\n",
    "!pip install torch-sparse -f https://data.pyg.org/whl/torch-2.0.1+cu118.html\n",
    "!pip install torch-geometric"
   ]
  },
  {
   "cell_type": "code",
   "execution_count": 4,
   "metadata": {
    "execution": {
     "iopub.execute_input": "2025-01-06T12:07:54.394738Z",
     "iopub.status.busy": "2025-01-06T12:07:54.394164Z",
     "iopub.status.idle": "2025-01-06T12:07:57.507568Z",
     "shell.execute_reply": "2025-01-06T12:07:57.506464Z",
     "shell.execute_reply.started": "2025-01-06T12:07:54.394714Z"
    },
    "trusted": true
   },
   "outputs": [
    {
     "name": "stdout",
     "output_type": "stream",
     "text": [
      "Requirement already satisfied: attrdict==2.0.1 in /usr/local/lib/python3.10/dist-packages (from -r requirements.txt (line 1)) (2.0.1)\n",
      "Requirement already satisfied: torch>=1.4.0 in /usr/local/lib/python3.10/dist-packages (from -r requirements.txt (line 2)) (2.4.1+cu121)\n",
      "Requirement already satisfied: torch-geometric>=1.4.2 in /usr/local/lib/python3.10/dist-packages (from -r requirements.txt (line 3)) (2.6.1)\n",
      "Requirement already satisfied: torch-scatter>=2.0.4 in /usr/local/lib/python3.10/dist-packages (from -r requirements.txt (line 4)) (2.1.2+pt20cu118)\n",
      "Requirement already satisfied: torch-sparse>=0.6.0 in /usr/local/lib/python3.10/dist-packages (from -r requirements.txt (line 5)) (0.6.18+pt20cu118)\n",
      "Requirement already satisfied: torchvision>=0.5.0 in /usr/local/lib/python3.10/dist-packages (from -r requirements.txt (line 6)) (0.19.1+cu121)\n",
      "Requirement already satisfied: six in /usr/local/lib/python3.10/dist-packages (from attrdict==2.0.1->-r requirements.txt (line 1)) (1.16.0)\n",
      "Requirement already satisfied: filelock in /usr/local/lib/python3.10/dist-packages (from torch>=1.4.0->-r requirements.txt (line 2)) (3.16.1)\n",
      "Requirement already satisfied: typing-extensions>=4.8.0 in /usr/local/lib/python3.10/dist-packages (from torch>=1.4.0->-r requirements.txt (line 2)) (4.12.2)\n",
      "Requirement already satisfied: sympy in /usr/local/lib/python3.10/dist-packages (from torch>=1.4.0->-r requirements.txt (line 2)) (1.13.3)\n",
      "Requirement already satisfied: networkx in /usr/local/lib/python3.10/dist-packages (from torch>=1.4.0->-r requirements.txt (line 2)) (3.3)\n",
      "Requirement already satisfied: jinja2 in /usr/local/lib/python3.10/dist-packages (from torch>=1.4.0->-r requirements.txt (line 2)) (3.1.4)\n",
      "Requirement already satisfied: fsspec in /usr/local/lib/python3.10/dist-packages (from torch>=1.4.0->-r requirements.txt (line 2)) (2024.6.1)\n",
      "Requirement already satisfied: aiohttp in /usr/local/lib/python3.10/dist-packages (from torch-geometric>=1.4.2->-r requirements.txt (line 3)) (3.10.5)\n",
      "Requirement already satisfied: numpy in /usr/local/lib/python3.10/dist-packages (from torch-geometric>=1.4.2->-r requirements.txt (line 3)) (1.26.4)\n",
      "Requirement already satisfied: psutil>=5.8.0 in /usr/local/lib/python3.10/dist-packages (from torch-geometric>=1.4.2->-r requirements.txt (line 3)) (5.9.5)\n",
      "Requirement already satisfied: pyparsing in /usr/local/lib/python3.10/dist-packages (from torch-geometric>=1.4.2->-r requirements.txt (line 3)) (3.1.4)\n",
      "Requirement already satisfied: requests in /usr/local/lib/python3.10/dist-packages (from torch-geometric>=1.4.2->-r requirements.txt (line 3)) (2.32.3)\n",
      "Requirement already satisfied: tqdm in /usr/local/lib/python3.10/dist-packages (from torch-geometric>=1.4.2->-r requirements.txt (line 3)) (4.66.5)\n",
      "Requirement already satisfied: scipy in /usr/local/lib/python3.10/dist-packages (from torch-sparse>=0.6.0->-r requirements.txt (line 5)) (1.13.1)\n",
      "Requirement already satisfied: pillow!=8.3.*,>=5.3.0 in /usr/local/lib/python3.10/dist-packages (from torchvision>=0.5.0->-r requirements.txt (line 6)) (10.4.0)\n",
      "Requirement already satisfied: aiohappyeyeballs>=2.3.0 in /usr/local/lib/python3.10/dist-packages (from aiohttp->torch-geometric>=1.4.2->-r requirements.txt (line 3)) (2.4.0)\n",
      "Requirement already satisfied: aiosignal>=1.1.2 in /usr/local/lib/python3.10/dist-packages (from aiohttp->torch-geometric>=1.4.2->-r requirements.txt (line 3)) (1.3.1)\n",
      "Requirement already satisfied: attrs>=17.3.0 in /usr/local/lib/python3.10/dist-packages (from aiohttp->torch-geometric>=1.4.2->-r requirements.txt (line 3)) (24.2.0)\n",
      "Requirement already satisfied: frozenlist>=1.1.1 in /usr/local/lib/python3.10/dist-packages (from aiohttp->torch-geometric>=1.4.2->-r requirements.txt (line 3)) (1.4.1)\n",
      "Requirement already satisfied: multidict<7.0,>=4.5 in /usr/local/lib/python3.10/dist-packages (from aiohttp->torch-geometric>=1.4.2->-r requirements.txt (line 3)) (6.1.0)\n",
      "Requirement already satisfied: yarl<2.0,>=1.0 in /usr/local/lib/python3.10/dist-packages (from aiohttp->torch-geometric>=1.4.2->-r requirements.txt (line 3)) (1.11.1)\n",
      "Requirement already satisfied: async-timeout<5.0,>=4.0 in /usr/local/lib/python3.10/dist-packages (from aiohttp->torch-geometric>=1.4.2->-r requirements.txt (line 3)) (4.0.3)\n",
      "Requirement already satisfied: MarkupSafe>=2.0 in /usr/local/lib/python3.10/dist-packages (from jinja2->torch>=1.4.0->-r requirements.txt (line 2)) (2.1.5)\n",
      "Requirement already satisfied: charset-normalizer<4,>=2 in /usr/local/lib/python3.10/dist-packages (from requests->torch-geometric>=1.4.2->-r requirements.txt (line 3)) (3.3.2)\n",
      "Requirement already satisfied: idna<4,>=2.5 in /usr/local/lib/python3.10/dist-packages (from requests->torch-geometric>=1.4.2->-r requirements.txt (line 3)) (3.10)\n",
      "Requirement already satisfied: urllib3<3,>=1.21.1 in /usr/local/lib/python3.10/dist-packages (from requests->torch-geometric>=1.4.2->-r requirements.txt (line 3)) (2.2.3)\n",
      "Requirement already satisfied: certifi>=2017.4.17 in /usr/local/lib/python3.10/dist-packages (from requests->torch-geometric>=1.4.2->-r requirements.txt (line 3)) (2024.8.30)\n",
      "Requirement already satisfied: mpmath<1.4,>=1.1.0 in /usr/local/lib/python3.10/dist-packages (from sympy->torch>=1.4.0->-r requirements.txt (line 2)) (1.3.0)\n"
     ]
    }
   ],
   "source": [
    "!pip install -r requirements.txt"
   ]
  },
  {
   "cell_type": "code",
   "execution_count": 5,
   "metadata": {
    "execution": {
     "iopub.execute_input": "2025-01-06T12:07:57.509032Z",
     "iopub.status.busy": "2025-01-06T12:07:57.508745Z",
     "iopub.status.idle": "2025-01-06T12:08:00.611178Z",
     "shell.execute_reply": "2025-01-06T12:08:00.610074Z",
     "shell.execute_reply.started": "2025-01-06T12:07:57.509006Z"
    },
    "trusted": true
   },
   "outputs": [
    {
     "name": "stdout",
     "output_type": "stream",
     "text": [
      "Requirement already satisfied: scikit-learn in /usr/local/lib/python3.10/dist-packages (1.2.2)\n",
      "Requirement already satisfied: numpy>=1.17.3 in /usr/local/lib/python3.10/dist-packages (from scikit-learn) (1.26.4)\n",
      "Requirement already satisfied: scipy>=1.3.2 in /usr/local/lib/python3.10/dist-packages (from scikit-learn) (1.13.1)\n",
      "Requirement already satisfied: joblib>=1.1.1 in /usr/local/lib/python3.10/dist-packages (from scikit-learn) (1.4.2)\n",
      "Requirement already satisfied: threadpoolctl>=2.0.0 in /usr/local/lib/python3.10/dist-packages (from scikit-learn) (3.5.0)\n"
     ]
    }
   ],
   "source": [
    "!pip install scikit-learn"
   ]
  },
  {
   "cell_type": "code",
   "execution_count": 6,
   "metadata": {
    "execution": {
     "iopub.execute_input": "2025-01-06T12:08:00.612776Z",
     "iopub.status.busy": "2025-01-06T12:08:00.612403Z",
     "iopub.status.idle": "2025-01-06T12:08:04.401701Z",
     "shell.execute_reply": "2025-01-06T12:08:04.400597Z",
     "shell.execute_reply.started": "2025-01-06T12:08:00.612742Z"
    },
    "trusted": true
   },
   "outputs": [
    {
     "name": "stdout",
     "output_type": "stream",
     "text": [
      "/usr/local/lib/python3.10/dist-packages/torch_geometric/typing.py:86: UserWarning: An issue occurred while importing 'torch-scatter'. Disabling its usage. Stacktrace: /usr/local/lib/python3.10/dist-packages/torch_scatter/_version_cuda.so: undefined symbol: _ZN3c1017RegisterOperatorsD1Ev\n",
      "  warnings.warn(f\"An issue occurred while importing 'torch-scatter'. \"\n",
      "/usr/local/lib/python3.10/dist-packages/torch_geometric/typing.py:124: UserWarning: An issue occurred while importing 'torch-sparse'. Disabling its usage. Stacktrace: /usr/local/lib/python3.10/dist-packages/torch_sparse/_version_cuda.so: undefined symbol: _ZN3c1017RegisterOperatorsD1Ev\n",
      "  warnings.warn(f\"An issue occurred while importing 'torch-sparse'. \"\n"
     ]
    }
   ],
   "source": [
    "!python -c 'import torch; import torch_geometric'"
   ]
  },
  {
   "cell_type": "code",
   "execution_count": 7,
   "metadata": {
    "execution": {
     "iopub.execute_input": "2025-01-06T12:08:04.403181Z",
     "iopub.status.busy": "2025-01-06T12:08:04.402879Z",
     "iopub.status.idle": "2025-01-06T12:08:08.832428Z",
     "shell.execute_reply": "2025-01-06T12:08:08.831304Z",
     "shell.execute_reply.started": "2025-01-06T12:08:04.403145Z"
    },
    "trusted": true
   },
   "outputs": [
    {
     "name": "stdout",
     "output_type": "stream",
     "text": [
      "Found existing installation: attrdict 2.0.1\n",
      "Uninstalling attrdict-2.0.1:\n",
      "  Successfully uninstalled attrdict-2.0.1\n",
      "Collecting attrdict==2.0.1\n",
      "  Using cached attrdict-2.0.1-py2.py3-none-any.whl.metadata (6.7 kB)\n",
      "Requirement already satisfied: six in /usr/local/lib/python3.10/dist-packages (from attrdict==2.0.1) (1.16.0)\n",
      "Using cached attrdict-2.0.1-py2.py3-none-any.whl (9.9 kB)\n",
      "Installing collected packages: attrdict\n",
      "Successfully installed attrdict-2.0.1\n"
     ]
    }
   ],
   "source": [
    "# Uninstall any existing attrdict to ensure a clean reinstall\n",
    "!pip uninstall -y attrdict\n",
    "\n",
    "# Reinstall attrdict (so we can then patch it)\n",
    "!pip install attrdict==2.0.1\n",
    "\n",
    "# Replace \"from collections import Mapping, MutableMapping, Sequence\"\n",
    "# with \"from collections.abc import Mapping, MutableMapping, Sequence\"\n",
    "!sed -i 's/from collections import Mapping, MutableMapping, Sequence/from collections.abc import Mapping, MutableMapping, Sequence/g' /usr/local/lib/python3.10/dist-packages/attrdict/*.py\n",
    "\n",
    "# Sometimes they're imported separately, so let's handle those too:\n",
    "!sed -i 's/from collections import Mapping/from collections.abc import Mapping/g' /usr/local/lib/python3.10/dist-packages/attrdict/*.py\n",
    "!sed -i 's/from collections import MutableMapping/from collections.abc import MutableMapping/g' /usr/local/lib/python3.10/dist-packages/attrdict/*.py\n",
    "!sed -i 's/from collections import Sequence/from collections.abc import Sequence/g' /usr/local/lib/python3.10/dist-packages/attrdict/*.py\n"
   ]
  },
  {
   "cell_type": "code",
   "execution_count": 8,
   "metadata": {
    "execution": {
     "iopub.execute_input": "2025-01-06T12:08:08.834854Z",
     "iopub.status.busy": "2025-01-06T12:08:08.834609Z",
     "iopub.status.idle": "2025-01-06T12:08:11.919629Z",
     "shell.execute_reply": "2025-01-06T12:08:11.918770Z",
     "shell.execute_reply.started": "2025-01-06T12:08:08.834832Z"
    },
    "trusted": true
   },
   "outputs": [
    {
     "name": "stdout",
     "output_type": "stream",
     "text": [
      "Looking in links: https://data.pyg.org/whl/torch-2.4.1+cu121.html\n",
      "Requirement already satisfied: torch-scatter in /usr/local/lib/python3.10/dist-packages (2.1.2+pt20cu118)\n"
     ]
    }
   ],
   "source": [
    "!pip install torch-scatter -f https://data.pyg.org/whl/torch-2.4.1+cu121.html\n",
    "\n"
   ]
  },
  {
   "cell_type": "code",
   "execution_count": 9,
   "metadata": {
    "execution": {
     "iopub.execute_input": "2025-01-06T12:08:11.921014Z",
     "iopub.status.busy": "2025-01-06T12:08:11.920780Z",
     "iopub.status.idle": "2025-01-06T12:08:14.550064Z",
     "shell.execute_reply": "2025-01-06T12:08:14.548994Z",
     "shell.execute_reply.started": "2025-01-06T12:08:11.920994Z"
    },
    "trusted": true
   },
   "outputs": [
    {
     "name": "stdout",
     "output_type": "stream",
     "text": [
      "Name: torch-scatter\n",
      "Version: 2.1.2+pt20cu118\n",
      "Summary: PyTorch Extension Library of Optimized Scatter Operations\n",
      "Home-page: https://github.com/rusty1s/pytorch_scatter\n",
      "Author: Matthias Fey\n",
      "Author-email: matthias.fey@tu-dortmund.de\n",
      "License: \n",
      "Location: /usr/local/lib/python3.10/dist-packages\n",
      "Requires: \n",
      "Required-by: \n",
      "Note: you may need to restart the kernel to use updated packages.\n"
     ]
    }
   ],
   "source": [
    "pip show torch-scatter\n"
   ]
  },
  {
   "cell_type": "code",
   "execution_count": 10,
   "metadata": {
    "execution": {
     "iopub.execute_input": "2025-01-06T12:08:14.551602Z",
     "iopub.status.busy": "2025-01-06T12:08:14.551254Z",
     "iopub.status.idle": "2025-01-06T12:08:18.605958Z",
     "shell.execute_reply": "2025-01-06T12:08:18.605003Z",
     "shell.execute_reply.started": "2025-01-06T12:08:14.551573Z"
    },
    "trusted": true
   },
   "outputs": [
    {
     "name": "stdout",
     "output_type": "stream",
     "text": [
      "/usr/local/lib/python3.10/dist-packages/torch_geometric/typing.py:86: UserWarning: An issue occurred while importing 'torch-scatter'. Disabling its usage. Stacktrace: /usr/local/lib/python3.10/dist-packages/torch_scatter/_version_cuda.so: undefined symbol: _ZN3c1017RegisterOperatorsD1Ev\n",
      "  warnings.warn(f\"An issue occurred while importing 'torch-scatter'. \"\n",
      "/usr/local/lib/python3.10/dist-packages/torch_geometric/typing.py:124: UserWarning: An issue occurred while importing 'torch-sparse'. Disabling its usage. Stacktrace: /usr/local/lib/python3.10/dist-packages/torch_sparse/_version_cuda.so: undefined symbol: _ZN3c1017RegisterOperatorsD1Ev\n",
      "  warnings.warn(f\"An issue occurred while importing 'torch-sparse'. \"\n",
      "usage: main.py [-h] [--task {Task.NEIGHBORS_MATCH}]\n",
      "               [--type {GNN_TYPE.GCN,GNN_TYPE.GGNN,GNN_TYPE.GIN,GNN_TYPE.GAT,GNN_TYPE.GSAGE_MEAN,GNN_TYPE.GSAGE_MAX,GNN_TYPE.GSAGE_MIN,GNN_TYPE.GSAGE_SUM}]\n",
      "               [--dim DIM] [--depth DEPTH] [--num_layers NUM_LAYERS]\n",
      "               [--train_fraction TRAIN_FRACTION] [--max_epochs MAX_EPOCHS]\n",
      "               [--eval_every EVAL_EVERY] [--batch_size BATCH_SIZE] [--accum_grad ACCUM_GRAD]\n",
      "               [--stop {STOP.TRAIN,STOP.TEST}] [--patience PATIENCE]\n",
      "               [--loader_workers LOADER_WORKERS] [--last_layer_fully_adjacent] [--no_layer_norm]\n",
      "               [--no_activation] [--no_residual] [--unroll]\n",
      "\n",
      "options:\n",
      "  -h, --help            show this help message and exit\n",
      "  --task {Task.NEIGHBORS_MATCH}\n",
      "  --type {GNN_TYPE.GCN,GNN_TYPE.GGNN,GNN_TYPE.GIN,GNN_TYPE.GAT,GNN_TYPE.GSAGE_MEAN,GNN_TYPE.GSAGE_MAX,GNN_TYPE.GSAGE_MIN,GNN_TYPE.GSAGE_SUM}\n",
      "  --dim DIM\n",
      "  --depth DEPTH\n",
      "  --num_layers NUM_LAYERS\n",
      "  --train_fraction TRAIN_FRACTION\n",
      "  --max_epochs MAX_EPOCHS\n",
      "  --eval_every EVAL_EVERY\n",
      "  --batch_size BATCH_SIZE\n",
      "  --accum_grad ACCUM_GRAD\n",
      "  --stop {STOP.TRAIN,STOP.TEST}\n",
      "  --patience PATIENCE\n",
      "  --loader_workers LOADER_WORKERS\n",
      "  --last_layer_fully_adjacent\n",
      "  --no_layer_norm\n",
      "  --no_activation\n",
      "  --no_residual\n",
      "  --unroll              use the same weights across GNN layers\n"
     ]
    }
   ],
   "source": [
    "!python main.py --help"
   ]
  },
  {
   "cell_type": "code",
   "execution_count": 12,
   "metadata": {
    "execution": {
     "iopub.execute_input": "2025-01-06T15:21:04.043010Z",
     "iopub.status.busy": "2025-01-06T15:21:04.042625Z",
     "iopub.status.idle": "2025-01-06T15:54:43.676939Z",
     "shell.execute_reply": "2025-01-06T15:54:43.675757Z",
     "shell.execute_reply.started": "2025-01-06T15:21:04.042974Z"
    },
    "trusted": true
   },
   "outputs": [
    {
     "name": "stdout",
     "output_type": "stream",
     "text": [
      "/usr/local/lib/python3.10/dist-packages/torch_geometric/typing.py:86: UserWarning: An issue occurred while importing 'torch-scatter'. Disabling its usage. Stacktrace: /usr/local/lib/python3.10/dist-packages/torch_scatter/_version_cuda.so: undefined symbol: _ZN3c1017RegisterOperatorsD1Ev\n",
      "  warnings.warn(f\"An issue occurred while importing 'torch-scatter'. \"\n",
      "/usr/local/lib/python3.10/dist-packages/torch_geometric/typing.py:124: UserWarning: An issue occurred while importing 'torch-sparse'. Disabling its usage. Stacktrace: /usr/local/lib/python3.10/dist-packages/torch_sparse/_version_cuda.so: undefined symbol: _ZN3c1017RegisterOperatorsD1Ev\n",
      "  warnings.warn(f\"An issue occurred while importing 'torch-sparse'. \"\n",
      "Starting experiment\n",
      "task: Task.NEIGHBORS_MATCH\n",
      "type: GNN_TYPE.GSAGE_MEAN\n",
      "dim: 32\n",
      "depth: 2\n",
      "num_layers: 3\n",
      "train_fraction: 0.8\n",
      "max_epochs: 50000\n",
      "eval_every: 1000\n",
      "batch_size: 64\n",
      "accum_grad: 1\n",
      "stop: STOP.TRAIN\n",
      "patience: 20\n",
      "loader_workers: 7\n",
      "last_layer_fully_adjacent: False\n",
      "no_layer_norm: False\n",
      "no_activation: True\n",
      "no_residual: False\n",
      "unroll: False\n",
      "\n",
      "Training examples: 76, test examples: 20\n",
      "Starting training\n",
      "/usr/local/lib/python3.10/dist-packages/torch_geometric/deprecation.py:26: UserWarning: 'data.DataLoader' is deprecated, use 'loader.DataLoader' instead\n",
      "  warnings.warn(out)\n",
      "/usr/local/lib/python3.10/dist-packages/torch/utils/data/dataloader.py:557: UserWarning: This DataLoader will create 7 worker processes in total. Our suggested max number of worker in current system is 4, which is smaller than what this DataLoader is going to create. Please be aware that excessive worker creation might get DataLoader running slow or even freeze, lower the worker number to avoid potential slowness/freeze if necessary.\n",
      "  warnings.warn(_create_warning_msg(\n",
      "Epoch 1000, LR: [0.001]: Train loss: 1.3636948, Train acc: 0.3157, Test accuracy: 0.0500 (new best train)\n",
      "Epoch 2000, LR: [0.001]: Train loss: 1.0915784, Train acc: 0.4479, Test accuracy: 0.1500 (new best train)\n",
      "Epoch 3000, LR: [0.001]: Train loss: 1.0979979, Train acc: 0.4598, Test accuracy: 0.0500 (new best train)\n",
      "Epoch 4000, LR: [0.001]: Train loss: 0.9697849, Train acc: 0.4830, Test accuracy: 0.0000 (new best train)\n",
      "Epoch 5000, LR: [0.001]: Train loss: 0.8827680, Train acc: 0.5448, Test accuracy: 0.1000 (new best train)\n",
      "Epoch 6000, LR: [0.001]: Train loss: 0.8063738, Train acc: 0.5869, Test accuracy: 0.0500 (new best train)\n",
      "Epoch 7000, LR: [0.001]: Train loss: 0.8072569, Train acc: 0.5858, Test accuracy: 0.1000\n",
      "Epoch 8000, LR: [0.001]: Train loss: 0.7649351, Train acc: 0.6089, Test accuracy: 0.1500 (new best train)\n",
      "Epoch 9000, LR: [0.001]: Train loss: 0.8602833, Train acc: 0.5668, Test accuracy: 0.1000\n",
      "Epoch 10000, LR: [0.001]: Train loss: 0.7825596, Train acc: 0.5986, Test accuracy: 0.1000\n",
      "Epoch 11000, LR: [0.001]: Train loss: 0.7287058, Train acc: 0.6304, Test accuracy: 0.2000 (new best train)\n",
      "Epoch 12000, LR: [0.001]: Train loss: 0.7156825, Train acc: 0.6471, Test accuracy: 0.2500 (new best train)\n",
      "Epoch 13000, LR: [0.001]: Train loss: 0.5537353, Train acc: 0.7503, Test accuracy: 0.3500 (new best train)\n",
      "Epoch 14000, LR: [0.001]: Train loss: 0.2676109, Train acc: 0.9085, Test accuracy: 0.4500 (new best train)\n",
      "Epoch 15000, LR: [0.001]: Train loss: 0.1992711, Train acc: 0.9476, Test accuracy: 0.5000 (new best train)\n",
      "Epoch 16000, LR: [0.001]: Train loss: 0.0524861, Train acc: 0.9970, Test accuracy: 0.5500 (new best train)\n",
      "Epoch 17000, LR: [0.001]: Train loss: 0.0257068, Train acc: 0.9989, Test accuracy: 0.4500 (new best train)\n",
      "Epoch 18000, LR: [0.001]: Train loss: 0.0154409, Train acc: 0.9990, Test accuracy: 0.6500\n",
      "Epoch 19000, LR: [0.001]: Train loss: 0.0268372, Train acc: 0.9940, Test accuracy: 0.6000\n",
      "Epoch 20000, LR: [0.001]: Train loss: 0.0052506, Train acc: 1.0000, Test accuracy: 0.6500 (new best train)\n",
      "Best train acc: 1.0, epoch: 20000\n",
      "\n",
      "Starting experiment\n",
      "task: Task.NEIGHBORS_MATCH\n",
      "type: GNN_TYPE.GSAGE_MEAN\n",
      "dim: 32\n",
      "depth: 3\n",
      "num_layers: 4\n",
      "train_fraction: 0.8\n",
      "max_epochs: 50000\n",
      "eval_every: 100\n",
      "batch_size: 64\n",
      "accum_grad: 1\n",
      "stop: STOP.TRAIN\n",
      "patience: 20\n",
      "loader_workers: 7\n",
      "last_layer_fully_adjacent: False\n",
      "no_layer_norm: False\n",
      "no_activation: True\n",
      "no_residual: False\n",
      "unroll: False\n",
      "\n",
      "Training examples: 6400, test examples: 1600\n",
      "Starting training\n",
      "/usr/local/lib/python3.10/dist-packages/torch_geometric/deprecation.py:26: UserWarning: 'data.DataLoader' is deprecated, use 'loader.DataLoader' instead\n",
      "  warnings.warn(out)\n",
      "/usr/local/lib/python3.10/dist-packages/torch/utils/data/dataloader.py:557: UserWarning: This DataLoader will create 7 worker processes in total. Our suggested max number of worker in current system is 4, which is smaller than what this DataLoader is going to create. Please be aware that excessive worker creation might get DataLoader running slow or even freeze, lower the worker number to avoid potential slowness/freeze if necessary.\n",
      "  warnings.warn(_create_warning_msg(\n",
      "Epoch 100, LR: [0.001]: Train loss: 2.0802542, Train acc: 0.1323, Test accuracy: 0.1244 (new best train)\n",
      "Epoch 200, LR: [0.001]: Train loss: 2.0342886, Train acc: 0.1516, Test accuracy: 0.2119 (new best train)\n",
      "Epoch 300, LR: [0.001]: Train loss: 1.5387162, Train acc: 0.2627, Test accuracy: 0.2356 (new best train)\n",
      "Epoch 400, LR: [0.001]: Train loss: 1.2816410, Train acc: 0.3360, Test accuracy: 0.3588 (new best train)\n",
      "Epoch 500, LR: [0.001]: Train loss: 1.0938204, Train acc: 0.4001, Test accuracy: 0.4750 (new best train)\n",
      "Epoch 600, LR: [0.001]: Train loss: 0.7393282, Train acc: 0.5386, Test accuracy: 0.5381 (new best train)\n",
      "Epoch 700, LR: [0.001]: Train loss: 0.6333617, Train acc: 0.5581, Test accuracy: 0.5325 (new best train)\n",
      "Epoch 800, LR: [0.001]: Train loss: 0.6072723, Train acc: 0.5620, Test accuracy: 0.5112 (new best train)\n",
      "Epoch 900, LR: [0.001]: Train loss: 0.5914084, Train acc: 0.5644, Test accuracy: 0.5519 (new best train)\n",
      "Epoch 1000, LR: [0.001]: Train loss: 0.5786837, Train acc: 0.5676, Test accuracy: 0.5244 (new best train)\n",
      "Epoch 1100, LR: [0.001]: Train loss: 0.5713088, Train acc: 0.5681, Test accuracy: 0.5219 (new best train)\n",
      "Epoch 1200, LR: [0.001]: Train loss: 0.5648580, Train acc: 0.5686, Test accuracy: 0.5575 (new best train)\n",
      "Epoch 1300, LR: [0.001]: Train loss: 0.5563850, Train acc: 0.5712, Test accuracy: 0.5194 (new best train)\n",
      "Epoch 1400, LR: [0.001]: Train loss: 0.5508731, Train acc: 0.5714, Test accuracy: 0.5394 (new best train)\n",
      "^C\n",
      "Exception in thread Thread-69 (_pin_memory_loop):\n",
      "Traceback (most recent call last):\n",
      "  File \"/usr/lib/python3.10/threading.py\", line 1016, in _bootstrap_inner\n",
      "    self.run()\n",
      "  File \"/usr/lib/python3.10/threading.py\", line 953, in run\n",
      "    self._target(*self._args, **self._kwargs)\n",
      "  File \"/usr/local/lib/python3.10/dist-packages/torch/utils/data/_utils/pin_memory.py\", line 55, in _pin_memory_loop\n",
      "    do_one_step()\n",
      "  File \"/usr/local/lib/python3.10/dist-packages/torch/utils/data/_utils/pin_memory.py\", line 32, in do_one_step\n",
      "    r = in_queue.get(timeout=MP_STATUS_CHECK_INTERVAL)\n",
      "  File \"/usr/lib/python3.10/multiprocessing/queues.py\", line 122, in get\n",
      "    return _ForkingPickler.loads(res)\n",
      "  File \"/usr/local/lib/python3.10/dist-packages/torch/multiprocessing/reductions.py\", line 496, in rebuild_storage_fd\n",
      "    fd = df.detach()\n",
      "  File \"/usr/lib/python3.10/multiprocessing/resource_sharer.py\", line 58, in detach\n",
      "    return reduction.recv_handle(conn)\n",
      "  File \"/usr/lib/python3.10/multiprocessing/reduction.py\", line 189, in recv_handle\n",
      "    return recvfds(s, 1)[0]\n",
      "  File \"/usr/lib/python3.10/multiprocessing/reduction.py\", line 157, in recvfds\n",
      "    msg, ancdata, flags, addr = sock.recvmsg(1, socket.CMSG_SPACE(bytes_size))\n",
      "ConnectionResetError: [Errno 104] Connection reset by peer\n",
      "Traceback (most recent call last):\n",
      "  File \"/kaggle/working/project/run-gsage-mean-2-6.py\", line 40, in <module>\n",
      "    train_acc, test_acc, epoch = Experiment(args).run()\n",
      "  File \"/kaggle/working/project/experiment.py\", line 87, in run\n",
      "    loss.backward()\n",
      "  File \"/usr/local/lib/python3.10/dist-packages/torch/_tensor.py\", line 521, in backward\n",
      "    torch.autograd.backward(\n",
      "  File \"/usr/local/lib/python3.10/dist-packages/torch/autograd/__init__.py\", line 289, in backward\n",
      "    _engine_run_backward(\n",
      "  File \"/usr/local/lib/python3.10/dist-packages/torch/autograd/graph.py\", line 769, in _engine_run_backward\n",
      "    return Variable._execution_engine.run_backward(  # Calls into the C++ engine to run the backward pass\n",
      "KeyboardInterrupt\n"
     ]
    }
   ],
   "source": [
    "!python run-gsage-mean-2-6.py"
   ]
  }
 ],
 "metadata": {
  "kaggle": {
   "accelerator": "nvidiaTeslaT4",
   "dataSources": [],
   "dockerImageVersionId": 30822,
   "isGpuEnabled": true,
   "isInternetEnabled": true,
   "language": "python",
   "sourceType": "notebook"
  },
  "kernelspec": {
   "display_name": "Python 3",
   "language": "python",
   "name": "python3"
  },
  "language_info": {
   "codemirror_mode": {
    "name": "ipython",
    "version": 3
   },
   "file_extension": ".py",
   "mimetype": "text/x-python",
   "name": "python",
   "nbconvert_exporter": "python",
   "pygments_lexer": "ipython3",
   "version": "3.10.12"
  }
 },
 "nbformat": 4,
 "nbformat_minor": 4
}
