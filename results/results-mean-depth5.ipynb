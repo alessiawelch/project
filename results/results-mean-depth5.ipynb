{
 "cells": [
  {
   "cell_type": "code",
   "execution_count": 3,
   "metadata": {
    "execution": {
     "iopub.execute_input": "2025-01-11T03:42:09.000229Z",
     "iopub.status.busy": "2025-01-11T03:42:08.999954Z",
     "iopub.status.idle": "2025-01-11T03:42:26.068231Z",
     "shell.execute_reply": "2025-01-11T03:42:26.066974Z",
     "shell.execute_reply.started": "2025-01-11T03:42:09.000199Z"
    },
    "trusted": true
   },
   "outputs": [
    {
     "name": "stdout",
     "output_type": "stream",
     "text": [
      "2.4.1+cu121\n",
      "Looking in links: https://data.pyg.org/whl/torch-2.0.1+cu118.html\n",
      "Collecting torch-scatter\n",
      "  Downloading https://data.pyg.org/whl/torch-2.0.0%2Bcu118/torch_scatter-2.1.2%2Bpt20cu118-cp310-cp310-linux_x86_64.whl (10.2 MB)\n",
      "\u001b[2K     \u001b[90m━━━━━━━━━━━━━━━━━━━━━━━━━━━━━━━━━━━━━━━━\u001b[0m \u001b[32m10.2/10.2 MB\u001b[0m \u001b[31m64.3 MB/s\u001b[0m eta \u001b[36m0:00:00\u001b[0m00:01\u001b[0m0:01\u001b[0m\n",
      "\u001b[?25hInstalling collected packages: torch-scatter\n",
      "Successfully installed torch-scatter-2.1.2+pt20cu118\n",
      "Looking in links: https://data.pyg.org/whl/torch-2.0.1+cu118.html\n",
      "Collecting torch-sparse\n",
      "  Downloading https://data.pyg.org/whl/torch-2.0.0%2Bcu118/torch_sparse-0.6.18%2Bpt20cu118-cp310-cp310-linux_x86_64.whl (4.9 MB)\n",
      "\u001b[2K     \u001b[90m━━━━━━━━━━━━━━━━━━━━━━━━━━━━━━━━━━━━━━━━\u001b[0m \u001b[32m4.9/4.9 MB\u001b[0m \u001b[31m39.2 MB/s\u001b[0m eta \u001b[36m0:00:00\u001b[0m00:01\u001b[0m00:01\u001b[0m\n",
      "\u001b[?25hRequirement already satisfied: scipy in /usr/local/lib/python3.10/dist-packages (from torch-sparse) (1.13.1)\n",
      "Requirement already satisfied: numpy<2.3,>=1.22.4 in /usr/local/lib/python3.10/dist-packages (from scipy->torch-sparse) (1.26.4)\n",
      "Installing collected packages: torch-sparse\n",
      "Successfully installed torch-sparse-0.6.18+pt20cu118\n",
      "Collecting torch-geometric\n",
      "  Downloading torch_geometric-2.6.1-py3-none-any.whl.metadata (63 kB)\n",
      "\u001b[2K     \u001b[90m━━━━━━━━━━━━━━━━━━━━━━━━━━━━━━━━━━━━━━━━\u001b[0m \u001b[32m63.1/63.1 kB\u001b[0m \u001b[31m2.7 MB/s\u001b[0m eta \u001b[36m0:00:00\u001b[0m\n",
      "\u001b[?25hRequirement already satisfied: aiohttp in /usr/local/lib/python3.10/dist-packages (from torch-geometric) (3.10.5)\n",
      "Requirement already satisfied: fsspec in /usr/local/lib/python3.10/dist-packages (from torch-geometric) (2024.6.1)\n",
      "Requirement already satisfied: jinja2 in /usr/local/lib/python3.10/dist-packages (from torch-geometric) (3.1.4)\n",
      "Requirement already satisfied: numpy in /usr/local/lib/python3.10/dist-packages (from torch-geometric) (1.26.4)\n",
      "Requirement already satisfied: psutil>=5.8.0 in /usr/local/lib/python3.10/dist-packages (from torch-geometric) (5.9.5)\n",
      "Requirement already satisfied: pyparsing in /usr/local/lib/python3.10/dist-packages (from torch-geometric) (3.1.4)\n",
      "Requirement already satisfied: requests in /usr/local/lib/python3.10/dist-packages (from torch-geometric) (2.32.3)\n",
      "Requirement already satisfied: tqdm in /usr/local/lib/python3.10/dist-packages (from torch-geometric) (4.66.5)\n",
      "Requirement already satisfied: aiohappyeyeballs>=2.3.0 in /usr/local/lib/python3.10/dist-packages (from aiohttp->torch-geometric) (2.4.0)\n",
      "Requirement already satisfied: aiosignal>=1.1.2 in /usr/local/lib/python3.10/dist-packages (from aiohttp->torch-geometric) (1.3.1)\n",
      "Requirement already satisfied: attrs>=17.3.0 in /usr/local/lib/python3.10/dist-packages (from aiohttp->torch-geometric) (24.2.0)\n",
      "Requirement already satisfied: frozenlist>=1.1.1 in /usr/local/lib/python3.10/dist-packages (from aiohttp->torch-geometric) (1.4.1)\n",
      "Requirement already satisfied: multidict<7.0,>=4.5 in /usr/local/lib/python3.10/dist-packages (from aiohttp->torch-geometric) (6.1.0)\n",
      "Requirement already satisfied: yarl<2.0,>=1.0 in /usr/local/lib/python3.10/dist-packages (from aiohttp->torch-geometric) (1.11.1)\n",
      "Requirement already satisfied: async-timeout<5.0,>=4.0 in /usr/local/lib/python3.10/dist-packages (from aiohttp->torch-geometric) (4.0.3)\n",
      "Requirement already satisfied: MarkupSafe>=2.0 in /usr/local/lib/python3.10/dist-packages (from jinja2->torch-geometric) (2.1.5)\n",
      "Requirement already satisfied: charset-normalizer<4,>=2 in /usr/local/lib/python3.10/dist-packages (from requests->torch-geometric) (3.3.2)\n",
      "Requirement already satisfied: idna<4,>=2.5 in /usr/local/lib/python3.10/dist-packages (from requests->torch-geometric) (3.10)\n",
      "Requirement already satisfied: urllib3<3,>=1.21.1 in /usr/local/lib/python3.10/dist-packages (from requests->torch-geometric) (2.2.3)\n",
      "Requirement already satisfied: certifi>=2017.4.17 in /usr/local/lib/python3.10/dist-packages (from requests->torch-geometric) (2024.8.30)\n",
      "Requirement already satisfied: typing-extensions>=4.1.0 in /usr/local/lib/python3.10/dist-packages (from multidict<7.0,>=4.5->aiohttp->torch-geometric) (4.12.2)\n",
      "Downloading torch_geometric-2.6.1-py3-none-any.whl (1.1 MB)\n",
      "\u001b[2K   \u001b[90m━━━━━━━━━━━━━━━━━━━━━━━━━━━━━━━━━━━━━━━━\u001b[0m \u001b[32m1.1/1.1 MB\u001b[0m \u001b[31m22.0 MB/s\u001b[0m eta \u001b[36m0:00:00\u001b[0ma \u001b[36m0:00:01\u001b[0m\n",
      "\u001b[?25hInstalling collected packages: torch-geometric\n",
      "Successfully installed torch-geometric-2.6.1\n"
     ]
    }
   ],
   "source": [
    "import torch\n",
    "print(torch.__version__)  # e.g., 2.0.1\n",
    "\n",
    "# Example installation (this line may change based on the PyTorch Geometric docs)\n",
    "!pip install torch-scatter -f https://data.pyg.org/whl/torch-2.0.1+cu118.html\n",
    "!pip install torch-sparse -f https://data.pyg.org/whl/torch-2.0.1+cu118.html\n",
    "!pip install torch-geometric"
   ]
  },
  {
   "cell_type": "code",
   "execution_count": 4,
   "metadata": {
    "execution": {
     "iopub.execute_input": "2025-01-11T03:42:26.071143Z",
     "iopub.status.busy": "2025-01-11T03:42:26.070571Z",
     "iopub.status.idle": "2025-01-11T03:42:29.642497Z",
     "shell.execute_reply": "2025-01-11T03:42:29.641060Z",
     "shell.execute_reply.started": "2025-01-11T03:42:26.071115Z"
    },
    "trusted": true
   },
   "outputs": [
    {
     "name": "stdout",
     "output_type": "stream",
     "text": [
      "Collecting attrdict==2.0.1 (from -r requirements.txt (line 1))\n",
      "  Downloading attrdict-2.0.1-py2.py3-none-any.whl.metadata (6.7 kB)\n",
      "Requirement already satisfied: torch>=1.4.0 in /usr/local/lib/python3.10/dist-packages (from -r requirements.txt (line 2)) (2.4.1+cu121)\n",
      "Requirement already satisfied: torch-geometric>=1.4.2 in /usr/local/lib/python3.10/dist-packages (from -r requirements.txt (line 3)) (2.6.1)\n",
      "Requirement already satisfied: torch-scatter>=2.0.4 in /usr/local/lib/python3.10/dist-packages (from -r requirements.txt (line 4)) (2.1.2+pt20cu118)\n",
      "Requirement already satisfied: torch-sparse>=0.6.0 in /usr/local/lib/python3.10/dist-packages (from -r requirements.txt (line 5)) (0.6.18+pt20cu118)\n",
      "Requirement already satisfied: torchvision>=0.5.0 in /usr/local/lib/python3.10/dist-packages (from -r requirements.txt (line 6)) (0.19.1+cu121)\n",
      "Requirement already satisfied: six in /usr/local/lib/python3.10/dist-packages (from attrdict==2.0.1->-r requirements.txt (line 1)) (1.16.0)\n",
      "Requirement already satisfied: filelock in /usr/local/lib/python3.10/dist-packages (from torch>=1.4.0->-r requirements.txt (line 2)) (3.16.1)\n",
      "Requirement already satisfied: typing-extensions>=4.8.0 in /usr/local/lib/python3.10/dist-packages (from torch>=1.4.0->-r requirements.txt (line 2)) (4.12.2)\n",
      "Requirement already satisfied: sympy in /usr/local/lib/python3.10/dist-packages (from torch>=1.4.0->-r requirements.txt (line 2)) (1.13.3)\n",
      "Requirement already satisfied: networkx in /usr/local/lib/python3.10/dist-packages (from torch>=1.4.0->-r requirements.txt (line 2)) (3.3)\n",
      "Requirement already satisfied: jinja2 in /usr/local/lib/python3.10/dist-packages (from torch>=1.4.0->-r requirements.txt (line 2)) (3.1.4)\n",
      "Requirement already satisfied: fsspec in /usr/local/lib/python3.10/dist-packages (from torch>=1.4.0->-r requirements.txt (line 2)) (2024.6.1)\n",
      "Requirement already satisfied: aiohttp in /usr/local/lib/python3.10/dist-packages (from torch-geometric>=1.4.2->-r requirements.txt (line 3)) (3.10.5)\n",
      "Requirement already satisfied: numpy in /usr/local/lib/python3.10/dist-packages (from torch-geometric>=1.4.2->-r requirements.txt (line 3)) (1.26.4)\n",
      "Requirement already satisfied: psutil>=5.8.0 in /usr/local/lib/python3.10/dist-packages (from torch-geometric>=1.4.2->-r requirements.txt (line 3)) (5.9.5)\n",
      "Requirement already satisfied: pyparsing in /usr/local/lib/python3.10/dist-packages (from torch-geometric>=1.4.2->-r requirements.txt (line 3)) (3.1.4)\n",
      "Requirement already satisfied: requests in /usr/local/lib/python3.10/dist-packages (from torch-geometric>=1.4.2->-r requirements.txt (line 3)) (2.32.3)\n",
      "Requirement already satisfied: tqdm in /usr/local/lib/python3.10/dist-packages (from torch-geometric>=1.4.2->-r requirements.txt (line 3)) (4.66.5)\n",
      "Requirement already satisfied: scipy in /usr/local/lib/python3.10/dist-packages (from torch-sparse>=0.6.0->-r requirements.txt (line 5)) (1.13.1)\n",
      "Requirement already satisfied: pillow!=8.3.*,>=5.3.0 in /usr/local/lib/python3.10/dist-packages (from torchvision>=0.5.0->-r requirements.txt (line 6)) (10.4.0)\n",
      "Requirement already satisfied: aiohappyeyeballs>=2.3.0 in /usr/local/lib/python3.10/dist-packages (from aiohttp->torch-geometric>=1.4.2->-r requirements.txt (line 3)) (2.4.0)\n",
      "Requirement already satisfied: aiosignal>=1.1.2 in /usr/local/lib/python3.10/dist-packages (from aiohttp->torch-geometric>=1.4.2->-r requirements.txt (line 3)) (1.3.1)\n",
      "Requirement already satisfied: attrs>=17.3.0 in /usr/local/lib/python3.10/dist-packages (from aiohttp->torch-geometric>=1.4.2->-r requirements.txt (line 3)) (24.2.0)\n",
      "Requirement already satisfied: frozenlist>=1.1.1 in /usr/local/lib/python3.10/dist-packages (from aiohttp->torch-geometric>=1.4.2->-r requirements.txt (line 3)) (1.4.1)\n",
      "Requirement already satisfied: multidict<7.0,>=4.5 in /usr/local/lib/python3.10/dist-packages (from aiohttp->torch-geometric>=1.4.2->-r requirements.txt (line 3)) (6.1.0)\n",
      "Requirement already satisfied: yarl<2.0,>=1.0 in /usr/local/lib/python3.10/dist-packages (from aiohttp->torch-geometric>=1.4.2->-r requirements.txt (line 3)) (1.11.1)\n",
      "Requirement already satisfied: async-timeout<5.0,>=4.0 in /usr/local/lib/python3.10/dist-packages (from aiohttp->torch-geometric>=1.4.2->-r requirements.txt (line 3)) (4.0.3)\n",
      "Requirement already satisfied: MarkupSafe>=2.0 in /usr/local/lib/python3.10/dist-packages (from jinja2->torch>=1.4.0->-r requirements.txt (line 2)) (2.1.5)\n",
      "Requirement already satisfied: charset-normalizer<4,>=2 in /usr/local/lib/python3.10/dist-packages (from requests->torch-geometric>=1.4.2->-r requirements.txt (line 3)) (3.3.2)\n",
      "Requirement already satisfied: idna<4,>=2.5 in /usr/local/lib/python3.10/dist-packages (from requests->torch-geometric>=1.4.2->-r requirements.txt (line 3)) (3.10)\n",
      "Requirement already satisfied: urllib3<3,>=1.21.1 in /usr/local/lib/python3.10/dist-packages (from requests->torch-geometric>=1.4.2->-r requirements.txt (line 3)) (2.2.3)\n",
      "Requirement already satisfied: certifi>=2017.4.17 in /usr/local/lib/python3.10/dist-packages (from requests->torch-geometric>=1.4.2->-r requirements.txt (line 3)) (2024.8.30)\n",
      "Requirement already satisfied: mpmath<1.4,>=1.1.0 in /usr/local/lib/python3.10/dist-packages (from sympy->torch>=1.4.0->-r requirements.txt (line 2)) (1.3.0)\n",
      "Downloading attrdict-2.0.1-py2.py3-none-any.whl (9.9 kB)\n",
      "Installing collected packages: attrdict\n",
      "Successfully installed attrdict-2.0.1\n"
     ]
    }
   ],
   "source": [
    "!pip install -r requirements.txt"
   ]
  },
  {
   "cell_type": "code",
   "execution_count": 5,
   "metadata": {
    "execution": {
     "iopub.execute_input": "2025-01-11T03:42:29.645144Z",
     "iopub.status.busy": "2025-01-11T03:42:29.644645Z",
     "iopub.status.idle": "2025-01-11T03:42:33.000737Z",
     "shell.execute_reply": "2025-01-11T03:42:32.999563Z",
     "shell.execute_reply.started": "2025-01-11T03:42:29.645076Z"
    },
    "trusted": true
   },
   "outputs": [
    {
     "name": "stdout",
     "output_type": "stream",
     "text": [
      "Requirement already satisfied: scikit-learn in /usr/local/lib/python3.10/dist-packages (1.2.2)\n",
      "Requirement already satisfied: numpy>=1.17.3 in /usr/local/lib/python3.10/dist-packages (from scikit-learn) (1.26.4)\n",
      "Requirement already satisfied: scipy>=1.3.2 in /usr/local/lib/python3.10/dist-packages (from scikit-learn) (1.13.1)\n",
      "Requirement already satisfied: joblib>=1.1.1 in /usr/local/lib/python3.10/dist-packages (from scikit-learn) (1.4.2)\n",
      "Requirement already satisfied: threadpoolctl>=2.0.0 in /usr/local/lib/python3.10/dist-packages (from scikit-learn) (3.5.0)\n"
     ]
    }
   ],
   "source": [
    "!pip install scikit-learn"
   ]
  },
  {
   "cell_type": "code",
   "execution_count": 6,
   "metadata": {
    "execution": {
     "iopub.execute_input": "2025-01-11T03:42:33.002374Z",
     "iopub.status.busy": "2025-01-11T03:42:33.001980Z",
     "iopub.status.idle": "2025-01-11T03:42:38.157940Z",
     "shell.execute_reply": "2025-01-11T03:42:38.157051Z",
     "shell.execute_reply.started": "2025-01-11T03:42:33.002321Z"
    },
    "trusted": true
   },
   "outputs": [
    {
     "name": "stdout",
     "output_type": "stream",
     "text": [
      "/usr/local/lib/python3.10/dist-packages/torch_geometric/typing.py:86: UserWarning: An issue occurred while importing 'torch-scatter'. Disabling its usage. Stacktrace: /usr/local/lib/python3.10/dist-packages/torch_scatter/_version_cuda.so: undefined symbol: _ZN3c1017RegisterOperatorsD1Ev\n",
      "  warnings.warn(f\"An issue occurred while importing 'torch-scatter'. \"\n",
      "/usr/local/lib/python3.10/dist-packages/torch_geometric/typing.py:124: UserWarning: An issue occurred while importing 'torch-sparse'. Disabling its usage. Stacktrace: /usr/local/lib/python3.10/dist-packages/torch_sparse/_version_cuda.so: undefined symbol: _ZN3c1017RegisterOperatorsD1Ev\n",
      "  warnings.warn(f\"An issue occurred while importing 'torch-sparse'. \"\n"
     ]
    }
   ],
   "source": [
    "!python -c 'import torch; import torch_geometric'"
   ]
  },
  {
   "cell_type": "code",
   "execution_count": 7,
   "metadata": {
    "execution": {
     "iopub.execute_input": "2025-01-11T03:42:38.159153Z",
     "iopub.status.busy": "2025-01-11T03:42:38.158937Z",
     "iopub.status.idle": "2025-01-11T03:42:43.066902Z",
     "shell.execute_reply": "2025-01-11T03:42:43.065738Z",
     "shell.execute_reply.started": "2025-01-11T03:42:38.159135Z"
    },
    "trusted": true
   },
   "outputs": [
    {
     "name": "stdout",
     "output_type": "stream",
     "text": [
      "Found existing installation: attrdict 2.0.1\n",
      "Uninstalling attrdict-2.0.1:\n",
      "  Successfully uninstalled attrdict-2.0.1\n",
      "Collecting attrdict==2.0.1\n",
      "  Using cached attrdict-2.0.1-py2.py3-none-any.whl.metadata (6.7 kB)\n",
      "Requirement already satisfied: six in /usr/local/lib/python3.10/dist-packages (from attrdict==2.0.1) (1.16.0)\n",
      "Using cached attrdict-2.0.1-py2.py3-none-any.whl (9.9 kB)\n",
      "Installing collected packages: attrdict\n",
      "Successfully installed attrdict-2.0.1\n"
     ]
    }
   ],
   "source": [
    "# Uninstall any existing attrdict to ensure a clean reinstall\n",
    "!pip uninstall -y attrdict\n",
    "\n",
    "# Reinstall attrdict (so we can then patch it)\n",
    "!pip install attrdict==2.0.1\n",
    "\n",
    "# Replace \"from collections import Mapping, MutableMapping, Sequence\"\n",
    "# with \"from collections.abc import Mapping, MutableMapping, Sequence\"\n",
    "!sed -i 's/from collections import Mapping, MutableMapping, Sequence/from collections.abc import Mapping, MutableMapping, Sequence/g' /usr/local/lib/python3.10/dist-packages/attrdict/*.py\n",
    "\n",
    "# Sometimes they're imported separately, so let's handle those too:\n",
    "!sed -i 's/from collections import Mapping/from collections.abc import Mapping/g' /usr/local/lib/python3.10/dist-packages/attrdict/*.py\n",
    "!sed -i 's/from collections import MutableMapping/from collections.abc import MutableMapping/g' /usr/local/lib/python3.10/dist-packages/attrdict/*.py\n",
    "!sed -i 's/from collections import Sequence/from collections.abc import Sequence/g' /usr/local/lib/python3.10/dist-packages/attrdict/*.py\n"
   ]
  },
  {
   "cell_type": "code",
   "execution_count": 8,
   "metadata": {
    "execution": {
     "iopub.execute_input": "2025-01-11T03:42:43.068272Z",
     "iopub.status.busy": "2025-01-11T03:42:43.067959Z",
     "iopub.status.idle": "2025-01-11T03:42:46.481944Z",
     "shell.execute_reply": "2025-01-11T03:42:46.480776Z",
     "shell.execute_reply.started": "2025-01-11T03:42:43.068251Z"
    },
    "trusted": true
   },
   "outputs": [
    {
     "name": "stdout",
     "output_type": "stream",
     "text": [
      "Looking in links: https://data.pyg.org/whl/torch-2.4.1+cu121.html\n",
      "Requirement already satisfied: torch-scatter in /usr/local/lib/python3.10/dist-packages (2.1.2+pt20cu118)\n"
     ]
    }
   ],
   "source": [
    "!pip install torch-scatter -f https://data.pyg.org/whl/torch-2.4.1+cu121.html\n",
    "\n"
   ]
  },
  {
   "cell_type": "code",
   "execution_count": 9,
   "metadata": {
    "execution": {
     "iopub.execute_input": "2025-01-11T03:42:46.483785Z",
     "iopub.status.busy": "2025-01-11T03:42:46.483438Z",
     "iopub.status.idle": "2025-01-11T03:42:49.384658Z",
     "shell.execute_reply": "2025-01-11T03:42:49.383673Z",
     "shell.execute_reply.started": "2025-01-11T03:42:46.483754Z"
    },
    "trusted": true
   },
   "outputs": [
    {
     "name": "stdout",
     "output_type": "stream",
     "text": [
      "Name: torch-scatter\n",
      "Version: 2.1.2+pt20cu118\n",
      "Summary: PyTorch Extension Library of Optimized Scatter Operations\n",
      "Home-page: https://github.com/rusty1s/pytorch_scatter\n",
      "Author: Matthias Fey\n",
      "Author-email: matthias.fey@tu-dortmund.de\n",
      "License: \n",
      "Location: /usr/local/lib/python3.10/dist-packages\n",
      "Requires: \n",
      "Required-by: \n",
      "Note: you may need to restart the kernel to use updated packages.\n"
     ]
    }
   ],
   "source": [
    "pip show torch-scatter\n"
   ]
  },
  {
   "cell_type": "code",
   "execution_count": 10,
   "metadata": {
    "execution": {
     "iopub.execute_input": "2025-01-11T03:42:49.385851Z",
     "iopub.status.busy": "2025-01-11T03:42:49.385604Z",
     "iopub.status.idle": "2025-01-11T03:42:54.224739Z",
     "shell.execute_reply": "2025-01-11T03:42:54.223523Z",
     "shell.execute_reply.started": "2025-01-11T03:42:49.385828Z"
    },
    "trusted": true
   },
   "outputs": [
    {
     "name": "stdout",
     "output_type": "stream",
     "text": [
      "/usr/local/lib/python3.10/dist-packages/torch_geometric/typing.py:86: UserWarning: An issue occurred while importing 'torch-scatter'. Disabling its usage. Stacktrace: /usr/local/lib/python3.10/dist-packages/torch_scatter/_version_cuda.so: undefined symbol: _ZN3c1017RegisterOperatorsD1Ev\n",
      "  warnings.warn(f\"An issue occurred while importing 'torch-scatter'. \"\n",
      "/usr/local/lib/python3.10/dist-packages/torch_geometric/typing.py:124: UserWarning: An issue occurred while importing 'torch-sparse'. Disabling its usage. Stacktrace: /usr/local/lib/python3.10/dist-packages/torch_sparse/_version_cuda.so: undefined symbol: _ZN3c1017RegisterOperatorsD1Ev\n",
      "  warnings.warn(f\"An issue occurred while importing 'torch-sparse'. \"\n",
      "usage: main.py [-h] [--task {Task.NEIGHBORS_MATCH}]\n",
      "               [--type {GNN_TYPE.GCN,GNN_TYPE.GGNN,GNN_TYPE.GIN,GNN_TYPE.GAT,GNN_TYPE.GSAGE_MEAN,GNN_TYPE.GSAGE_MAX,GNN_TYPE.GSAGE_MIN,GNN_TYPE.GSAGE_SUM}]\n",
      "               [--dim DIM] [--depth DEPTH] [--num_layers NUM_LAYERS]\n",
      "               [--train_fraction TRAIN_FRACTION] [--max_epochs MAX_EPOCHS]\n",
      "               [--eval_every EVAL_EVERY] [--batch_size BATCH_SIZE] [--accum_grad ACCUM_GRAD]\n",
      "               [--stop {STOP.TRAIN,STOP.TEST}] [--patience PATIENCE]\n",
      "               [--loader_workers LOADER_WORKERS] [--last_layer_fully_adjacent] [--no_layer_norm]\n",
      "               [--no_activation] [--no_residual] [--unroll]\n",
      "               [--resume_checkpoint RESUME_CHECKPOINT]\n",
      "\n",
      "options:\n",
      "  -h, --help            show this help message and exit\n",
      "  --task {Task.NEIGHBORS_MATCH}\n",
      "  --type {GNN_TYPE.GCN,GNN_TYPE.GGNN,GNN_TYPE.GIN,GNN_TYPE.GAT,GNN_TYPE.GSAGE_MEAN,GNN_TYPE.GSAGE_MAX,GNN_TYPE.GSAGE_MIN,GNN_TYPE.GSAGE_SUM}\n",
      "  --dim DIM\n",
      "  --depth DEPTH\n",
      "  --num_layers NUM_LAYERS\n",
      "  --train_fraction TRAIN_FRACTION\n",
      "  --max_epochs MAX_EPOCHS\n",
      "  --eval_every EVAL_EVERY\n",
      "  --batch_size BATCH_SIZE\n",
      "  --accum_grad ACCUM_GRAD\n",
      "  --stop {STOP.TRAIN,STOP.TEST}\n",
      "  --patience PATIENCE\n",
      "  --loader_workers LOADER_WORKERS\n",
      "  --last_layer_fully_adjacent\n",
      "  --no_layer_norm\n",
      "  --no_activation\n",
      "  --no_residual\n",
      "  --unroll              use the same weights across GNN layers\n",
      "  --resume_checkpoint RESUME_CHECKPOINT\n",
      "                        Path to the checkpoint file to resume training\n"
     ]
    }
   ],
   "source": [
    "!python main.py --help"
   ]
  },
  {
   "cell_type": "code",
   "execution_count": 11,
   "metadata": {
    "execution": {
     "iopub.execute_input": "2025-01-11T03:44:23.826088Z",
     "iopub.status.busy": "2025-01-11T03:44:23.825733Z",
     "iopub.status.idle": "2025-01-11T05:04:24.744189Z",
     "shell.execute_reply": "2025-01-11T05:04:24.743230Z",
     "shell.execute_reply.started": "2025-01-11T03:44:23.826055Z"
    },
    "trusted": true
   },
   "outputs": [
    {
     "name": "stdout",
     "output_type": "stream",
     "text": [
      "/usr/local/lib/python3.10/dist-packages/torch_geometric/typing.py:86: UserWarning: An issue occurred while importing 'torch-scatter'. Disabling its usage. Stacktrace: /usr/local/lib/python3.10/dist-packages/torch_scatter/_version_cuda.so: undefined symbol: _ZN3c1017RegisterOperatorsD1Ev\n",
      "  warnings.warn(f\"An issue occurred while importing 'torch-scatter'. \"\n",
      "/usr/local/lib/python3.10/dist-packages/torch_geometric/typing.py:124: UserWarning: An issue occurred while importing 'torch-sparse'. Disabling its usage. Stacktrace: /usr/local/lib/python3.10/dist-packages/torch_sparse/_version_cuda.so: undefined symbol: _ZN3c1017RegisterOperatorsD1Ev\n",
      "  warnings.warn(f\"An issue occurred while importing 'torch-sparse'. \"\n",
      "Starting experiment\n",
      "task: Task.NEIGHBORS_MATCH\n",
      "type: GNN_TYPE.GSAGE_MEAN\n",
      "dim: 32\n",
      "depth: 5\n",
      "num_layers: 6\n",
      "train_fraction: 0.8\n",
      "max_epochs: 50000\n",
      "eval_every: 100\n",
      "batch_size: 1024\n",
      "accum_grad: 1\n",
      "stop: STOP.TRAIN\n",
      "patience: 20\n",
      "loader_workers: 7\n",
      "last_layer_fully_adjacent: False\n",
      "no_layer_norm: False\n",
      "no_activation: True\n",
      "no_residual: False\n",
      "unroll: False\n",
      "\n",
      "Training examples: 25600, test examples: 6400\n",
      "Starting training\n",
      "/usr/local/lib/python3.10/dist-packages/torch_geometric/deprecation.py:26: UserWarning: 'data.DataLoader' is deprecated, use 'loader.DataLoader' instead\n",
      "  warnings.warn(out)\n",
      "/usr/local/lib/python3.10/dist-packages/torch/utils/data/dataloader.py:557: UserWarning: This DataLoader will create 7 worker processes in total. Our suggested max number of worker in current system is 4, which is smaller than what this DataLoader is going to create. Please be aware that excessive worker creation might get DataLoader running slow or even freeze, lower the worker number to avoid potential slowness/freeze if necessary.\n",
      "  warnings.warn(_create_warning_msg(\n",
      "Epoch 100, LR: [0.001]: Train loss: 3.4584743, Train acc: 0.0403, Test accuracy: 0.0347 (new best train)\n",
      "Epoch 200, LR: [0.001]: Train loss: 3.4519421, Train acc: 0.0437, Test accuracy: 0.0330 (new best train)\n",
      "Epoch 300, LR: [0.001]: Train loss: 3.4509116, Train acc: 0.0440, Test accuracy: 0.0338 (new best train)\n",
      "Epoch 400, LR: [0.001]: Train loss: 3.4502788, Train acc: 0.0440, Test accuracy: 0.0312\n",
      "Epoch 500, LR: [0.001]: Train loss: 3.4499485, Train acc: 0.0441, Test accuracy: 0.0292\n",
      "Epoch 600, LR: [0.001]: Train loss: 3.4496808, Train acc: 0.0445, Test accuracy: 0.0327 (new best train)\n",
      "Epoch 700, LR: [0.001]: Train loss: 3.4494598, Train acc: 0.0444, Test accuracy: 0.0288\n",
      "Epoch 800, LR: [0.001]: Train loss: 3.4492986, Train acc: 0.0445, Test accuracy: 0.0273\n",
      "Epoch 900, LR: [0.001]: Train loss: 3.4491954, Train acc: 0.0446, Test accuracy: 0.0280 (new best train)\n",
      "Epoch 1000, LR: [0.001]: Train loss: 3.4490963, Train acc: 0.0449, Test accuracy: 0.0298 (new best train)\n",
      "Checkpoint saved at epoch 1000 -> checkpoints/checkpoint_epoch_1000.pt\n",
      "Epoch 1100, LR: [0.001]: Train loss: 3.4490600, Train acc: 0.0448, Test accuracy: 0.0283\n",
      "Epoch 1200, LR: [0.001]: Train loss: 3.4489957, Train acc: 0.0448, Test accuracy: 0.0292\n",
      "Epoch 1300, LR: [0.001]: Train loss: 3.4489040, Train acc: 0.0447, Test accuracy: 0.0305\n",
      "Epoch 1400, LR: [0.001]: Train loss: 3.4488524, Train acc: 0.0447, Test accuracy: 0.0341\n",
      "Epoch 1500, LR: [0.001]: Train loss: 3.4488092, Train acc: 0.0449, Test accuracy: 0.0292\n",
      "Epoch 1600, LR: [0.001]: Train loss: 3.4487442, Train acc: 0.0449, Test accuracy: 0.0273\n",
      "Epoch 1700, LR: [0.001]: Train loss: 3.4487176, Train acc: 0.0450, Test accuracy: 0.0323\n",
      "Epoch 1800, LR: [0.001]: Train loss: 3.4486568, Train acc: 0.0447, Test accuracy: 0.0281\n",
      "Epoch 1900, LR: [0.001]: Train loss: 3.4486556, Train acc: 0.0449, Test accuracy: 0.0300\n",
      "Epoch 2000, LR: [0.001]: Train loss: 3.4486151, Train acc: 0.0450, Test accuracy: 0.0302\n",
      "Checkpoint saved at epoch 2000 -> checkpoints/checkpoint_epoch_2000.pt\n",
      "Epoch 2100, LR: [0.0005]: Train loss: 3.4485841, Train acc: 0.0448, Test accuracy: 0.0298\n",
      "Epoch 2200, LR: [0.0005]: Train loss: 3.4479339, Train acc: 0.0454, Test accuracy: 0.0281 (new best train)\n",
      "Epoch 2300, LR: [0.0005]: Train loss: 3.4478824, Train acc: 0.0453, Test accuracy: 0.0280\n",
      "Epoch 2400, LR: [0.0005]: Train loss: 3.4478704, Train acc: 0.0453, Test accuracy: 0.0289\n",
      "Epoch 2500, LR: [0.0005]: Train loss: 3.4478418, Train acc: 0.0453, Test accuracy: 0.0292\n",
      "Epoch 2600, LR: [0.0005]: Train loss: 3.4478441, Train acc: 0.0453, Test accuracy: 0.0277\n",
      "Epoch 2700, LR: [0.0005]: Train loss: 3.4478215, Train acc: 0.0453, Test accuracy: 0.0280\n",
      "Epoch 2800, LR: [0.0005]: Train loss: 3.4478199, Train acc: 0.0453, Test accuracy: 0.0292\n",
      "Epoch 2900, LR: [0.0005]: Train loss: 3.4478250, Train acc: 0.0453, Test accuracy: 0.0300\n",
      "Epoch 3000, LR: [0.0005]: Train loss: 3.4478063, Train acc: 0.0452, Test accuracy: 0.0306\n",
      "Checkpoint saved at epoch 3000 -> checkpoints/checkpoint_epoch_3000.pt\n",
      "Epoch 3100, LR: [0.0005]: Train loss: 3.4477894, Train acc: 0.0453, Test accuracy: 0.0305\n",
      "Epoch 3200, LR: [0.0005]: Train loss: 3.4477974, Train acc: 0.0453, Test accuracy: 0.0302\n",
      "Epoch 3300, LR: [0.00025]: Train loss: 3.4478015, Train acc: 0.0453, Test accuracy: 0.0314\n",
      "Epoch 3400, LR: [0.00025]: Train loss: 3.4474898, Train acc: 0.0455, Test accuracy: 0.0281 (new best train)\n",
      "Epoch 3500, LR: [0.00025]: Train loss: 3.4474586, Train acc: 0.0455, Test accuracy: 0.0288\n",
      "Epoch 3600, LR: [0.00025]: Train loss: 3.4474657, Train acc: 0.0455, Test accuracy: 0.0298\n",
      "Epoch 3700, LR: [0.00025]: Train loss: 3.4474650, Train acc: 0.0455, Test accuracy: 0.0297\n",
      "Epoch 3800, LR: [0.00025]: Train loss: 3.4474504, Train acc: 0.0455, Test accuracy: 0.0289\n",
      "Epoch 3900, LR: [0.00025]: Train loss: 3.4474577, Train acc: 0.0455, Test accuracy: 0.0295\n",
      "Epoch 4000, LR: [0.00025]: Train loss: 3.4474477, Train acc: 0.0455, Test accuracy: 0.0294\n",
      "Checkpoint saved at epoch 4000 -> checkpoints/checkpoint_epoch_4000.pt\n",
      "Epoch 4100, LR: [0.00025]: Train loss: 3.4474579, Train acc: 0.0454, Test accuracy: 0.0300\n",
      "Epoch 4200, LR: [0.00025]: Train loss: 3.4474479, Train acc: 0.0455, Test accuracy: 0.0294\n",
      "Epoch 4300, LR: [0.00025]: Train loss: 3.4474380, Train acc: 0.0455, Test accuracy: 0.0289\n",
      "Epoch 4400, LR: [0.00025]: Train loss: 3.4474434, Train acc: 0.0454, Test accuracy: 0.0295\n",
      "Epoch 4500, LR: [0.000125]: Train loss: 3.4474245, Train acc: 0.0455, Test accuracy: 0.0295\n",
      "Epoch 4600, LR: [0.000125]: Train loss: 3.4472814, Train acc: 0.0456, Test accuracy: 0.0303 (new best train)\n",
      "Epoch 4700, LR: [0.000125]: Train loss: 3.4472515, Train acc: 0.0456, Test accuracy: 0.0295\n",
      "Epoch 4800, LR: [0.000125]: Train loss: 3.4472478, Train acc: 0.0456, Test accuracy: 0.0289\n",
      "Epoch 4900, LR: [0.000125]: Train loss: 3.4472461, Train acc: 0.0456, Test accuracy: 0.0295\n",
      "Epoch 5000, LR: [0.000125]: Train loss: 3.4472509, Train acc: 0.0456, Test accuracy: 0.0295\n",
      "Checkpoint saved at epoch 5000 -> checkpoints/checkpoint_epoch_5000.pt\n",
      "Epoch 5100, LR: [0.000125]: Train loss: 3.4472354, Train acc: 0.0457, Test accuracy: 0.0295\n",
      "Epoch 5200, LR: [0.000125]: Train loss: 3.4472365, Train acc: 0.0456, Test accuracy: 0.0298\n",
      "Epoch 5300, LR: [0.000125]: Train loss: 3.4472305, Train acc: 0.0456, Test accuracy: 0.0297\n",
      "Epoch 5400, LR: [0.000125]: Train loss: 3.4472362, Train acc: 0.0457, Test accuracy: 0.0297\n",
      "Epoch 5500, LR: [0.000125]: Train loss: 3.4472240, Train acc: 0.0456, Test accuracy: 0.0297\n",
      "Epoch 5600, LR: [0.000125]: Train loss: 3.4472107, Train acc: 0.0456, Test accuracy: 0.0297\n",
      "Epoch 5700, LR: [6.25e-05]: Train loss: 3.4472083, Train acc: 0.0456, Test accuracy: 0.0297\n",
      "Epoch 5800, LR: [6.25e-05]: Train loss: 3.4471222, Train acc: 0.0457, Test accuracy: 0.0297\n",
      "Epoch 5900, LR: [6.25e-05]: Train loss: 3.4471103, Train acc: 0.0457, Test accuracy: 0.0297\n",
      "Epoch 6000, LR: [6.25e-05]: Train loss: 3.4471048, Train acc: 0.0457, Test accuracy: 0.0297\n",
      "Checkpoint saved at epoch 6000 -> checkpoints/checkpoint_epoch_6000.pt\n",
      "Epoch 6100, LR: [6.25e-05]: Train loss: 3.4470980, Train acc: 0.0457, Test accuracy: 0.0297\n",
      "Epoch 6200, LR: [6.25e-05]: Train loss: 3.4470982, Train acc: 0.0457, Test accuracy: 0.0297\n",
      "Epoch 6300, LR: [6.25e-05]: Train loss: 3.4470920, Train acc: 0.0456, Test accuracy: 0.0297\n",
      "Epoch 6400, LR: [6.25e-05]: Train loss: 3.4470891, Train acc: 0.0456, Test accuracy: 0.0297\n",
      "Epoch 6500, LR: [6.25e-05]: Train loss: 3.4470845, Train acc: 0.0457, Test accuracy: 0.0295\n",
      "Epoch 6600, LR: [6.25e-05]: Train loss: 3.4470805, Train acc: 0.0457, Test accuracy: 0.0297\n",
      "20 * 100 epochs without STOP.TRAIN improvement, stopping.\n",
      "Best train acc: 0.04561328125, epoch: 4600\n",
      "\n",
      "Task: Task.NEIGHBORS_MATCH\n",
      "depth, train_acc, test_acc, epoch, train_acc, test_acc, epoch,\n",
      "5, 0.04561328125, 0.0303125, 46\n"
     ]
    }
   ],
   "source": [
    "!python run-gsage-mean-2-6.py"
   ]
  }
 ],
 "metadata": {
  "kaggle": {
   "accelerator": "nvidiaTeslaT4",
   "dataSources": [],
   "dockerImageVersionId": 30823,
   "isGpuEnabled": true,
   "isInternetEnabled": true,
   "language": "python",
   "sourceType": "notebook"
  },
  "kernelspec": {
   "display_name": "Python 3",
   "language": "python",
   "name": "python3"
  },
  "language_info": {
   "codemirror_mode": {
    "name": "ipython",
    "version": 3
   },
   "file_extension": ".py",
   "mimetype": "text/x-python",
   "name": "python",
   "nbconvert_exporter": "python",
   "pygments_lexer": "ipython3",
   "version": "3.10.12"
  }
 },
 "nbformat": 4,
 "nbformat_minor": 4
}
