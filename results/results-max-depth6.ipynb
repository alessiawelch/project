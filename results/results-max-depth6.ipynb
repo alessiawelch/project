{
 "cells": [
  {
   "cell_type": "code",
   "execution_count": 2,
   "metadata": {
    "_cell_guid": "b1076dfc-b9ad-4769-8c92-a6c4dae69d19",
    "_uuid": "8f2839f25d086af736a60e9eeb907d3b93b6e0e5",
    "execution": {
     "iopub.execute_input": "2025-01-11T14:30:33.091808Z",
     "iopub.status.busy": "2025-01-11T14:30:33.091540Z",
     "iopub.status.idle": "2025-01-11T14:30:34.237835Z",
     "shell.execute_reply": "2025-01-11T14:30:34.236829Z",
     "shell.execute_reply.started": "2025-01-11T14:30:33.091788Z"
    },
    "trusted": true
   },
   "outputs": [
    {
     "name": "stdout",
     "output_type": "stream",
     "text": [
      "Cloning into 'project'...\n",
      "remote: Enumerating objects: 292, done.\u001b[K\n",
      "remote: Counting objects: 100% (292/292), done.\u001b[K\n",
      "remote: Compressing objects: 100% (210/210), done.\u001b[K\n",
      "remote: Total 292 (delta 132), reused 196 (delta 78), pack-reused 0 (from 0)\u001b[K\n",
      "Receiving objects: 100% (292/292), 1.81 MiB | 12.70 MiB/s, done.\n",
      "Resolving deltas: 100% (132/132), done.\n"
     ]
    }
   ],
   "source": [
    "!git clone https://github.com/alessiawelch/project.git"
   ]
  },
  {
   "cell_type": "code",
   "execution_count": 3,
   "metadata": {
    "execution": {
     "iopub.execute_input": "2025-01-11T14:30:36.249827Z",
     "iopub.status.busy": "2025-01-11T14:30:36.249517Z",
     "iopub.status.idle": "2025-01-11T14:30:36.594058Z",
     "shell.execute_reply": "2025-01-11T14:30:36.592974Z",
     "shell.execute_reply.started": "2025-01-11T14:30:36.249804Z"
    },
    "trusted": true
   },
   "outputs": [
    {
     "name": "stdout",
     "output_type": "stream",
     "text": [
      "/kaggle/working/project\n",
      "From https://github.com/alessiawelch/project\n",
      " * branch            main       -> FETCH_HEAD\n",
      "Already up to date.\n"
     ]
    }
   ],
   "source": [
    "%cd project\n",
    "!git pull origin main\n"
   ]
  },
  {
   "cell_type": "code",
   "execution_count": 4,
   "metadata": {
    "execution": {
     "iopub.execute_input": "2025-01-11T14:30:38.793315Z",
     "iopub.status.busy": "2025-01-11T14:30:38.792967Z",
     "iopub.status.idle": "2025-01-11T14:30:58.826794Z",
     "shell.execute_reply": "2025-01-11T14:30:58.825774Z",
     "shell.execute_reply.started": "2025-01-11T14:30:38.793286Z"
    },
    "trusted": true
   },
   "outputs": [
    {
     "name": "stdout",
     "output_type": "stream",
     "text": [
      "2.4.1+cu121\n",
      "Looking in links: https://data.pyg.org/whl/torch-2.0.1+cu118.html\n",
      "Collecting torch-scatter\n",
      "  Downloading https://data.pyg.org/whl/torch-2.0.0%2Bcu118/torch_scatter-2.1.2%2Bpt20cu118-cp310-cp310-linux_x86_64.whl (10.2 MB)\n",
      "\u001b[2K     \u001b[90m━━━━━━━━━━━━━━━━━━━━━━━━━━━━━━━━━━━━━━━━\u001b[0m \u001b[32m10.2/10.2 MB\u001b[0m \u001b[31m42.7 MB/s\u001b[0m eta \u001b[36m0:00:00\u001b[0m00:01\u001b[0m0:01\u001b[0m\n",
      "\u001b[?25hInstalling collected packages: torch-scatter\n",
      "Successfully installed torch-scatter-2.1.2+pt20cu118\n",
      "Looking in links: https://data.pyg.org/whl/torch-2.0.1+cu118.html\n",
      "Collecting torch-sparse\n",
      "  Downloading https://data.pyg.org/whl/torch-2.0.0%2Bcu118/torch_sparse-0.6.18%2Bpt20cu118-cp310-cp310-linux_x86_64.whl (4.9 MB)\n",
      "\u001b[2K     \u001b[90m━━━━━━━━━━━━━━━━━━━━━━━━━━━━━━━━━━━━━━━━\u001b[0m \u001b[32m4.9/4.9 MB\u001b[0m \u001b[31m27.6 MB/s\u001b[0m eta \u001b[36m0:00:00\u001b[0m00:01\u001b[0m00:01\u001b[0m\n",
      "\u001b[?25hRequirement already satisfied: scipy in /usr/local/lib/python3.10/dist-packages (from torch-sparse) (1.13.1)\n",
      "Requirement already satisfied: numpy<2.3,>=1.22.4 in /usr/local/lib/python3.10/dist-packages (from scipy->torch-sparse) (1.26.4)\n",
      "Installing collected packages: torch-sparse\n",
      "Successfully installed torch-sparse-0.6.18+pt20cu118\n",
      "Collecting torch-geometric\n",
      "  Downloading torch_geometric-2.6.1-py3-none-any.whl.metadata (63 kB)\n",
      "\u001b[2K     \u001b[90m━━━━━━━━━━━━━━━━━━━━━━━━━━━━━━━━━━━━━━━━\u001b[0m \u001b[32m63.1/63.1 kB\u001b[0m \u001b[31m2.0 MB/s\u001b[0m eta \u001b[36m0:00:00\u001b[0m\n",
      "\u001b[?25hRequirement already satisfied: aiohttp in /usr/local/lib/python3.10/dist-packages (from torch-geometric) (3.10.5)\n",
      "Requirement already satisfied: fsspec in /usr/local/lib/python3.10/dist-packages (from torch-geometric) (2024.6.1)\n",
      "Requirement already satisfied: jinja2 in /usr/local/lib/python3.10/dist-packages (from torch-geometric) (3.1.4)\n",
      "Requirement already satisfied: numpy in /usr/local/lib/python3.10/dist-packages (from torch-geometric) (1.26.4)\n",
      "Requirement already satisfied: psutil>=5.8.0 in /usr/local/lib/python3.10/dist-packages (from torch-geometric) (5.9.5)\n",
      "Requirement already satisfied: pyparsing in /usr/local/lib/python3.10/dist-packages (from torch-geometric) (3.1.4)\n",
      "Requirement already satisfied: requests in /usr/local/lib/python3.10/dist-packages (from torch-geometric) (2.32.3)\n",
      "Requirement already satisfied: tqdm in /usr/local/lib/python3.10/dist-packages (from torch-geometric) (4.66.5)\n",
      "Requirement already satisfied: aiohappyeyeballs>=2.3.0 in /usr/local/lib/python3.10/dist-packages (from aiohttp->torch-geometric) (2.4.0)\n",
      "Requirement already satisfied: aiosignal>=1.1.2 in /usr/local/lib/python3.10/dist-packages (from aiohttp->torch-geometric) (1.3.1)\n",
      "Requirement already satisfied: attrs>=17.3.0 in /usr/local/lib/python3.10/dist-packages (from aiohttp->torch-geometric) (24.2.0)\n",
      "Requirement already satisfied: frozenlist>=1.1.1 in /usr/local/lib/python3.10/dist-packages (from aiohttp->torch-geometric) (1.4.1)\n",
      "Requirement already satisfied: multidict<7.0,>=4.5 in /usr/local/lib/python3.10/dist-packages (from aiohttp->torch-geometric) (6.1.0)\n",
      "Requirement already satisfied: yarl<2.0,>=1.0 in /usr/local/lib/python3.10/dist-packages (from aiohttp->torch-geometric) (1.11.1)\n",
      "Requirement already satisfied: async-timeout<5.0,>=4.0 in /usr/local/lib/python3.10/dist-packages (from aiohttp->torch-geometric) (4.0.3)\n",
      "Requirement already satisfied: MarkupSafe>=2.0 in /usr/local/lib/python3.10/dist-packages (from jinja2->torch-geometric) (2.1.5)\n",
      "Requirement already satisfied: charset-normalizer<4,>=2 in /usr/local/lib/python3.10/dist-packages (from requests->torch-geometric) (3.3.2)\n",
      "Requirement already satisfied: idna<4,>=2.5 in /usr/local/lib/python3.10/dist-packages (from requests->torch-geometric) (3.10)\n",
      "Requirement already satisfied: urllib3<3,>=1.21.1 in /usr/local/lib/python3.10/dist-packages (from requests->torch-geometric) (2.2.3)\n",
      "Requirement already satisfied: certifi>=2017.4.17 in /usr/local/lib/python3.10/dist-packages (from requests->torch-geometric) (2024.8.30)\n",
      "Requirement already satisfied: typing-extensions>=4.1.0 in /usr/local/lib/python3.10/dist-packages (from multidict<7.0,>=4.5->aiohttp->torch-geometric) (4.12.2)\n",
      "Downloading torch_geometric-2.6.1-py3-none-any.whl (1.1 MB)\n",
      "\u001b[2K   \u001b[90m━━━━━━━━━━━━━━━━━━━━━━━━━━━━━━━━━━━━━━━━\u001b[0m \u001b[32m1.1/1.1 MB\u001b[0m \u001b[31m19.7 MB/s\u001b[0m eta \u001b[36m0:00:00\u001b[0ma \u001b[36m0:00:01\u001b[0m\n",
      "\u001b[?25hInstalling collected packages: torch-geometric\n",
      "Successfully installed torch-geometric-2.6.1\n"
     ]
    }
   ],
   "source": [
    "import torch\n",
    "print(torch.__version__)  # e.g., 2.0.1\n",
    "\n",
    "# Example installation (this line may change based on the PyTorch Geometric docs)\n",
    "!pip install torch-scatter -f https://data.pyg.org/whl/torch-2.0.1+cu118.html\n",
    "!pip install torch-sparse -f https://data.pyg.org/whl/torch-2.0.1+cu118.html\n",
    "!pip install torch-geometric"
   ]
  },
  {
   "cell_type": "code",
   "execution_count": 5,
   "metadata": {
    "execution": {
     "iopub.execute_input": "2025-01-11T14:30:58.829180Z",
     "iopub.status.busy": "2025-01-11T14:30:58.828390Z",
     "iopub.status.idle": "2025-01-11T14:31:02.297875Z",
     "shell.execute_reply": "2025-01-11T14:31:02.297025Z",
     "shell.execute_reply.started": "2025-01-11T14:30:58.829154Z"
    },
    "trusted": true
   },
   "outputs": [
    {
     "name": "stdout",
     "output_type": "stream",
     "text": [
      "Collecting attrdict==2.0.1 (from -r requirements.txt (line 1))\n",
      "  Downloading attrdict-2.0.1-py2.py3-none-any.whl.metadata (6.7 kB)\n",
      "Requirement already satisfied: torch>=1.4.0 in /usr/local/lib/python3.10/dist-packages (from -r requirements.txt (line 2)) (2.4.1+cu121)\n",
      "Requirement already satisfied: torch-geometric>=1.4.2 in /usr/local/lib/python3.10/dist-packages (from -r requirements.txt (line 3)) (2.6.1)\n",
      "Requirement already satisfied: torch-scatter>=2.0.4 in /usr/local/lib/python3.10/dist-packages (from -r requirements.txt (line 4)) (2.1.2+pt20cu118)\n",
      "Requirement already satisfied: torch-sparse>=0.6.0 in /usr/local/lib/python3.10/dist-packages (from -r requirements.txt (line 5)) (0.6.18+pt20cu118)\n",
      "Requirement already satisfied: torchvision>=0.5.0 in /usr/local/lib/python3.10/dist-packages (from -r requirements.txt (line 6)) (0.19.1+cu121)\n",
      "Requirement already satisfied: six in /usr/local/lib/python3.10/dist-packages (from attrdict==2.0.1->-r requirements.txt (line 1)) (1.16.0)\n",
      "Requirement already satisfied: filelock in /usr/local/lib/python3.10/dist-packages (from torch>=1.4.0->-r requirements.txt (line 2)) (3.16.1)\n",
      "Requirement already satisfied: typing-extensions>=4.8.0 in /usr/local/lib/python3.10/dist-packages (from torch>=1.4.0->-r requirements.txt (line 2)) (4.12.2)\n",
      "Requirement already satisfied: sympy in /usr/local/lib/python3.10/dist-packages (from torch>=1.4.0->-r requirements.txt (line 2)) (1.13.3)\n",
      "Requirement already satisfied: networkx in /usr/local/lib/python3.10/dist-packages (from torch>=1.4.0->-r requirements.txt (line 2)) (3.3)\n",
      "Requirement already satisfied: jinja2 in /usr/local/lib/python3.10/dist-packages (from torch>=1.4.0->-r requirements.txt (line 2)) (3.1.4)\n",
      "Requirement already satisfied: fsspec in /usr/local/lib/python3.10/dist-packages (from torch>=1.4.0->-r requirements.txt (line 2)) (2024.6.1)\n",
      "Requirement already satisfied: aiohttp in /usr/local/lib/python3.10/dist-packages (from torch-geometric>=1.4.2->-r requirements.txt (line 3)) (3.10.5)\n",
      "Requirement already satisfied: numpy in /usr/local/lib/python3.10/dist-packages (from torch-geometric>=1.4.2->-r requirements.txt (line 3)) (1.26.4)\n",
      "Requirement already satisfied: psutil>=5.8.0 in /usr/local/lib/python3.10/dist-packages (from torch-geometric>=1.4.2->-r requirements.txt (line 3)) (5.9.5)\n",
      "Requirement already satisfied: pyparsing in /usr/local/lib/python3.10/dist-packages (from torch-geometric>=1.4.2->-r requirements.txt (line 3)) (3.1.4)\n",
      "Requirement already satisfied: requests in /usr/local/lib/python3.10/dist-packages (from torch-geometric>=1.4.2->-r requirements.txt (line 3)) (2.32.3)\n",
      "Requirement already satisfied: tqdm in /usr/local/lib/python3.10/dist-packages (from torch-geometric>=1.4.2->-r requirements.txt (line 3)) (4.66.5)\n",
      "Requirement already satisfied: scipy in /usr/local/lib/python3.10/dist-packages (from torch-sparse>=0.6.0->-r requirements.txt (line 5)) (1.13.1)\n",
      "Requirement already satisfied: pillow!=8.3.*,>=5.3.0 in /usr/local/lib/python3.10/dist-packages (from torchvision>=0.5.0->-r requirements.txt (line 6)) (10.4.0)\n",
      "Requirement already satisfied: aiohappyeyeballs>=2.3.0 in /usr/local/lib/python3.10/dist-packages (from aiohttp->torch-geometric>=1.4.2->-r requirements.txt (line 3)) (2.4.0)\n",
      "Requirement already satisfied: aiosignal>=1.1.2 in /usr/local/lib/python3.10/dist-packages (from aiohttp->torch-geometric>=1.4.2->-r requirements.txt (line 3)) (1.3.1)\n",
      "Requirement already satisfied: attrs>=17.3.0 in /usr/local/lib/python3.10/dist-packages (from aiohttp->torch-geometric>=1.4.2->-r requirements.txt (line 3)) (24.2.0)\n",
      "Requirement already satisfied: frozenlist>=1.1.1 in /usr/local/lib/python3.10/dist-packages (from aiohttp->torch-geometric>=1.4.2->-r requirements.txt (line 3)) (1.4.1)\n",
      "Requirement already satisfied: multidict<7.0,>=4.5 in /usr/local/lib/python3.10/dist-packages (from aiohttp->torch-geometric>=1.4.2->-r requirements.txt (line 3)) (6.1.0)\n",
      "Requirement already satisfied: yarl<2.0,>=1.0 in /usr/local/lib/python3.10/dist-packages (from aiohttp->torch-geometric>=1.4.2->-r requirements.txt (line 3)) (1.11.1)\n",
      "Requirement already satisfied: async-timeout<5.0,>=4.0 in /usr/local/lib/python3.10/dist-packages (from aiohttp->torch-geometric>=1.4.2->-r requirements.txt (line 3)) (4.0.3)\n",
      "Requirement already satisfied: MarkupSafe>=2.0 in /usr/local/lib/python3.10/dist-packages (from jinja2->torch>=1.4.0->-r requirements.txt (line 2)) (2.1.5)\n",
      "Requirement already satisfied: charset-normalizer<4,>=2 in /usr/local/lib/python3.10/dist-packages (from requests->torch-geometric>=1.4.2->-r requirements.txt (line 3)) (3.3.2)\n",
      "Requirement already satisfied: idna<4,>=2.5 in /usr/local/lib/python3.10/dist-packages (from requests->torch-geometric>=1.4.2->-r requirements.txt (line 3)) (3.10)\n",
      "Requirement already satisfied: urllib3<3,>=1.21.1 in /usr/local/lib/python3.10/dist-packages (from requests->torch-geometric>=1.4.2->-r requirements.txt (line 3)) (2.2.3)\n",
      "Requirement already satisfied: certifi>=2017.4.17 in /usr/local/lib/python3.10/dist-packages (from requests->torch-geometric>=1.4.2->-r requirements.txt (line 3)) (2024.8.30)\n",
      "Requirement already satisfied: mpmath<1.4,>=1.1.0 in /usr/local/lib/python3.10/dist-packages (from sympy->torch>=1.4.0->-r requirements.txt (line 2)) (1.3.0)\n",
      "Downloading attrdict-2.0.1-py2.py3-none-any.whl (9.9 kB)\n",
      "Installing collected packages: attrdict\n",
      "Successfully installed attrdict-2.0.1\n"
     ]
    }
   ],
   "source": [
    "!pip install -r requirements.txt"
   ]
  },
  {
   "cell_type": "code",
   "execution_count": 6,
   "metadata": {
    "execution": {
     "iopub.execute_input": "2025-01-11T14:31:05.162543Z",
     "iopub.status.busy": "2025-01-11T14:31:05.162215Z",
     "iopub.status.idle": "2025-01-11T14:31:08.343946Z",
     "shell.execute_reply": "2025-01-11T14:31:08.342922Z",
     "shell.execute_reply.started": "2025-01-11T14:31:05.162515Z"
    },
    "trusted": true
   },
   "outputs": [
    {
     "name": "stdout",
     "output_type": "stream",
     "text": [
      "Requirement already satisfied: scikit-learn in /usr/local/lib/python3.10/dist-packages (1.2.2)\n",
      "Requirement already satisfied: numpy>=1.17.3 in /usr/local/lib/python3.10/dist-packages (from scikit-learn) (1.26.4)\n",
      "Requirement already satisfied: scipy>=1.3.2 in /usr/local/lib/python3.10/dist-packages (from scikit-learn) (1.13.1)\n",
      "Requirement already satisfied: joblib>=1.1.1 in /usr/local/lib/python3.10/dist-packages (from scikit-learn) (1.4.2)\n",
      "Requirement already satisfied: threadpoolctl>=2.0.0 in /usr/local/lib/python3.10/dist-packages (from scikit-learn) (3.5.0)\n"
     ]
    }
   ],
   "source": [
    "!pip install scikit-learn"
   ]
  },
  {
   "cell_type": "code",
   "execution_count": 7,
   "metadata": {
    "execution": {
     "iopub.execute_input": "2025-01-11T14:31:08.345876Z",
     "iopub.status.busy": "2025-01-11T14:31:08.345508Z",
     "iopub.status.idle": "2025-01-11T14:31:15.035870Z",
     "shell.execute_reply": "2025-01-11T14:31:15.034605Z",
     "shell.execute_reply.started": "2025-01-11T14:31:08.345844Z"
    },
    "trusted": true
   },
   "outputs": [
    {
     "name": "stdout",
     "output_type": "stream",
     "text": [
      "/usr/local/lib/python3.10/dist-packages/torch_geometric/typing.py:86: UserWarning: An issue occurred while importing 'torch-scatter'. Disabling its usage. Stacktrace: /usr/local/lib/python3.10/dist-packages/torch_scatter/_version_cuda.so: undefined symbol: _ZN3c1017RegisterOperatorsD1Ev\n",
      "  warnings.warn(f\"An issue occurred while importing 'torch-scatter'. \"\n",
      "/usr/local/lib/python3.10/dist-packages/torch_geometric/typing.py:124: UserWarning: An issue occurred while importing 'torch-sparse'. Disabling its usage. Stacktrace: /usr/local/lib/python3.10/dist-packages/torch_sparse/_version_cuda.so: undefined symbol: _ZN3c1017RegisterOperatorsD1Ev\n",
      "  warnings.warn(f\"An issue occurred while importing 'torch-sparse'. \"\n"
     ]
    }
   ],
   "source": [
    "!python -c 'import torch; import torch_geometric'"
   ]
  },
  {
   "cell_type": "code",
   "execution_count": 8,
   "metadata": {
    "execution": {
     "iopub.execute_input": "2025-01-11T14:31:21.207176Z",
     "iopub.status.busy": "2025-01-11T14:31:21.206808Z",
     "iopub.status.idle": "2025-01-11T14:31:26.028268Z",
     "shell.execute_reply": "2025-01-11T14:31:26.027173Z",
     "shell.execute_reply.started": "2025-01-11T14:31:21.207146Z"
    },
    "trusted": true
   },
   "outputs": [
    {
     "name": "stdout",
     "output_type": "stream",
     "text": [
      "Found existing installation: attrdict 2.0.1\n",
      "Uninstalling attrdict-2.0.1:\n",
      "  Successfully uninstalled attrdict-2.0.1\n",
      "Collecting attrdict==2.0.1\n",
      "  Using cached attrdict-2.0.1-py2.py3-none-any.whl.metadata (6.7 kB)\n",
      "Requirement already satisfied: six in /usr/local/lib/python3.10/dist-packages (from attrdict==2.0.1) (1.16.0)\n",
      "Using cached attrdict-2.0.1-py2.py3-none-any.whl (9.9 kB)\n",
      "Installing collected packages: attrdict\n",
      "Successfully installed attrdict-2.0.1\n"
     ]
    }
   ],
   "source": [
    "# Uninstall any existing attrdict to ensure a clean reinstall\n",
    "!pip uninstall -y attrdict\n",
    "\n",
    "# Reinstall attrdict (so we can then patch it)\n",
    "!pip install attrdict==2.0.1\n",
    "\n",
    "# Replace \"from collections import Mapping, MutableMapping, Sequence\"\n",
    "# with \"from collections.abc import Mapping, MutableMapping, Sequence\"\n",
    "!sed -i 's/from collections import Mapping, MutableMapping, Sequence/from collections.abc import Mapping, MutableMapping, Sequence/g' /usr/local/lib/python3.10/dist-packages/attrdict/*.py\n",
    "\n",
    "# Sometimes they're imported separately, so let's handle those too:\n",
    "!sed -i 's/from collections import Mapping/from collections.abc import Mapping/g' /usr/local/lib/python3.10/dist-packages/attrdict/*.py\n",
    "!sed -i 's/from collections import MutableMapping/from collections.abc import MutableMapping/g' /usr/local/lib/python3.10/dist-packages/attrdict/*.py\n",
    "!sed -i 's/from collections import Sequence/from collections.abc import Sequence/g' /usr/local/lib/python3.10/dist-packages/attrdict/*.py\n"
   ]
  },
  {
   "cell_type": "code",
   "execution_count": 9,
   "metadata": {
    "execution": {
     "iopub.execute_input": "2025-01-11T14:31:41.908745Z",
     "iopub.status.busy": "2025-01-11T14:31:41.908446Z",
     "iopub.status.idle": "2025-01-11T14:31:45.019396Z",
     "shell.execute_reply": "2025-01-11T14:31:45.018291Z",
     "shell.execute_reply.started": "2025-01-11T14:31:41.908721Z"
    },
    "trusted": true
   },
   "outputs": [
    {
     "name": "stdout",
     "output_type": "stream",
     "text": [
      "Looking in links: https://data.pyg.org/whl/torch-2.4.1+cu121.html\n",
      "Requirement already satisfied: torch-scatter in /usr/local/lib/python3.10/dist-packages (2.1.2+pt20cu118)\n"
     ]
    }
   ],
   "source": [
    "!pip install torch-scatter -f https://data.pyg.org/whl/torch-2.4.1+cu121.html\n",
    "\n"
   ]
  },
  {
   "cell_type": "code",
   "execution_count": 10,
   "metadata": {
    "execution": {
     "iopub.execute_input": "2025-01-11T14:31:47.992285Z",
     "iopub.status.busy": "2025-01-11T14:31:47.991928Z",
     "iopub.status.idle": "2025-01-11T14:31:50.674358Z",
     "shell.execute_reply": "2025-01-11T14:31:50.673363Z",
     "shell.execute_reply.started": "2025-01-11T14:31:47.992255Z"
    },
    "trusted": true
   },
   "outputs": [
    {
     "name": "stdout",
     "output_type": "stream",
     "text": [
      "Name: torch-scatter\n",
      "Version: 2.1.2+pt20cu118\n",
      "Summary: PyTorch Extension Library of Optimized Scatter Operations\n",
      "Home-page: https://github.com/rusty1s/pytorch_scatter\n",
      "Author: Matthias Fey\n",
      "Author-email: matthias.fey@tu-dortmund.de\n",
      "License: \n",
      "Location: /usr/local/lib/python3.10/dist-packages\n",
      "Requires: \n",
      "Required-by: \n",
      "Note: you may need to restart the kernel to use updated packages.\n"
     ]
    }
   ],
   "source": [
    "pip show torch-scatter\n"
   ]
  },
  {
   "cell_type": "code",
   "execution_count": 11,
   "metadata": {
    "execution": {
     "iopub.execute_input": "2025-01-11T14:31:52.563337Z",
     "iopub.status.busy": "2025-01-11T14:31:52.562986Z",
     "iopub.status.idle": "2025-01-11T14:31:56.902974Z",
     "shell.execute_reply": "2025-01-11T14:31:56.902131Z",
     "shell.execute_reply.started": "2025-01-11T14:31:52.563312Z"
    },
    "trusted": true
   },
   "outputs": [
    {
     "name": "stdout",
     "output_type": "stream",
     "text": [
      "/usr/local/lib/python3.10/dist-packages/torch_geometric/typing.py:86: UserWarning: An issue occurred while importing 'torch-scatter'. Disabling its usage. Stacktrace: /usr/local/lib/python3.10/dist-packages/torch_scatter/_version_cuda.so: undefined symbol: _ZN3c1017RegisterOperatorsD1Ev\n",
      "  warnings.warn(f\"An issue occurred while importing 'torch-scatter'. \"\n",
      "/usr/local/lib/python3.10/dist-packages/torch_geometric/typing.py:124: UserWarning: An issue occurred while importing 'torch-sparse'. Disabling its usage. Stacktrace: /usr/local/lib/python3.10/dist-packages/torch_sparse/_version_cuda.so: undefined symbol: _ZN3c1017RegisterOperatorsD1Ev\n",
      "  warnings.warn(f\"An issue occurred while importing 'torch-sparse'. \"\n",
      "usage: main.py [-h] [--task {Task.NEIGHBORS_MATCH}]\n",
      "               [--type {GNN_TYPE.GCN,GNN_TYPE.GGNN,GNN_TYPE.GIN,GNN_TYPE.GAT,GNN_TYPE.GSAGE_MEAN,GNN_TYPE.GSAGE_MAX,GNN_TYPE.GSAGE_MIN,GNN_TYPE.GSAGE_SUM}]\n",
      "               [--dim DIM] [--depth DEPTH] [--num_layers NUM_LAYERS]\n",
      "               [--train_fraction TRAIN_FRACTION] [--max_epochs MAX_EPOCHS]\n",
      "               [--eval_every EVAL_EVERY] [--batch_size BATCH_SIZE] [--accum_grad ACCUM_GRAD]\n",
      "               [--stop {STOP.TRAIN,STOP.TEST}] [--patience PATIENCE]\n",
      "               [--loader_workers LOADER_WORKERS] [--last_layer_fully_adjacent] [--no_layer_norm]\n",
      "               [--no_activation] [--no_residual] [--unroll]\n",
      "               [--resume_checkpoint RESUME_CHECKPOINT]\n",
      "\n",
      "options:\n",
      "  -h, --help            show this help message and exit\n",
      "  --task {Task.NEIGHBORS_MATCH}\n",
      "  --type {GNN_TYPE.GCN,GNN_TYPE.GGNN,GNN_TYPE.GIN,GNN_TYPE.GAT,GNN_TYPE.GSAGE_MEAN,GNN_TYPE.GSAGE_MAX,GNN_TYPE.GSAGE_MIN,GNN_TYPE.GSAGE_SUM}\n",
      "  --dim DIM\n",
      "  --depth DEPTH\n",
      "  --num_layers NUM_LAYERS\n",
      "  --train_fraction TRAIN_FRACTION\n",
      "  --max_epochs MAX_EPOCHS\n",
      "  --eval_every EVAL_EVERY\n",
      "  --batch_size BATCH_SIZE\n",
      "  --accum_grad ACCUM_GRAD\n",
      "  --stop {STOP.TRAIN,STOP.TEST}\n",
      "  --patience PATIENCE\n",
      "  --loader_workers LOADER_WORKERS\n",
      "  --last_layer_fully_adjacent\n",
      "  --no_layer_norm\n",
      "  --no_activation\n",
      "  --no_residual\n",
      "  --unroll              use the same weights across GNN layers\n",
      "  --resume_checkpoint RESUME_CHECKPOINT\n",
      "                        Path to the checkpoint file to resume training\n"
     ]
    }
   ],
   "source": [
    "!python main.py --help"
   ]
  },
  {
   "cell_type": "code",
   "execution_count": 12,
   "metadata": {
    "execution": {
     "iopub.execute_input": "2025-01-11T14:32:07.867199Z",
     "iopub.status.busy": "2025-01-11T14:32:07.866842Z",
     "iopub.status.idle": "2025-01-11T17:48:29.904894Z",
     "shell.execute_reply": "2025-01-11T17:48:29.903980Z",
     "shell.execute_reply.started": "2025-01-11T14:32:07.867169Z"
    },
    "trusted": true
   },
   "outputs": [
    {
     "name": "stdout",
     "output_type": "stream",
     "text": [
      "/usr/local/lib/python3.10/dist-packages/torch_geometric/typing.py:86: UserWarning: An issue occurred while importing 'torch-scatter'. Disabling its usage. Stacktrace: /usr/local/lib/python3.10/dist-packages/torch_scatter/_version_cuda.so: undefined symbol: _ZN3c1017RegisterOperatorsD1Ev\n",
      "  warnings.warn(f\"An issue occurred while importing 'torch-scatter'. \"\n",
      "/usr/local/lib/python3.10/dist-packages/torch_geometric/typing.py:124: UserWarning: An issue occurred while importing 'torch-sparse'. Disabling its usage. Stacktrace: /usr/local/lib/python3.10/dist-packages/torch_sparse/_version_cuda.so: undefined symbol: _ZN3c1017RegisterOperatorsD1Ev\n",
      "  warnings.warn(f\"An issue occurred while importing 'torch-sparse'. \"\n",
      "Starting experiment\n",
      "task: Task.NEIGHBORS_MATCH\n",
      "type: GNN_TYPE.GSAGE_MAX\n",
      "dim: 32\n",
      "depth: 6\n",
      "num_layers: 7\n",
      "train_fraction: 0.8\n",
      "max_epochs: 50000\n",
      "eval_every: 100\n",
      "batch_size: 1024\n",
      "accum_grad: 1\n",
      "stop: STOP.TRAIN\n",
      "patience: 20\n",
      "loader_workers: 7\n",
      "last_layer_fully_adjacent: False\n",
      "no_layer_norm: False\n",
      "no_activation: True\n",
      "no_residual: False\n",
      "unroll: False\n",
      "resume_checkpoint: checkpoint_epoch_26000.pt\n",
      "\n",
      "Training examples: 25600, test examples: 6400\n",
      "/kaggle/working/project/experiment.py:85: FutureWarning: You are using `torch.load` with `weights_only=False` (the current default value), which uses the default pickle module implicitly. It is possible to construct malicious pickle data which will execute arbitrary code during unpickling (See https://github.com/pytorch/pytorch/blob/main/SECURITY.md#untrusted-models for more details). In a future release, the default value for `weights_only` will be flipped to `True`. This limits the functions that could be executed during unpickling. Arbitrary objects will no longer be allowed to be loaded via this mode unless they are explicitly allowlisted by the user via `torch.serialization.add_safe_globals`. We recommend you start setting `weights_only=True` for any use case where you don't have full control of the loaded file. Please open an issue on GitHub for any issues related to this experimental feature.\n",
      "  checkpoint = torch.load(resume_checkpoint, map_location=self.device)\n",
      "Resuming training from epoch 260, best_test_acc=0.01265625, best_train_acc=0.20195625\n",
      "Starting training\n",
      "/usr/local/lib/python3.10/dist-packages/torch_geometric/deprecation.py:26: UserWarning: 'data.DataLoader' is deprecated, use 'loader.DataLoader' instead\n",
      "  warnings.warn(out)\n",
      "/usr/local/lib/python3.10/dist-packages/torch/utils/data/dataloader.py:557: UserWarning: This DataLoader will create 7 worker processes in total. Our suggested max number of worker in current system is 4, which is smaller than what this DataLoader is going to create. Please be aware that excessive worker creation might get DataLoader running slow or even freeze, lower the worker number to avoid potential slowness/freeze if necessary.\n",
      "  warnings.warn(_create_warning_msg(\n",
      "/usr/local/lib/python3.10/dist-packages/torch_geometric/warnings.py:11: UserWarning: The usage of `scatter(reduce='max')` can be accelerated via the 'torch-scatter' package, but it was not found\n",
      "  warnings.warn(message)\n",
      "Epoch 26100, LR: [0.0005]: Train loss: 3.2873921, Train acc: 0.2019, Test accuracy: 0.0127\n",
      "Epoch 26200, LR: [0.0005]: Train loss: 3.2863683, Train acc: 0.2020, Test accuracy: 0.0127\n",
      "Epoch 26300, LR: [0.0005]: Train loss: 3.2865075, Train acc: 0.2020, Test accuracy: 0.0125\n",
      "Epoch 26400, LR: [0.0005]: Train loss: 3.2901762, Train acc: 0.2014, Test accuracy: 0.0120\n",
      "Epoch 26500, LR: [0.0005]: Train loss: 3.2869633, Train acc: 0.2021, Test accuracy: 0.0114 (new best train)\n",
      "Epoch 26600, LR: [0.0005]: Train loss: 3.2864134, Train acc: 0.2022, Test accuracy: 0.0120\n",
      "Epoch 26700, LR: [0.0005]: Train loss: 3.2868283, Train acc: 0.2023, Test accuracy: 0.0119 (new best train)\n",
      "Epoch 26800, LR: [0.0005]: Train loss: 3.2864370, Train acc: 0.2024, Test accuracy: 0.0114\n",
      "Epoch 26900, LR: [0.0005]: Train loss: 3.2872044, Train acc: 0.2021, Test accuracy: 0.0120\n",
      "Epoch 27000, LR: [0.0005]: Train loss: 3.2866380, Train acc: 0.2023, Test accuracy: 0.0125\n",
      "Checkpoint saved at epoch 27000 -> checkpoints/checkpoint_epoch_27000.pt\n",
      "Epoch 27100, LR: [0.0005]: Train loss: 3.2857161, Train acc: 0.2026, Test accuracy: 0.0119 (new best train)\n",
      "Epoch 27200, LR: [0.0005]: Train loss: 3.2852409, Train acc: 0.2026, Test accuracy: 0.0117\n",
      "Epoch 27300, LR: [0.0005]: Train loss: 3.2844263, Train acc: 0.2028, Test accuracy: 0.0112 (new best train)\n",
      "Epoch 27400, LR: [0.0005]: Train loss: 3.2886848, Train acc: 0.2016, Test accuracy: 0.0120\n",
      "Epoch 27500, LR: [0.0005]: Train loss: 3.2832024, Train acc: 0.2034, Test accuracy: 0.0120 (new best train)\n",
      "Epoch 27600, LR: [0.0005]: Train loss: 3.2852320, Train acc: 0.2026, Test accuracy: 0.0120\n",
      "Epoch 27700, LR: [0.0005]: Train loss: 3.2839614, Train acc: 0.2029, Test accuracy: 0.0108\n",
      "Epoch 27800, LR: [0.0005]: Train loss: 3.2836012, Train acc: 0.2032, Test accuracy: 0.0117\n",
      "Epoch 27900, LR: [0.0005]: Train loss: 3.2835858, Train acc: 0.2031, Test accuracy: 0.0111\n",
      "Epoch 28000, LR: [0.0005]: Train loss: 3.2830794, Train acc: 0.2032, Test accuracy: 0.0114\n",
      "Checkpoint saved at epoch 28000 -> checkpoints/checkpoint_epoch_28000.pt\n",
      "Epoch 28100, LR: [0.0005]: Train loss: 3.2846519, Train acc: 0.2028, Test accuracy: 0.0119\n",
      "Epoch 28200, LR: [0.0005]: Train loss: 3.2829372, Train acc: 0.2033, Test accuracy: 0.0125\n",
      "Epoch 28300, LR: [0.0005]: Train loss: 3.2832550, Train acc: 0.2032, Test accuracy: 0.0130\n",
      "Epoch 28400, LR: [0.0005]: Train loss: 3.2805367, Train acc: 0.2039, Test accuracy: 0.0109 (new best train)\n",
      "Epoch 28500, LR: [0.0005]: Train loss: 3.2821689, Train acc: 0.2036, Test accuracy: 0.0131\n",
      "Epoch 28600, LR: [0.0005]: Train loss: 3.2814007, Train acc: 0.2037, Test accuracy: 0.0122\n",
      "Epoch 28700, LR: [0.0005]: Train loss: 3.2815828, Train acc: 0.2038, Test accuracy: 0.0120\n",
      "Epoch 28800, LR: [0.0005]: Train loss: 3.2815176, Train acc: 0.2037, Test accuracy: 0.0114\n",
      "Epoch 28900, LR: [0.0005]: Train loss: 3.2804493, Train acc: 0.2041, Test accuracy: 0.0125 (new best train)\n",
      "Epoch 29000, LR: [0.0005]: Train loss: 3.2812824, Train acc: 0.2038, Test accuracy: 0.0125\n",
      "Checkpoint saved at epoch 29000 -> checkpoints/checkpoint_epoch_29000.pt\n",
      "Epoch 29100, LR: [0.0005]: Train loss: 3.2821562, Train acc: 0.2038, Test accuracy: 0.0120\n",
      "Epoch 29200, LR: [0.0005]: Train loss: 3.2807820, Train acc: 0.2040, Test accuracy: 0.0103\n",
      "Epoch 29300, LR: [0.0005]: Train loss: 3.2806230, Train acc: 0.2039, Test accuracy: 0.0103\n",
      "Epoch 29400, LR: [0.0005]: Train loss: 3.2813844, Train acc: 0.2038, Test accuracy: 0.0133\n",
      "Epoch 29500, LR: [0.0005]: Train loss: 3.2803368, Train acc: 0.2041, Test accuracy: 0.0122\n",
      "Epoch 29600, LR: [0.0005]: Train loss: 3.2805627, Train acc: 0.2040, Test accuracy: 0.0125\n",
      "Epoch 29700, LR: [0.0005]: Train loss: 3.2825446, Train acc: 0.2034, Test accuracy: 0.0122\n",
      "Epoch 29800, LR: [0.0005]: Train loss: 3.2795367, Train acc: 0.2042, Test accuracy: 0.0119 (new best train)\n",
      "Epoch 29900, LR: [0.0005]: Train loss: 3.2811034, Train acc: 0.2039, Test accuracy: 0.0114\n",
      "Epoch 30000, LR: [0.0005]: Train loss: 3.2796774, Train acc: 0.2043, Test accuracy: 0.0125\n",
      "Checkpoint saved at epoch 30000 -> checkpoints/checkpoint_epoch_30000.pt\n",
      "Epoch 30100, LR: [0.0005]: Train loss: 3.2798822, Train acc: 0.2042, Test accuracy: 0.0125\n",
      "Epoch 30200, LR: [0.0005]: Train loss: 3.2792580, Train acc: 0.2044, Test accuracy: 0.0120 (new best train)\n",
      "Epoch 30300, LR: [0.0005]: Train loss: 3.2780652, Train acc: 0.2046, Test accuracy: 0.0130 (new best train)\n",
      "Epoch 30400, LR: [0.0005]: Train loss: 3.2811847, Train acc: 0.2037, Test accuracy: 0.0128\n",
      "Epoch 30500, LR: [0.0005]: Train loss: 3.2778722, Train acc: 0.2047, Test accuracy: 0.0125\n",
      "Epoch 30600, LR: [0.0005]: Train loss: 3.7651455, Train acc: 0.1078, Test accuracy: 0.0131\n",
      "Epoch 30700, LR: [0.0005]: Train loss: 3.6108085, Train acc: 0.1282, Test accuracy: 0.0114\n",
      "Epoch 30800, LR: [0.0005]: Train loss: 3.5565281, Train acc: 0.1370, Test accuracy: 0.0125\n",
      "Epoch 30900, LR: [0.0005]: Train loss: 3.5224334, Train acc: 0.1443, Test accuracy: 0.0141\n",
      "Epoch 31000, LR: [0.0005]: Train loss: 3.5035423, Train acc: 0.1484, Test accuracy: 0.0122\n",
      "Checkpoint saved at epoch 31000 -> checkpoints/checkpoint_epoch_31000.pt\n",
      "Epoch 31100, LR: [0.0005]: Train loss: 3.4859721, Train acc: 0.1526, Test accuracy: 0.0134\n",
      "Epoch 31200, LR: [0.0005]: Train loss: 3.5050588, Train acc: 0.1494, Test accuracy: 0.0139\n",
      "Epoch 31300, LR: [0.0005]: Train loss: 3.4688026, Train acc: 0.1566, Test accuracy: 0.0130\n",
      "Epoch 31400, LR: [0.00025]: Train loss: 3.4644510, Train acc: 0.1583, Test accuracy: 0.0138\n",
      "Epoch 31500, LR: [0.00025]: Train loss: 3.4196456, Train acc: 0.1697, Test accuracy: 0.0134\n",
      "Epoch 31600, LR: [0.00025]: Train loss: 3.4134871, Train acc: 0.1717, Test accuracy: 0.0128\n",
      "Epoch 31700, LR: [0.00025]: Train loss: 3.4079677, Train acc: 0.1733, Test accuracy: 0.0139\n",
      "Epoch 31800, LR: [0.00025]: Train loss: 3.4031889, Train acc: 0.1748, Test accuracy: 0.0142\n",
      "Epoch 31900, LR: [0.00025]: Train loss: 3.3989494, Train acc: 0.1762, Test accuracy: 0.0134\n",
      "Epoch 32000, LR: [0.00025]: Train loss: 3.3953197, Train acc: 0.1772, Test accuracy: 0.0144\n",
      "Checkpoint saved at epoch 32000 -> checkpoints/checkpoint_epoch_32000.pt\n",
      "Epoch 32100, LR: [0.00025]: Train loss: 3.3919021, Train acc: 0.1782, Test accuracy: 0.0133\n",
      "Epoch 32200, LR: [0.00025]: Train loss: 3.3888769, Train acc: 0.1789, Test accuracy: 0.0142\n",
      "Epoch 32300, LR: [0.00025]: Train loss: 3.3860793, Train acc: 0.1793, Test accuracy: 0.0131\n",
      "20 * 100 epochs without STOP.TRAIN improvement, stopping.\n",
      "Best train acc: 0.20460234375, epoch: 30300\n"
     ]
    }
   ],
   "source": [
    "!python main.py --task NEIGHBORS_MATCH --type GSAGE_MAX --dim 32 --depth 6 --num_layers 7 --train_fraction 0.8 --max_epochs 50000 --eval_every 100 --batch_size 1024 --accum_grad 1 --stop TRAIN --patience 20 --loader_workers 7 --no_activation --resume_checkpoint checkpoint_epoch_26000.pt\n"
   ]
  },
  {
   "cell_type": "code",
   "execution_count": 11,
   "metadata": {
    "execution": {
     "iopub.execute_input": "2025-01-11T00:12:19.554316Z",
     "iopub.status.busy": "2025-01-11T00:12:19.553961Z",
     "iopub.status.idle": "2025-01-11T04:22:21.441969Z",
     "shell.execute_reply": "2025-01-11T04:22:21.441078Z",
     "shell.execute_reply.started": "2025-01-11T00:12:19.554284Z"
    },
    "trusted": true
   },
   "outputs": [
    {
     "name": "stdout",
     "output_type": "stream",
     "text": [
      "/usr/local/lib/python3.10/dist-packages/torch_geometric/typing.py:86: UserWarning: An issue occurred while importing 'torch-scatter'. Disabling its usage. Stacktrace: /usr/local/lib/python3.10/dist-packages/torch_scatter/_version_cuda.so: undefined symbol: _ZN3c1017RegisterOperatorsD1Ev\n",
      "  warnings.warn(f\"An issue occurred while importing 'torch-scatter'. \"\n",
      "/usr/local/lib/python3.10/dist-packages/torch_geometric/typing.py:124: UserWarning: An issue occurred while importing 'torch-sparse'. Disabling its usage. Stacktrace: /usr/local/lib/python3.10/dist-packages/torch_sparse/_version_cuda.so: undefined symbol: _ZN3c1017RegisterOperatorsD1Ev\n",
      "  warnings.warn(f\"An issue occurred while importing 'torch-sparse'. \"\n",
      "Starting experiment\n",
      "task: Task.NEIGHBORS_MATCH\n",
      "type: GNN_TYPE.GSAGE_MAX\n",
      "dim: 32\n",
      "depth: 6\n",
      "num_layers: 7\n",
      "train_fraction: 0.8\n",
      "max_epochs: 50000\n",
      "eval_every: 100\n",
      "batch_size: 1024\n",
      "accum_grad: 1\n",
      "stop: STOP.TRAIN\n",
      "patience: 20\n",
      "loader_workers: 7\n",
      "last_layer_fully_adjacent: False\n",
      "no_layer_norm: False\n",
      "no_activation: True\n",
      "no_residual: False\n",
      "unroll: False\n",
      "\n",
      "Training examples: 25600, test examples: 6400\n",
      "Starting training\n",
      "/usr/local/lib/python3.10/dist-packages/torch_geometric/deprecation.py:26: UserWarning: 'data.DataLoader' is deprecated, use 'loader.DataLoader' instead\n",
      "  warnings.warn(out)\n",
      "/usr/local/lib/python3.10/dist-packages/torch/utils/data/dataloader.py:557: UserWarning: This DataLoader will create 7 worker processes in total. Our suggested max number of worker in current system is 4, which is smaller than what this DataLoader is going to create. Please be aware that excessive worker creation might get DataLoader running slow or even freeze, lower the worker number to avoid potential slowness/freeze if necessary.\n",
      "  warnings.warn(_create_warning_msg(\n",
      "/usr/local/lib/python3.10/dist-packages/torch_geometric/warnings.py:11: UserWarning: The usage of `scatter(reduce='max')` can be accelerated via the 'torch-scatter' package, but it was not found\n",
      "  warnings.warn(message)\n",
      "Epoch 100, LR: [0.001]: Train loss: 4.1323344, Train acc: 0.0240, Test accuracy: 0.0150 (new best train)\n",
      "Epoch 200, LR: [0.001]: Train loss: 4.1080840, Train acc: 0.0277, Test accuracy: 0.0161 (new best train)\n",
      "Epoch 300, LR: [0.001]: Train loss: 4.0990759, Train acc: 0.0290, Test accuracy: 0.0122 (new best train)\n",
      "Epoch 400, LR: [0.001]: Train loss: 4.0259384, Train acc: 0.0440, Test accuracy: 0.0081 (new best train)\n",
      "Epoch 500, LR: [0.001]: Train loss: 3.9307331, Train acc: 0.0604, Test accuracy: 0.0078 (new best train)\n",
      "Epoch 600, LR: [0.001]: Train loss: 3.8779353, Train acc: 0.0695, Test accuracy: 0.0102 (new best train)\n",
      "Epoch 700, LR: [0.001]: Train loss: 3.8452155, Train acc: 0.0742, Test accuracy: 0.0083 (new best train)\n",
      "Epoch 800, LR: [0.001]: Train loss: 3.8191195, Train acc: 0.0784, Test accuracy: 0.0078 (new best train)\n",
      "Epoch 900, LR: [0.001]: Train loss: 3.7970969, Train acc: 0.0821, Test accuracy: 0.0097 (new best train)\n",
      "Epoch 1000, LR: [0.001]: Train loss: 3.7770682, Train acc: 0.0855, Test accuracy: 0.0083 (new best train)\n",
      "Epoch 1100, LR: [0.001]: Train loss: 3.7587008, Train acc: 0.0885, Test accuracy: 0.0105 (new best train)\n",
      "Epoch 1200, LR: [0.001]: Train loss: 3.7435124, Train acc: 0.0911, Test accuracy: 0.0094 (new best train)\n",
      "Epoch 1300, LR: [0.001]: Train loss: 3.7298439, Train acc: 0.0937, Test accuracy: 0.0102 (new best train)\n",
      "Epoch 1400, LR: [0.001]: Train loss: 3.7160479, Train acc: 0.0963, Test accuracy: 0.0100 (new best train)\n",
      "Epoch 1500, LR: [0.001]: Train loss: 3.7048683, Train acc: 0.0988, Test accuracy: 0.0117 (new best train)\n",
      "Epoch 1600, LR: [0.001]: Train loss: 3.6948680, Train acc: 0.1010, Test accuracy: 0.0114 (new best train)\n",
      "Epoch 1700, LR: [0.001]: Train loss: 3.6860238, Train acc: 0.1029, Test accuracy: 0.0117 (new best train)\n",
      "Epoch 1800, LR: [0.001]: Train loss: 3.6762673, Train acc: 0.1051, Test accuracy: 0.0120 (new best train)\n",
      "Epoch 1900, LR: [0.001]: Train loss: 3.6684086, Train acc: 0.1066, Test accuracy: 0.0122 (new best train)\n",
      "Epoch 2000, LR: [0.001]: Train loss: 3.6604250, Train acc: 0.1084, Test accuracy: 0.0109 (new best train)\n",
      "Checkpoint saved at epoch 2000 -> checkpoints/checkpoint_epoch_2000.pt\n",
      "Epoch 2100, LR: [0.001]: Train loss: 3.6525018, Train acc: 0.1102, Test accuracy: 0.0111 (new best train)\n",
      "Epoch 2200, LR: [0.001]: Train loss: 3.6465347, Train acc: 0.1116, Test accuracy: 0.0111 (new best train)\n",
      "Epoch 2300, LR: [0.001]: Train loss: 3.6398025, Train acc: 0.1135, Test accuracy: 0.0095 (new best train)\n",
      "Epoch 2400, LR: [0.001]: Train loss: 3.6336846, Train acc: 0.1150, Test accuracy: 0.0102 (new best train)\n",
      "Epoch 2500, LR: [0.001]: Train loss: 3.6275365, Train acc: 0.1162, Test accuracy: 0.0094 (new best train)\n",
      "Epoch 2600, LR: [0.001]: Train loss: 3.6217439, Train acc: 0.1178, Test accuracy: 0.0109 (new best train)\n",
      "Epoch 2700, LR: [0.001]: Train loss: 3.6166059, Train acc: 0.1190, Test accuracy: 0.0102 (new best train)\n",
      "Epoch 2800, LR: [0.001]: Train loss: 3.6112560, Train acc: 0.1205, Test accuracy: 0.0098 (new best train)\n",
      "Epoch 2900, LR: [0.001]: Train loss: 3.6063063, Train acc: 0.1218, Test accuracy: 0.0106 (new best train)\n",
      "Epoch 3000, LR: [0.001]: Train loss: 3.6019628, Train acc: 0.1227, Test accuracy: 0.0095 (new best train)\n",
      "Epoch 3100, LR: [0.001]: Train loss: 3.5965151, Train acc: 0.1242, Test accuracy: 0.0095 (new best train)\n",
      "Epoch 3200, LR: [0.001]: Train loss: 3.5922715, Train acc: 0.1251, Test accuracy: 0.0105 (new best train)\n",
      "Epoch 3300, LR: [0.001]: Train loss: 3.5890057, Train acc: 0.1264, Test accuracy: 0.0108 (new best train)\n",
      "Epoch 3400, LR: [0.001]: Train loss: 3.5841569, Train acc: 0.1275, Test accuracy: 0.0091 (new best train)\n",
      "Epoch 3500, LR: [0.001]: Train loss: 3.5797706, Train acc: 0.1287, Test accuracy: 0.0095 (new best train)\n",
      "Epoch 3600, LR: [0.001]: Train loss: 3.5756077, Train acc: 0.1295, Test accuracy: 0.0092 (new best train)\n",
      "Epoch 3700, LR: [0.001]: Train loss: 3.5710596, Train acc: 0.1308, Test accuracy: 0.0106 (new best train)\n",
      "Epoch 3800, LR: [0.001]: Train loss: 3.5684849, Train acc: 0.1315, Test accuracy: 0.0105 (new best train)\n",
      "Epoch 3900, LR: [0.001]: Train loss: 3.5656086, Train acc: 0.1323, Test accuracy: 0.0097 (new best train)\n",
      "Epoch 4000, LR: [0.001]: Train loss: 3.5621470, Train acc: 0.1334, Test accuracy: 0.0102 (new best train)\n",
      "Checkpoint saved at epoch 4000 -> checkpoints/checkpoint_epoch_4000.pt\n",
      "Epoch 4100, LR: [0.001]: Train loss: 3.5586260, Train acc: 0.1343, Test accuracy: 0.0102 (new best train)\n",
      "Epoch 4200, LR: [0.001]: Train loss: 3.5551679, Train acc: 0.1351, Test accuracy: 0.0086 (new best train)\n",
      "Epoch 4300, LR: [0.001]: Train loss: 3.5532312, Train acc: 0.1355, Test accuracy: 0.0098 (new best train)\n",
      "Epoch 4400, LR: [0.001]: Train loss: 3.5497231, Train acc: 0.1362, Test accuracy: 0.0095 (new best train)\n",
      "Epoch 4500, LR: [0.001]: Train loss: 3.5469291, Train acc: 0.1373, Test accuracy: 0.0092 (new best train)\n",
      "Epoch 4600, LR: [0.001]: Train loss: 3.5464694, Train acc: 0.1373, Test accuracy: 0.0098\n",
      "Epoch 4700, LR: [0.001]: Train loss: 3.5431060, Train acc: 0.1380, Test accuracy: 0.0088 (new best train)\n",
      "Epoch 4800, LR: [0.001]: Train loss: 3.5405504, Train acc: 0.1389, Test accuracy: 0.0086 (new best train)\n",
      "Epoch 4900, LR: [0.001]: Train loss: 3.5387272, Train acc: 0.1391, Test accuracy: 0.0097 (new best train)\n",
      "Epoch 5000, LR: [0.001]: Train loss: 3.5362158, Train acc: 0.1396, Test accuracy: 0.0106 (new best train)\n",
      "Epoch 5100, LR: [0.001]: Train loss: 3.5357059, Train acc: 0.1397, Test accuracy: 0.0092 (new best train)\n",
      "Epoch 5200, LR: [0.001]: Train loss: 3.5316643, Train acc: 0.1406, Test accuracy: 0.0097 (new best train)\n",
      "Epoch 5300, LR: [0.001]: Train loss: 3.5306067, Train acc: 0.1412, Test accuracy: 0.0091 (new best train)\n",
      "Epoch 5400, LR: [0.001]: Train loss: 3.5276566, Train acc: 0.1420, Test accuracy: 0.0097 (new best train)\n",
      "Epoch 5500, LR: [0.001]: Train loss: 3.5261162, Train acc: 0.1424, Test accuracy: 0.0097 (new best train)\n",
      "Epoch 5600, LR: [0.001]: Train loss: 3.5249492, Train acc: 0.1427, Test accuracy: 0.0103 (new best train)\n",
      "Epoch 5700, LR: [0.001]: Train loss: 3.5222591, Train acc: 0.1435, Test accuracy: 0.0103 (new best train)\n",
      "Epoch 5800, LR: [0.001]: Train loss: 3.5202792, Train acc: 0.1439, Test accuracy: 0.0091 (new best train)\n",
      "Epoch 5900, LR: [0.001]: Train loss: 3.5190170, Train acc: 0.1442, Test accuracy: 0.0100 (new best train)\n",
      "Epoch 6000, LR: [0.001]: Train loss: 3.5169215, Train acc: 0.1449, Test accuracy: 0.0092 (new best train)\n",
      "Checkpoint saved at epoch 6000 -> checkpoints/checkpoint_epoch_6000.pt\n",
      "Epoch 6100, LR: [0.001]: Train loss: 3.5147529, Train acc: 0.1453, Test accuracy: 0.0102 (new best train)\n",
      "Epoch 6200, LR: [0.001]: Train loss: 3.5131269, Train acc: 0.1457, Test accuracy: 0.0097 (new best train)\n",
      "Epoch 6300, LR: [0.001]: Train loss: 3.5113370, Train acc: 0.1461, Test accuracy: 0.0094 (new best train)\n",
      "Epoch 6400, LR: [0.001]: Train loss: 3.5079417, Train acc: 0.1471, Test accuracy: 0.0098 (new best train)\n",
      "Epoch 6500, LR: [0.001]: Train loss: 3.5063520, Train acc: 0.1475, Test accuracy: 0.0097 (new best train)\n",
      "Epoch 6600, LR: [0.001]: Train loss: 3.5043431, Train acc: 0.1475, Test accuracy: 0.0100\n",
      "Epoch 6700, LR: [0.001]: Train loss: 3.5030913, Train acc: 0.1479, Test accuracy: 0.0103 (new best train)\n",
      "Epoch 6800, LR: [0.001]: Train loss: 3.5005750, Train acc: 0.1484, Test accuracy: 0.0098 (new best train)\n",
      "Epoch 6900, LR: [0.001]: Train loss: 3.4982815, Train acc: 0.1490, Test accuracy: 0.0095 (new best train)\n",
      "Epoch 7000, LR: [0.001]: Train loss: 3.4982489, Train acc: 0.1491, Test accuracy: 0.0091\n",
      "Epoch 7100, LR: [0.001]: Train loss: 3.4952665, Train acc: 0.1497, Test accuracy: 0.0102 (new best train)\n",
      "Epoch 7200, LR: [0.001]: Train loss: 3.4945674, Train acc: 0.1497, Test accuracy: 0.0112\n",
      "Epoch 7300, LR: [0.001]: Train loss: 3.4929459, Train acc: 0.1499, Test accuracy: 0.0095 (new best train)\n",
      "Epoch 7400, LR: [0.001]: Train loss: 3.4904101, Train acc: 0.1507, Test accuracy: 0.0088 (new best train)\n",
      "Epoch 7500, LR: [0.001]: Train loss: 3.4889676, Train acc: 0.1511, Test accuracy: 0.0091 (new best train)\n",
      "Epoch 7600, LR: [0.001]: Train loss: 3.4862852, Train acc: 0.1518, Test accuracy: 0.0094 (new best train)\n",
      "Epoch 7700, LR: [0.001]: Train loss: 3.4872462, Train acc: 0.1514, Test accuracy: 0.0100\n",
      "Epoch 7800, LR: [0.001]: Train loss: 3.4844856, Train acc: 0.1520, Test accuracy: 0.0091 (new best train)\n",
      "Epoch 7900, LR: [0.001]: Train loss: 3.4820890, Train acc: 0.1525, Test accuracy: 0.0116 (new best train)\n",
      "Epoch 8000, LR: [0.001]: Train loss: 3.4797173, Train acc: 0.1534, Test accuracy: 0.0100 (new best train)\n",
      "Checkpoint saved at epoch 8000 -> checkpoints/checkpoint_epoch_8000.pt\n",
      "Epoch 8100, LR: [0.001]: Train loss: 3.4836525, Train acc: 0.1526, Test accuracy: 0.0106\n",
      "^C\n",
      "Traceback (most recent call last):\n",
      "  File \"/kaggle/working/project/run-gsage-max-2-6.py\", line 40, in <module>\n",
      "    train_acc, test_acc, epoch = Experiment(args).run()\n",
      "  File \"/kaggle/working/project/experiment.py\", line 117, in run\n",
      "    out = self.model(batch)\n",
      "  File \"/usr/local/lib/python3.10/dist-packages/torch/nn/modules/module.py\", line 1553, in _wrapped_call_impl\n",
      "    return self._call_impl(*args, **kwargs)\n",
      "  File \"/usr/local/lib/python3.10/dist-packages/torch/nn/modules/module.py\", line 1562, in _call_impl\n",
      "    return forward_call(*args, **kwargs)\n",
      "  File \"/kaggle/working/project/models/graph_model.py\", line 73, in forward\n",
      "    logits = self.out_layer(root_nodes)\n",
      "  File \"/usr/local/lib/python3.10/dist-packages/torch/nn/modules/module.py\", line 1716, in __getattr__\n",
      "    def __getattr__(self, name: str) -> Any:\n",
      "KeyboardInterrupt\n"
     ]
    }
   ],
   "source": [
    "!python run-gsage-max-2-6.py"
   ]
  }
 ],
 "metadata": {
  "kaggle": {
   "accelerator": "nvidiaTeslaT4",
   "dataSources": [],
   "dockerImageVersionId": 30823,
   "isGpuEnabled": true,
   "isInternetEnabled": true,
   "language": "python",
   "sourceType": "notebook"
  },
  "kernelspec": {
   "display_name": "Python 3",
   "language": "python",
   "name": "python3"
  },
  "language_info": {
   "codemirror_mode": {
    "name": "ipython",
    "version": 3
   },
   "file_extension": ".py",
   "mimetype": "text/x-python",
   "name": "python",
   "nbconvert_exporter": "python",
   "pygments_lexer": "ipython3",
   "version": "3.10.12"
  }
 },
 "nbformat": 4,
 "nbformat_minor": 4
}
