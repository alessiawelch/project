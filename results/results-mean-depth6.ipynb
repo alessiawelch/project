{
 "cells": [
  {
   "cell_type": "code",
   "execution_count": 3,
   "metadata": {
    "execution": {
     "iopub.execute_input": "2025-01-11T03:16:41.311575Z",
     "iopub.status.busy": "2025-01-11T03:16:41.311310Z",
     "iopub.status.idle": "2025-01-11T03:16:58.407972Z",
     "shell.execute_reply": "2025-01-11T03:16:58.407012Z",
     "shell.execute_reply.started": "2025-01-11T03:16:41.311552Z"
    },
    "trusted": true
   },
   "outputs": [
    {
     "name": "stdout",
     "output_type": "stream",
     "text": [
      "2.4.1+cu121\n",
      "Looking in links: https://data.pyg.org/whl/torch-2.0.1+cu118.html\n",
      "Collecting torch-scatter\n",
      "  Downloading https://data.pyg.org/whl/torch-2.0.0%2Bcu118/torch_scatter-2.1.2%2Bpt20cu118-cp310-cp310-linux_x86_64.whl (10.2 MB)\n",
      "\u001b[2K     \u001b[90m━━━━━━━━━━━━━━━━━━━━━━━━━━━━━━━━━━━━━━━━\u001b[0m \u001b[32m10.2/10.2 MB\u001b[0m \u001b[31m52.1 MB/s\u001b[0m eta \u001b[36m0:00:00\u001b[0m00:01\u001b[0m0:01\u001b[0m\n",
      "\u001b[?25hInstalling collected packages: torch-scatter\n",
      "Successfully installed torch-scatter-2.1.2+pt20cu118\n",
      "Looking in links: https://data.pyg.org/whl/torch-2.0.1+cu118.html\n",
      "Collecting torch-sparse\n",
      "  Downloading https://data.pyg.org/whl/torch-2.0.0%2Bcu118/torch_sparse-0.6.18%2Bpt20cu118-cp310-cp310-linux_x86_64.whl (4.9 MB)\n",
      "\u001b[2K     \u001b[90m━━━━━━━━━━━━━━━━━━━━━━━━━━━━━━━━━━━━━━━━\u001b[0m \u001b[32m4.9/4.9 MB\u001b[0m \u001b[31m42.5 MB/s\u001b[0m eta \u001b[36m0:00:00\u001b[0m00:01\u001b[0m00:01\u001b[0m\n",
      "\u001b[?25hRequirement already satisfied: scipy in /usr/local/lib/python3.10/dist-packages (from torch-sparse) (1.13.1)\n",
      "Requirement already satisfied: numpy<2.3,>=1.22.4 in /usr/local/lib/python3.10/dist-packages (from scipy->torch-sparse) (1.26.4)\n",
      "Installing collected packages: torch-sparse\n",
      "Successfully installed torch-sparse-0.6.18+pt20cu118\n",
      "Collecting torch-geometric\n",
      "  Downloading torch_geometric-2.6.1-py3-none-any.whl.metadata (63 kB)\n",
      "\u001b[2K     \u001b[90m━━━━━━━━━━━━━━━━━━━━━━━━━━━━━━━━━━━━━━━━\u001b[0m \u001b[32m63.1/63.1 kB\u001b[0m \u001b[31m2.3 MB/s\u001b[0m eta \u001b[36m0:00:00\u001b[0m\n",
      "\u001b[?25hRequirement already satisfied: aiohttp in /usr/local/lib/python3.10/dist-packages (from torch-geometric) (3.10.5)\n",
      "Requirement already satisfied: fsspec in /usr/local/lib/python3.10/dist-packages (from torch-geometric) (2024.6.1)\n",
      "Requirement already satisfied: jinja2 in /usr/local/lib/python3.10/dist-packages (from torch-geometric) (3.1.4)\n",
      "Requirement already satisfied: numpy in /usr/local/lib/python3.10/dist-packages (from torch-geometric) (1.26.4)\n",
      "Requirement already satisfied: psutil>=5.8.0 in /usr/local/lib/python3.10/dist-packages (from torch-geometric) (5.9.5)\n",
      "Requirement already satisfied: pyparsing in /usr/local/lib/python3.10/dist-packages (from torch-geometric) (3.1.4)\n",
      "Requirement already satisfied: requests in /usr/local/lib/python3.10/dist-packages (from torch-geometric) (2.32.3)\n",
      "Requirement already satisfied: tqdm in /usr/local/lib/python3.10/dist-packages (from torch-geometric) (4.66.5)\n",
      "Requirement already satisfied: aiohappyeyeballs>=2.3.0 in /usr/local/lib/python3.10/dist-packages (from aiohttp->torch-geometric) (2.4.0)\n",
      "Requirement already satisfied: aiosignal>=1.1.2 in /usr/local/lib/python3.10/dist-packages (from aiohttp->torch-geometric) (1.3.1)\n",
      "Requirement already satisfied: attrs>=17.3.0 in /usr/local/lib/python3.10/dist-packages (from aiohttp->torch-geometric) (24.2.0)\n",
      "Requirement already satisfied: frozenlist>=1.1.1 in /usr/local/lib/python3.10/dist-packages (from aiohttp->torch-geometric) (1.4.1)\n",
      "Requirement already satisfied: multidict<7.0,>=4.5 in /usr/local/lib/python3.10/dist-packages (from aiohttp->torch-geometric) (6.1.0)\n",
      "Requirement already satisfied: yarl<2.0,>=1.0 in /usr/local/lib/python3.10/dist-packages (from aiohttp->torch-geometric) (1.11.1)\n",
      "Requirement already satisfied: async-timeout<5.0,>=4.0 in /usr/local/lib/python3.10/dist-packages (from aiohttp->torch-geometric) (4.0.3)\n",
      "Requirement already satisfied: MarkupSafe>=2.0 in /usr/local/lib/python3.10/dist-packages (from jinja2->torch-geometric) (2.1.5)\n",
      "Requirement already satisfied: charset-normalizer<4,>=2 in /usr/local/lib/python3.10/dist-packages (from requests->torch-geometric) (3.3.2)\n",
      "Requirement already satisfied: idna<4,>=2.5 in /usr/local/lib/python3.10/dist-packages (from requests->torch-geometric) (3.10)\n",
      "Requirement already satisfied: urllib3<3,>=1.21.1 in /usr/local/lib/python3.10/dist-packages (from requests->torch-geometric) (2.2.3)\n",
      "Requirement already satisfied: certifi>=2017.4.17 in /usr/local/lib/python3.10/dist-packages (from requests->torch-geometric) (2024.8.30)\n",
      "Requirement already satisfied: typing-extensions>=4.1.0 in /usr/local/lib/python3.10/dist-packages (from multidict<7.0,>=4.5->aiohttp->torch-geometric) (4.12.2)\n",
      "Downloading torch_geometric-2.6.1-py3-none-any.whl (1.1 MB)\n",
      "\u001b[2K   \u001b[90m━━━━━━━━━━━━━━━━━━━━━━━━━━━━━━━━━━━━━━━━\u001b[0m \u001b[32m1.1/1.1 MB\u001b[0m \u001b[31m19.5 MB/s\u001b[0m eta \u001b[36m0:00:00\u001b[0ma \u001b[36m0:00:01\u001b[0m\n",
      "\u001b[?25hInstalling collected packages: torch-geometric\n",
      "Successfully installed torch-geometric-2.6.1\n"
     ]
    }
   ],
   "source": [
    "import torch\n",
    "print(torch.__version__)  # e.g., 2.0.1\n",
    "\n",
    "# Example installation (this line may change based on the PyTorch Geometric docs)\n",
    "!pip install torch-scatter -f https://data.pyg.org/whl/torch-2.0.1+cu118.html\n",
    "!pip install torch-sparse -f https://data.pyg.org/whl/torch-2.0.1+cu118.html\n",
    "!pip install torch-geometric"
   ]
  },
  {
   "cell_type": "code",
   "execution_count": 4,
   "metadata": {
    "execution": {
     "iopub.execute_input": "2025-01-11T03:16:58.411023Z",
     "iopub.status.busy": "2025-01-11T03:16:58.410523Z",
     "iopub.status.idle": "2025-01-11T03:17:01.764728Z",
     "shell.execute_reply": "2025-01-11T03:17:01.763866Z",
     "shell.execute_reply.started": "2025-01-11T03:16:58.411004Z"
    },
    "trusted": true
   },
   "outputs": [
    {
     "name": "stdout",
     "output_type": "stream",
     "text": [
      "Collecting attrdict==2.0.1 (from -r requirements.txt (line 1))\n",
      "  Downloading attrdict-2.0.1-py2.py3-none-any.whl.metadata (6.7 kB)\n",
      "Requirement already satisfied: torch>=1.4.0 in /usr/local/lib/python3.10/dist-packages (from -r requirements.txt (line 2)) (2.4.1+cu121)\n",
      "Requirement already satisfied: torch-geometric>=1.4.2 in /usr/local/lib/python3.10/dist-packages (from -r requirements.txt (line 3)) (2.6.1)\n",
      "Requirement already satisfied: torch-scatter>=2.0.4 in /usr/local/lib/python3.10/dist-packages (from -r requirements.txt (line 4)) (2.1.2+pt20cu118)\n",
      "Requirement already satisfied: torch-sparse>=0.6.0 in /usr/local/lib/python3.10/dist-packages (from -r requirements.txt (line 5)) (0.6.18+pt20cu118)\n",
      "Requirement already satisfied: torchvision>=0.5.0 in /usr/local/lib/python3.10/dist-packages (from -r requirements.txt (line 6)) (0.19.1+cu121)\n",
      "Requirement already satisfied: six in /usr/local/lib/python3.10/dist-packages (from attrdict==2.0.1->-r requirements.txt (line 1)) (1.16.0)\n",
      "Requirement already satisfied: filelock in /usr/local/lib/python3.10/dist-packages (from torch>=1.4.0->-r requirements.txt (line 2)) (3.16.1)\n",
      "Requirement already satisfied: typing-extensions>=4.8.0 in /usr/local/lib/python3.10/dist-packages (from torch>=1.4.0->-r requirements.txt (line 2)) (4.12.2)\n",
      "Requirement already satisfied: sympy in /usr/local/lib/python3.10/dist-packages (from torch>=1.4.0->-r requirements.txt (line 2)) (1.13.3)\n",
      "Requirement already satisfied: networkx in /usr/local/lib/python3.10/dist-packages (from torch>=1.4.0->-r requirements.txt (line 2)) (3.3)\n",
      "Requirement already satisfied: jinja2 in /usr/local/lib/python3.10/dist-packages (from torch>=1.4.0->-r requirements.txt (line 2)) (3.1.4)\n",
      "Requirement already satisfied: fsspec in /usr/local/lib/python3.10/dist-packages (from torch>=1.4.0->-r requirements.txt (line 2)) (2024.6.1)\n",
      "Requirement already satisfied: aiohttp in /usr/local/lib/python3.10/dist-packages (from torch-geometric>=1.4.2->-r requirements.txt (line 3)) (3.10.5)\n",
      "Requirement already satisfied: numpy in /usr/local/lib/python3.10/dist-packages (from torch-geometric>=1.4.2->-r requirements.txt (line 3)) (1.26.4)\n",
      "Requirement already satisfied: psutil>=5.8.0 in /usr/local/lib/python3.10/dist-packages (from torch-geometric>=1.4.2->-r requirements.txt (line 3)) (5.9.5)\n",
      "Requirement already satisfied: pyparsing in /usr/local/lib/python3.10/dist-packages (from torch-geometric>=1.4.2->-r requirements.txt (line 3)) (3.1.4)\n",
      "Requirement already satisfied: requests in /usr/local/lib/python3.10/dist-packages (from torch-geometric>=1.4.2->-r requirements.txt (line 3)) (2.32.3)\n",
      "Requirement already satisfied: tqdm in /usr/local/lib/python3.10/dist-packages (from torch-geometric>=1.4.2->-r requirements.txt (line 3)) (4.66.5)\n",
      "Requirement already satisfied: scipy in /usr/local/lib/python3.10/dist-packages (from torch-sparse>=0.6.0->-r requirements.txt (line 5)) (1.13.1)\n",
      "Requirement already satisfied: pillow!=8.3.*,>=5.3.0 in /usr/local/lib/python3.10/dist-packages (from torchvision>=0.5.0->-r requirements.txt (line 6)) (10.4.0)\n",
      "Requirement already satisfied: aiohappyeyeballs>=2.3.0 in /usr/local/lib/python3.10/dist-packages (from aiohttp->torch-geometric>=1.4.2->-r requirements.txt (line 3)) (2.4.0)\n",
      "Requirement already satisfied: aiosignal>=1.1.2 in /usr/local/lib/python3.10/dist-packages (from aiohttp->torch-geometric>=1.4.2->-r requirements.txt (line 3)) (1.3.1)\n",
      "Requirement already satisfied: attrs>=17.3.0 in /usr/local/lib/python3.10/dist-packages (from aiohttp->torch-geometric>=1.4.2->-r requirements.txt (line 3)) (24.2.0)\n",
      "Requirement already satisfied: frozenlist>=1.1.1 in /usr/local/lib/python3.10/dist-packages (from aiohttp->torch-geometric>=1.4.2->-r requirements.txt (line 3)) (1.4.1)\n",
      "Requirement already satisfied: multidict<7.0,>=4.5 in /usr/local/lib/python3.10/dist-packages (from aiohttp->torch-geometric>=1.4.2->-r requirements.txt (line 3)) (6.1.0)\n",
      "Requirement already satisfied: yarl<2.0,>=1.0 in /usr/local/lib/python3.10/dist-packages (from aiohttp->torch-geometric>=1.4.2->-r requirements.txt (line 3)) (1.11.1)\n",
      "Requirement already satisfied: async-timeout<5.0,>=4.0 in /usr/local/lib/python3.10/dist-packages (from aiohttp->torch-geometric>=1.4.2->-r requirements.txt (line 3)) (4.0.3)\n",
      "Requirement already satisfied: MarkupSafe>=2.0 in /usr/local/lib/python3.10/dist-packages (from jinja2->torch>=1.4.0->-r requirements.txt (line 2)) (2.1.5)\n",
      "Requirement already satisfied: charset-normalizer<4,>=2 in /usr/local/lib/python3.10/dist-packages (from requests->torch-geometric>=1.4.2->-r requirements.txt (line 3)) (3.3.2)\n",
      "Requirement already satisfied: idna<4,>=2.5 in /usr/local/lib/python3.10/dist-packages (from requests->torch-geometric>=1.4.2->-r requirements.txt (line 3)) (3.10)\n",
      "Requirement already satisfied: urllib3<3,>=1.21.1 in /usr/local/lib/python3.10/dist-packages (from requests->torch-geometric>=1.4.2->-r requirements.txt (line 3)) (2.2.3)\n",
      "Requirement already satisfied: certifi>=2017.4.17 in /usr/local/lib/python3.10/dist-packages (from requests->torch-geometric>=1.4.2->-r requirements.txt (line 3)) (2024.8.30)\n",
      "Requirement already satisfied: mpmath<1.4,>=1.1.0 in /usr/local/lib/python3.10/dist-packages (from sympy->torch>=1.4.0->-r requirements.txt (line 2)) (1.3.0)\n",
      "Downloading attrdict-2.0.1-py2.py3-none-any.whl (9.9 kB)\n",
      "Installing collected packages: attrdict\n",
      "Successfully installed attrdict-2.0.1\n"
     ]
    }
   ],
   "source": [
    "!pip install -r requirements.txt"
   ]
  },
  {
   "cell_type": "code",
   "execution_count": 5,
   "metadata": {
    "execution": {
     "iopub.execute_input": "2025-01-11T03:17:01.766445Z",
     "iopub.status.busy": "2025-01-11T03:17:01.766128Z",
     "iopub.status.idle": "2025-01-11T03:17:04.862783Z",
     "shell.execute_reply": "2025-01-11T03:17:04.861690Z",
     "shell.execute_reply.started": "2025-01-11T03:17:01.766412Z"
    },
    "trusted": true
   },
   "outputs": [
    {
     "name": "stdout",
     "output_type": "stream",
     "text": [
      "Requirement already satisfied: scikit-learn in /usr/local/lib/python3.10/dist-packages (1.2.2)\n",
      "Requirement already satisfied: numpy>=1.17.3 in /usr/local/lib/python3.10/dist-packages (from scikit-learn) (1.26.4)\n",
      "Requirement already satisfied: scipy>=1.3.2 in /usr/local/lib/python3.10/dist-packages (from scikit-learn) (1.13.1)\n",
      "Requirement already satisfied: joblib>=1.1.1 in /usr/local/lib/python3.10/dist-packages (from scikit-learn) (1.4.2)\n",
      "Requirement already satisfied: threadpoolctl>=2.0.0 in /usr/local/lib/python3.10/dist-packages (from scikit-learn) (3.5.0)\n"
     ]
    }
   ],
   "source": [
    "!pip install scikit-learn"
   ]
  },
  {
   "cell_type": "code",
   "execution_count": 6,
   "metadata": {
    "execution": {
     "iopub.execute_input": "2025-01-11T03:17:04.864097Z",
     "iopub.status.busy": "2025-01-11T03:17:04.863841Z",
     "iopub.status.idle": "2025-01-11T03:17:10.053385Z",
     "shell.execute_reply": "2025-01-11T03:17:10.052490Z",
     "shell.execute_reply.started": "2025-01-11T03:17:04.864077Z"
    },
    "trusted": true
   },
   "outputs": [
    {
     "name": "stdout",
     "output_type": "stream",
     "text": [
      "/usr/local/lib/python3.10/dist-packages/torch_geometric/typing.py:86: UserWarning: An issue occurred while importing 'torch-scatter'. Disabling its usage. Stacktrace: /usr/local/lib/python3.10/dist-packages/torch_scatter/_version_cuda.so: undefined symbol: _ZN3c1017RegisterOperatorsD1Ev\n",
      "  warnings.warn(f\"An issue occurred while importing 'torch-scatter'. \"\n",
      "/usr/local/lib/python3.10/dist-packages/torch_geometric/typing.py:124: UserWarning: An issue occurred while importing 'torch-sparse'. Disabling its usage. Stacktrace: /usr/local/lib/python3.10/dist-packages/torch_sparse/_version_cuda.so: undefined symbol: _ZN3c1017RegisterOperatorsD1Ev\n",
      "  warnings.warn(f\"An issue occurred while importing 'torch-sparse'. \"\n"
     ]
    }
   ],
   "source": [
    "!python -c 'import torch; import torch_geometric'"
   ]
  },
  {
   "cell_type": "code",
   "execution_count": 7,
   "metadata": {
    "execution": {
     "iopub.execute_input": "2025-01-11T03:17:10.055097Z",
     "iopub.status.busy": "2025-01-11T03:17:10.054718Z",
     "iopub.status.idle": "2025-01-11T03:17:14.525510Z",
     "shell.execute_reply": "2025-01-11T03:17:14.524581Z",
     "shell.execute_reply.started": "2025-01-11T03:17:10.055064Z"
    },
    "trusted": true
   },
   "outputs": [
    {
     "name": "stdout",
     "output_type": "stream",
     "text": [
      "Found existing installation: attrdict 2.0.1\n",
      "Uninstalling attrdict-2.0.1:\n",
      "  Successfully uninstalled attrdict-2.0.1\n",
      "Collecting attrdict==2.0.1\n",
      "  Using cached attrdict-2.0.1-py2.py3-none-any.whl.metadata (6.7 kB)\n",
      "Requirement already satisfied: six in /usr/local/lib/python3.10/dist-packages (from attrdict==2.0.1) (1.16.0)\n",
      "Using cached attrdict-2.0.1-py2.py3-none-any.whl (9.9 kB)\n",
      "Installing collected packages: attrdict\n",
      "Successfully installed attrdict-2.0.1\n"
     ]
    }
   ],
   "source": [
    "# Uninstall any existing attrdict to ensure a clean reinstall\n",
    "!pip uninstall -y attrdict\n",
    "\n",
    "# Reinstall attrdict (so we can then patch it)\n",
    "!pip install attrdict==2.0.1\n",
    "\n",
    "# Replace \"from collections import Mapping, MutableMapping, Sequence\"\n",
    "# with \"from collections.abc import Mapping, MutableMapping, Sequence\"\n",
    "!sed -i 's/from collections import Mapping, MutableMapping, Sequence/from collections.abc import Mapping, MutableMapping, Sequence/g' /usr/local/lib/python3.10/dist-packages/attrdict/*.py\n",
    "\n",
    "# Sometimes they're imported separately, so let's handle those too:\n",
    "!sed -i 's/from collections import Mapping/from collections.abc import Mapping/g' /usr/local/lib/python3.10/dist-packages/attrdict/*.py\n",
    "!sed -i 's/from collections import MutableMapping/from collections.abc import MutableMapping/g' /usr/local/lib/python3.10/dist-packages/attrdict/*.py\n",
    "!sed -i 's/from collections import Sequence/from collections.abc import Sequence/g' /usr/local/lib/python3.10/dist-packages/attrdict/*.py\n"
   ]
  },
  {
   "cell_type": "code",
   "execution_count": 8,
   "metadata": {
    "execution": {
     "iopub.execute_input": "2025-01-11T03:17:14.526785Z",
     "iopub.status.busy": "2025-01-11T03:17:14.526500Z",
     "iopub.status.idle": "2025-01-11T03:17:17.606883Z",
     "shell.execute_reply": "2025-01-11T03:17:17.606022Z",
     "shell.execute_reply.started": "2025-01-11T03:17:14.526763Z"
    },
    "trusted": true
   },
   "outputs": [
    {
     "name": "stdout",
     "output_type": "stream",
     "text": [
      "Looking in links: https://data.pyg.org/whl/torch-2.4.1+cu121.html\n",
      "Requirement already satisfied: torch-scatter in /usr/local/lib/python3.10/dist-packages (2.1.2+pt20cu118)\n"
     ]
    }
   ],
   "source": [
    "!pip install torch-scatter -f https://data.pyg.org/whl/torch-2.4.1+cu121.html\n",
    "\n"
   ]
  },
  {
   "cell_type": "code",
   "execution_count": 9,
   "metadata": {
    "execution": {
     "iopub.execute_input": "2025-01-11T03:17:17.608133Z",
     "iopub.status.busy": "2025-01-11T03:17:17.607854Z",
     "iopub.status.idle": "2025-01-11T03:17:20.313336Z",
     "shell.execute_reply": "2025-01-11T03:17:20.312410Z",
     "shell.execute_reply.started": "2025-01-11T03:17:17.608112Z"
    },
    "trusted": true
   },
   "outputs": [
    {
     "name": "stdout",
     "output_type": "stream",
     "text": [
      "Name: torch-scatter\n",
      "Version: 2.1.2+pt20cu118\n",
      "Summary: PyTorch Extension Library of Optimized Scatter Operations\n",
      "Home-page: https://github.com/rusty1s/pytorch_scatter\n",
      "Author: Matthias Fey\n",
      "Author-email: matthias.fey@tu-dortmund.de\n",
      "License: \n",
      "Location: /usr/local/lib/python3.10/dist-packages\n",
      "Requires: \n",
      "Required-by: \n",
      "Note: you may need to restart the kernel to use updated packages.\n"
     ]
    }
   ],
   "source": [
    "pip show torch-scatter\n"
   ]
  },
  {
   "cell_type": "code",
   "execution_count": 10,
   "metadata": {
    "execution": {
     "iopub.execute_input": "2025-01-11T03:17:20.314625Z",
     "iopub.status.busy": "2025-01-11T03:17:20.314385Z",
     "iopub.status.idle": "2025-01-11T03:17:24.573653Z",
     "shell.execute_reply": "2025-01-11T03:17:24.572805Z",
     "shell.execute_reply.started": "2025-01-11T03:17:20.314605Z"
    },
    "trusted": true
   },
   "outputs": [
    {
     "name": "stdout",
     "output_type": "stream",
     "text": [
      "/usr/local/lib/python3.10/dist-packages/torch_geometric/typing.py:86: UserWarning: An issue occurred while importing 'torch-scatter'. Disabling its usage. Stacktrace: /usr/local/lib/python3.10/dist-packages/torch_scatter/_version_cuda.so: undefined symbol: _ZN3c1017RegisterOperatorsD1Ev\n",
      "  warnings.warn(f\"An issue occurred while importing 'torch-scatter'. \"\n",
      "/usr/local/lib/python3.10/dist-packages/torch_geometric/typing.py:124: UserWarning: An issue occurred while importing 'torch-sparse'. Disabling its usage. Stacktrace: /usr/local/lib/python3.10/dist-packages/torch_sparse/_version_cuda.so: undefined symbol: _ZN3c1017RegisterOperatorsD1Ev\n",
      "  warnings.warn(f\"An issue occurred while importing 'torch-sparse'. \"\n",
      "usage: main.py [-h] [--task {Task.NEIGHBORS_MATCH}]\n",
      "               [--type {GNN_TYPE.GCN,GNN_TYPE.GGNN,GNN_TYPE.GIN,GNN_TYPE.GAT,GNN_TYPE.GSAGE_MEAN,GNN_TYPE.GSAGE_MAX,GNN_TYPE.GSAGE_MIN,GNN_TYPE.GSAGE_SUM}]\n",
      "               [--dim DIM] [--depth DEPTH] [--num_layers NUM_LAYERS]\n",
      "               [--train_fraction TRAIN_FRACTION] [--max_epochs MAX_EPOCHS]\n",
      "               [--eval_every EVAL_EVERY] [--batch_size BATCH_SIZE] [--accum_grad ACCUM_GRAD]\n",
      "               [--stop {STOP.TRAIN,STOP.TEST}] [--patience PATIENCE]\n",
      "               [--loader_workers LOADER_WORKERS] [--last_layer_fully_adjacent] [--no_layer_norm]\n",
      "               [--no_activation] [--no_residual] [--unroll]\n",
      "               [--resume_checkpoint RESUME_CHECKPOINT]\n",
      "\n",
      "options:\n",
      "  -h, --help            show this help message and exit\n",
      "  --task {Task.NEIGHBORS_MATCH}\n",
      "  --type {GNN_TYPE.GCN,GNN_TYPE.GGNN,GNN_TYPE.GIN,GNN_TYPE.GAT,GNN_TYPE.GSAGE_MEAN,GNN_TYPE.GSAGE_MAX,GNN_TYPE.GSAGE_MIN,GNN_TYPE.GSAGE_SUM}\n",
      "  --dim DIM\n",
      "  --depth DEPTH\n",
      "  --num_layers NUM_LAYERS\n",
      "  --train_fraction TRAIN_FRACTION\n",
      "  --max_epochs MAX_EPOCHS\n",
      "  --eval_every EVAL_EVERY\n",
      "  --batch_size BATCH_SIZE\n",
      "  --accum_grad ACCUM_GRAD\n",
      "  --stop {STOP.TRAIN,STOP.TEST}\n",
      "  --patience PATIENCE\n",
      "  --loader_workers LOADER_WORKERS\n",
      "  --last_layer_fully_adjacent\n",
      "  --no_layer_norm\n",
      "  --no_activation\n",
      "  --no_residual\n",
      "  --unroll              use the same weights across GNN layers\n",
      "  --resume_checkpoint RESUME_CHECKPOINT\n",
      "                        Path to the checkpoint file to resume training\n"
     ]
    }
   ],
   "source": [
    "!python main.py --help"
   ]
  },
  {
   "cell_type": "code",
   "execution_count": 12,
   "metadata": {
    "execution": {
     "iopub.execute_input": "2025-01-11T03:19:25.938429Z",
     "iopub.status.busy": "2025-01-11T03:19:25.938043Z",
     "iopub.status.idle": "2025-01-11T05:24:30.747844Z",
     "shell.execute_reply": "2025-01-11T05:24:30.746941Z",
     "shell.execute_reply.started": "2025-01-11T03:19:25.938384Z"
    },
    "trusted": true
   },
   "outputs": [
    {
     "name": "stdout",
     "output_type": "stream",
     "text": [
      "/usr/local/lib/python3.10/dist-packages/torch_geometric/typing.py:86: UserWarning: An issue occurred while importing 'torch-scatter'. Disabling its usage. Stacktrace: /usr/local/lib/python3.10/dist-packages/torch_scatter/_version_cuda.so: undefined symbol: _ZN3c1017RegisterOperatorsD1Ev\n",
      "  warnings.warn(f\"An issue occurred while importing 'torch-scatter'. \"\n",
      "/usr/local/lib/python3.10/dist-packages/torch_geometric/typing.py:124: UserWarning: An issue occurred while importing 'torch-sparse'. Disabling its usage. Stacktrace: /usr/local/lib/python3.10/dist-packages/torch_sparse/_version_cuda.so: undefined symbol: _ZN3c1017RegisterOperatorsD1Ev\n",
      "  warnings.warn(f\"An issue occurred while importing 'torch-sparse'. \"\n",
      "Starting experiment\n",
      "task: Task.NEIGHBORS_MATCH\n",
      "type: GNN_TYPE.GSAGE_MEAN\n",
      "dim: 32\n",
      "depth: 6\n",
      "num_layers: 7\n",
      "train_fraction: 0.8\n",
      "max_epochs: 50000\n",
      "eval_every: 100\n",
      "batch_size: 1024\n",
      "accum_grad: 1\n",
      "stop: STOP.TRAIN\n",
      "patience: 20\n",
      "loader_workers: 7\n",
      "last_layer_fully_adjacent: False\n",
      "no_layer_norm: False\n",
      "no_activation: True\n",
      "no_residual: False\n",
      "unroll: False\n",
      "\n",
      "Training examples: 25600, test examples: 6400\n",
      "Starting training\n",
      "/usr/local/lib/python3.10/dist-packages/torch_geometric/deprecation.py:26: UserWarning: 'data.DataLoader' is deprecated, use 'loader.DataLoader' instead\n",
      "  warnings.warn(out)\n",
      "/usr/local/lib/python3.10/dist-packages/torch/utils/data/dataloader.py:557: UserWarning: This DataLoader will create 7 worker processes in total. Our suggested max number of worker in current system is 4, which is smaller than what this DataLoader is going to create. Please be aware that excessive worker creation might get DataLoader running slow or even freeze, lower the worker number to avoid potential slowness/freeze if necessary.\n",
      "  warnings.warn(_create_warning_msg(\n",
      "Epoch 100, LR: [0.001]: Train loss: 4.1392357, Train acc: 0.0230, Test accuracy: 0.0178 (new best train)\n",
      "Epoch 200, LR: [0.001]: Train loss: 4.1185763, Train acc: 0.0267, Test accuracy: 0.0138 (new best train)\n",
      "Epoch 300, LR: [0.001]: Train loss: 4.1120290, Train acc: 0.0273, Test accuracy: 0.0147 (new best train)\n",
      "Epoch 400, LR: [0.001]: Train loss: 4.1085043, Train acc: 0.0276, Test accuracy: 0.0175 (new best train)\n",
      "Epoch 500, LR: [0.001]: Train loss: 4.1065274, Train acc: 0.0278, Test accuracy: 0.0147 (new best train)\n",
      "Epoch 600, LR: [0.001]: Train loss: 4.1051281, Train acc: 0.0281, Test accuracy: 0.0145 (new best train)\n",
      "Epoch 700, LR: [0.001]: Train loss: 4.1038945, Train acc: 0.0281, Test accuracy: 0.0153\n",
      "Epoch 800, LR: [0.001]: Train loss: 4.1027419, Train acc: 0.0284, Test accuracy: 0.0117 (new best train)\n",
      "Epoch 900, LR: [0.001]: Train loss: 4.1019409, Train acc: 0.0284, Test accuracy: 0.0148\n",
      "Epoch 1000, LR: [0.001]: Train loss: 4.1013903, Train acc: 0.0283, Test accuracy: 0.0145\n",
      "Checkpoint saved at epoch 1000 -> checkpoints/checkpoint_epoch_1000.pt\n",
      "Epoch 1100, LR: [0.001]: Train loss: 4.1010339, Train acc: 0.0283, Test accuracy: 0.0152\n",
      "Epoch 1200, LR: [0.001]: Train loss: 4.1007123, Train acc: 0.0283, Test accuracy: 0.0144\n",
      "Epoch 1300, LR: [0.001]: Train loss: 4.1004182, Train acc: 0.0285, Test accuracy: 0.0155 (new best train)\n",
      "Epoch 1400, LR: [0.001]: Train loss: 4.1001749, Train acc: 0.0284, Test accuracy: 0.0136\n",
      "Epoch 1500, LR: [0.001]: Train loss: 4.0999365, Train acc: 0.0283, Test accuracy: 0.0136\n",
      "Epoch 1600, LR: [0.001]: Train loss: 4.0996374, Train acc: 0.0286, Test accuracy: 0.0144 (new best train)\n",
      "Epoch 1700, LR: [0.001]: Train loss: 4.0992930, Train acc: 0.0285, Test accuracy: 0.0145\n",
      "Epoch 1800, LR: [0.001]: Train loss: 4.0988561, Train acc: 0.0286, Test accuracy: 0.0122\n",
      "Epoch 1900, LR: [0.001]: Train loss: 4.0986529, Train acc: 0.0286, Test accuracy: 0.0139\n",
      "Epoch 2000, LR: [0.001]: Train loss: 4.0984830, Train acc: 0.0287, Test accuracy: 0.0142\n",
      "Checkpoint saved at epoch 2000 -> checkpoints/checkpoint_epoch_2000.pt\n",
      "Epoch 2100, LR: [0.001]: Train loss: 4.0983295, Train acc: 0.0288, Test accuracy: 0.0153 (new best train)\n",
      "Epoch 2200, LR: [0.001]: Train loss: 4.0981748, Train acc: 0.0287, Test accuracy: 0.0153\n",
      "Epoch 2300, LR: [0.001]: Train loss: 4.0980692, Train acc: 0.0286, Test accuracy: 0.0133\n",
      "Epoch 2400, LR: [0.001]: Train loss: 4.0979777, Train acc: 0.0286, Test accuracy: 0.0153\n",
      "Epoch 2500, LR: [0.001]: Train loss: 4.0978987, Train acc: 0.0286, Test accuracy: 0.0166\n",
      "Epoch 2600, LR: [0.001]: Train loss: 4.0978472, Train acc: 0.0287, Test accuracy: 0.0158\n",
      "Epoch 2700, LR: [0.001]: Train loss: 4.0977958, Train acc: 0.0286, Test accuracy: 0.0156\n",
      "Epoch 2800, LR: [0.001]: Train loss: 4.0976846, Train acc: 0.0288, Test accuracy: 0.0173\n",
      "Epoch 2900, LR: [0.001]: Train loss: 4.0976249, Train acc: 0.0287, Test accuracy: 0.0153\n",
      "Epoch 3000, LR: [0.001]: Train loss: 4.0976095, Train acc: 0.0288, Test accuracy: 0.0138\n",
      "Checkpoint saved at epoch 3000 -> checkpoints/checkpoint_epoch_3000.pt\n",
      "Epoch 3100, LR: [0.001]: Train loss: 4.0975778, Train acc: 0.0288, Test accuracy: 0.0159\n",
      "Epoch 3200, LR: [0.0005]: Train loss: 4.0975172, Train acc: 0.0287, Test accuracy: 0.0173\n",
      "Epoch 3300, LR: [0.0005]: Train loss: 4.0961285, Train acc: 0.0290, Test accuracy: 0.0161 (new best train)\n",
      "Epoch 3400, LR: [0.0005]: Train loss: 4.0960234, Train acc: 0.0290, Test accuracy: 0.0170\n",
      "Epoch 3500, LR: [0.0005]: Train loss: 4.0960175, Train acc: 0.0291, Test accuracy: 0.0158 (new best train)\n",
      "Epoch 3600, LR: [0.0005]: Train loss: 4.0960001, Train acc: 0.0290, Test accuracy: 0.0170\n",
      "Epoch 3700, LR: [0.0005]: Train loss: 4.0959989, Train acc: 0.0290, Test accuracy: 0.0170\n",
      "Epoch 3800, LR: [0.0005]: Train loss: 4.0960016, Train acc: 0.0290, Test accuracy: 0.0147\n",
      "Epoch 3900, LR: [0.0005]: Train loss: 4.0959927, Train acc: 0.0291, Test accuracy: 0.0159\n",
      "Epoch 4000, LR: [0.0005]: Train loss: 4.0959830, Train acc: 0.0290, Test accuracy: 0.0155\n",
      "Checkpoint saved at epoch 4000 -> checkpoints/checkpoint_epoch_4000.pt\n",
      "Epoch 4100, LR: [0.0005]: Train loss: 4.0959514, Train acc: 0.0291, Test accuracy: 0.0147\n",
      "Epoch 4200, LR: [0.0005]: Train loss: 4.0959309, Train acc: 0.0290, Test accuracy: 0.0166\n",
      "Epoch 4300, LR: [0.0005]: Train loss: 4.0959466, Train acc: 0.0290, Test accuracy: 0.0156\n",
      "Epoch 4400, LR: [0.0005]: Train loss: 4.0959506, Train acc: 0.0291, Test accuracy: 0.0167\n",
      "Epoch 4500, LR: [0.0005]: Train loss: 4.0959263, Train acc: 0.0291, Test accuracy: 0.0164\n",
      "Epoch 4600, LR: [0.00025]: Train loss: 4.0959441, Train acc: 0.0290, Test accuracy: 0.0163\n",
      "Epoch 4700, LR: [0.00025]: Train loss: 4.0952481, Train acc: 0.0292, Test accuracy: 0.0159\n",
      "Epoch 4800, LR: [0.00025]: Train loss: 4.0952018, Train acc: 0.0291, Test accuracy: 0.0158\n",
      "Epoch 4900, LR: [0.00025]: Train loss: 4.0951948, Train acc: 0.0292, Test accuracy: 0.0163\n",
      "Epoch 5000, LR: [0.00025]: Train loss: 4.0951933, Train acc: 0.0291, Test accuracy: 0.0156\n",
      "Checkpoint saved at epoch 5000 -> checkpoints/checkpoint_epoch_5000.pt\n",
      "Epoch 5100, LR: [0.00025]: Train loss: 4.0951926, Train acc: 0.0292, Test accuracy: 0.0169\n",
      "Epoch 5200, LR: [0.00025]: Train loss: 4.0952004, Train acc: 0.0292, Test accuracy: 0.0159\n",
      "Epoch 5300, LR: [0.00025]: Train loss: 4.0951878, Train acc: 0.0291, Test accuracy: 0.0152\n",
      "Epoch 5400, LR: [0.00025]: Train loss: 4.0951952, Train acc: 0.0292, Test accuracy: 0.0166\n",
      "Epoch 5500, LR: [0.00025]: Train loss: 4.0951734, Train acc: 0.0292, Test accuracy: 0.0150\n",
      "20 * 100 epochs without STOP.TRAIN improvement, stopping.\n",
      "Best train acc: 0.029143359375, epoch: 3500\n",
      "\n",
      "Task: Task.NEIGHBORS_MATCH\n",
      "depth, train_acc, test_acc, epoch, train_acc, test_acc, epoch,\n",
      "6, 0.029143359375, 0.01578125, 35\n"
     ]
    }
   ],
   "source": [
    "!python run-gsage-mean-2-6.py"
   ]
  }
 ],
 "metadata": {
  "kaggle": {
   "accelerator": "nvidiaTeslaT4",
   "dataSources": [],
   "dockerImageVersionId": 30823,
   "isGpuEnabled": true,
   "isInternetEnabled": true,
   "language": "python",
   "sourceType": "notebook"
  },
  "kernelspec": {
   "display_name": "Python 3",
   "language": "python",
   "name": "python3"
  },
  "language_info": {
   "codemirror_mode": {
    "name": "ipython",
    "version": 3
   },
   "file_extension": ".py",
   "mimetype": "text/x-python",
   "name": "python",
   "nbconvert_exporter": "python",
   "pygments_lexer": "ipython3",
   "version": "3.10.12"
  }
 },
 "nbformat": 4,
 "nbformat_minor": 4
}
