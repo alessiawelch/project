{
  "cells": [
    {
      "cell_type": "code",
      "execution_count": 4,
      "metadata": {
        "colab": {
          "base_uri": "https://localhost:8080/"
        },
        "id": "_GBvl3DxKQSM",
        "outputId": "43ce9256-693e-43b1-b397-09dc1e6259f0"
      },
      "outputs": [
        {
          "name": "stdout",
          "output_type": "stream",
          "text": [
            "2.5.1+cu121\n",
            "Looking in links: https://data.pyg.org/whl/torch-2.0.1+cu118.html\n",
            "Collecting torch-scatter\n",
            "  Downloading https://data.pyg.org/whl/torch-2.0.0%2Bcu118/torch_scatter-2.1.2%2Bpt20cu118-cp310-cp310-linux_x86_64.whl (10.2 MB)\n",
            "\u001b[2K     \u001b[90m━━━━━━━━━━━━━━━━━━━━━━━━━━━━━━━━━━━━━━━━\u001b[0m \u001b[32m10.2/10.2 MB\u001b[0m \u001b[31m82.6 MB/s\u001b[0m eta \u001b[36m0:00:00\u001b[0m\n",
            "\u001b[?25hInstalling collected packages: torch-scatter\n",
            "Successfully installed torch-scatter-2.1.2+pt20cu118\n",
            "Looking in links: https://data.pyg.org/whl/torch-2.0.1+cu118.html\n",
            "Collecting torch-sparse\n",
            "  Downloading https://data.pyg.org/whl/torch-2.0.0%2Bcu118/torch_sparse-0.6.18%2Bpt20cu118-cp310-cp310-linux_x86_64.whl (4.9 MB)\n",
            "\u001b[2K     \u001b[90m━━━━━━━━━━━━━━━━━━━━━━━━━━━━━━━━━━━━━━━━\u001b[0m \u001b[32m4.9/4.9 MB\u001b[0m \u001b[31m72.6 MB/s\u001b[0m eta \u001b[36m0:00:00\u001b[0m\n",
            "\u001b[?25hRequirement already satisfied: scipy in /usr/local/lib/python3.10/dist-packages (from torch-sparse) (1.13.1)\n",
            "Requirement already satisfied: numpy<2.3,>=1.22.4 in /usr/local/lib/python3.10/dist-packages (from scipy->torch-sparse) (1.26.4)\n",
            "Installing collected packages: torch-sparse\n",
            "Successfully installed torch-sparse-0.6.18+pt20cu118\n",
            "Collecting torch-geometric\n",
            "  Downloading torch_geometric-2.6.1-py3-none-any.whl.metadata (63 kB)\n",
            "\u001b[2K     \u001b[90m━━━━━━━━━━━━━━━━━━━━━━━━━━━━━━━━━━━━━━━━\u001b[0m \u001b[32m63.1/63.1 kB\u001b[0m \u001b[31m4.1 MB/s\u001b[0m eta \u001b[36m0:00:00\u001b[0m\n",
            "\u001b[?25hRequirement already satisfied: aiohttp in /usr/local/lib/python3.10/dist-packages (from torch-geometric) (3.11.10)\n",
            "Requirement already satisfied: fsspec in /usr/local/lib/python3.10/dist-packages (from torch-geometric) (2024.10.0)\n",
            "Requirement already satisfied: jinja2 in /usr/local/lib/python3.10/dist-packages (from torch-geometric) (3.1.4)\n",
            "Requirement already satisfied: numpy in /usr/local/lib/python3.10/dist-packages (from torch-geometric) (1.26.4)\n",
            "Requirement already satisfied: psutil>=5.8.0 in /usr/local/lib/python3.10/dist-packages (from torch-geometric) (5.9.5)\n",
            "Requirement already satisfied: pyparsing in /usr/local/lib/python3.10/dist-packages (from torch-geometric) (3.2.0)\n",
            "Requirement already satisfied: requests in /usr/local/lib/python3.10/dist-packages (from torch-geometric) (2.32.3)\n",
            "Requirement already satisfied: tqdm in /usr/local/lib/python3.10/dist-packages (from torch-geometric) (4.67.1)\n",
            "Requirement already satisfied: aiohappyeyeballs>=2.3.0 in /usr/local/lib/python3.10/dist-packages (from aiohttp->torch-geometric) (2.4.4)\n",
            "Requirement already satisfied: aiosignal>=1.1.2 in /usr/local/lib/python3.10/dist-packages (from aiohttp->torch-geometric) (1.3.2)\n",
            "Requirement already satisfied: async-timeout<6.0,>=4.0 in /usr/local/lib/python3.10/dist-packages (from aiohttp->torch-geometric) (4.0.3)\n",
            "Requirement already satisfied: attrs>=17.3.0 in /usr/local/lib/python3.10/dist-packages (from aiohttp->torch-geometric) (24.3.0)\n",
            "Requirement already satisfied: frozenlist>=1.1.1 in /usr/local/lib/python3.10/dist-packages (from aiohttp->torch-geometric) (1.5.0)\n",
            "Requirement already satisfied: multidict<7.0,>=4.5 in /usr/local/lib/python3.10/dist-packages (from aiohttp->torch-geometric) (6.1.0)\n",
            "Requirement already satisfied: propcache>=0.2.0 in /usr/local/lib/python3.10/dist-packages (from aiohttp->torch-geometric) (0.2.1)\n",
            "Requirement already satisfied: yarl<2.0,>=1.17.0 in /usr/local/lib/python3.10/dist-packages (from aiohttp->torch-geometric) (1.18.3)\n",
            "Requirement already satisfied: MarkupSafe>=2.0 in /usr/local/lib/python3.10/dist-packages (from jinja2->torch-geometric) (3.0.2)\n",
            "Requirement already satisfied: charset-normalizer<4,>=2 in /usr/local/lib/python3.10/dist-packages (from requests->torch-geometric) (3.4.0)\n",
            "Requirement already satisfied: idna<4,>=2.5 in /usr/local/lib/python3.10/dist-packages (from requests->torch-geometric) (3.10)\n",
            "Requirement already satisfied: urllib3<3,>=1.21.1 in /usr/local/lib/python3.10/dist-packages (from requests->torch-geometric) (2.2.3)\n",
            "Requirement already satisfied: certifi>=2017.4.17 in /usr/local/lib/python3.10/dist-packages (from requests->torch-geometric) (2024.12.14)\n",
            "Requirement already satisfied: typing-extensions>=4.1.0 in /usr/local/lib/python3.10/dist-packages (from multidict<7.0,>=4.5->aiohttp->torch-geometric) (4.12.2)\n",
            "Downloading torch_geometric-2.6.1-py3-none-any.whl (1.1 MB)\n",
            "\u001b[2K   \u001b[90m━━━━━━━━━━━━━━━━━━━━━━━━━━━━━━━━━━━━━━━━\u001b[0m \u001b[32m1.1/1.1 MB\u001b[0m \u001b[31m36.0 MB/s\u001b[0m eta \u001b[36m0:00:00\u001b[0m\n",
            "\u001b[?25hInstalling collected packages: torch-geometric\n",
            "Successfully installed torch-geometric-2.6.1\n"
          ]
        }
      ],
      "source": [
        "import torch\n",
        "print(torch.__version__)  # e.g., 2.0.1\n",
        "\n",
        "# Example installation (this line may change based on the PyTorch Geometric docs)\n",
        "!pip install torch-scatter -f https://data.pyg.org/whl/torch-2.0.1+cu118.html\n",
        "!pip install torch-sparse -f https://data.pyg.org/whl/torch-2.0.1+cu118.html\n",
        "!pip install torch-geometric"
      ]
    },
    {
      "cell_type": "code",
      "execution_count": 6,
      "metadata": {
        "colab": {
          "base_uri": "https://localhost:8080/"
        },
        "id": "4nB-2UomKZyr",
        "outputId": "ba9f905d-ad28-4bea-880c-5736c4bee9a3"
      },
      "outputs": [
        {
          "name": "stdout",
          "output_type": "stream",
          "text": [
            "Collecting attrdict==2.0.1 (from -r /content/project/requirements.txt (line 1))\n",
            "  Using cached attrdict-2.0.1-py2.py3-none-any.whl.metadata (6.7 kB)\n",
            "Requirement already satisfied: torch>=1.4.0 in /usr/local/lib/python3.10/dist-packages (from -r /content/project/requirements.txt (line 2)) (2.5.1+cu121)\n",
            "Requirement already satisfied: torch-geometric>=1.4.2 in /usr/local/lib/python3.10/dist-packages (from -r /content/project/requirements.txt (line 3)) (2.6.1)\n",
            "Requirement already satisfied: torch-scatter>=2.0.4 in /usr/local/lib/python3.10/dist-packages (from -r /content/project/requirements.txt (line 4)) (2.1.2+pt20cu118)\n",
            "Requirement already satisfied: torch-sparse>=0.6.0 in /usr/local/lib/python3.10/dist-packages (from -r /content/project/requirements.txt (line 5)) (0.6.18+pt20cu118)\n",
            "Requirement already satisfied: torchvision>=0.5.0 in /usr/local/lib/python3.10/dist-packages (from -r /content/project/requirements.txt (line 6)) (0.20.1+cu121)\n",
            "Requirement already satisfied: six in /usr/local/lib/python3.10/dist-packages (from attrdict==2.0.1->-r /content/project/requirements.txt (line 1)) (1.17.0)\n",
            "Requirement already satisfied: filelock in /usr/local/lib/python3.10/dist-packages (from torch>=1.4.0->-r /content/project/requirements.txt (line 2)) (3.16.1)\n",
            "Requirement already satisfied: typing-extensions>=4.8.0 in /usr/local/lib/python3.10/dist-packages (from torch>=1.4.0->-r /content/project/requirements.txt (line 2)) (4.12.2)\n",
            "Requirement already satisfied: networkx in /usr/local/lib/python3.10/dist-packages (from torch>=1.4.0->-r /content/project/requirements.txt (line 2)) (3.4.2)\n",
            "Requirement already satisfied: jinja2 in /usr/local/lib/python3.10/dist-packages (from torch>=1.4.0->-r /content/project/requirements.txt (line 2)) (3.1.4)\n",
            "Requirement already satisfied: fsspec in /usr/local/lib/python3.10/dist-packages (from torch>=1.4.0->-r /content/project/requirements.txt (line 2)) (2024.10.0)\n",
            "Requirement already satisfied: sympy==1.13.1 in /usr/local/lib/python3.10/dist-packages (from torch>=1.4.0->-r /content/project/requirements.txt (line 2)) (1.13.1)\n",
            "Requirement already satisfied: mpmath<1.4,>=1.1.0 in /usr/local/lib/python3.10/dist-packages (from sympy==1.13.1->torch>=1.4.0->-r /content/project/requirements.txt (line 2)) (1.3.0)\n",
            "Requirement already satisfied: aiohttp in /usr/local/lib/python3.10/dist-packages (from torch-geometric>=1.4.2->-r /content/project/requirements.txt (line 3)) (3.11.10)\n",
            "Requirement already satisfied: numpy in /usr/local/lib/python3.10/dist-packages (from torch-geometric>=1.4.2->-r /content/project/requirements.txt (line 3)) (1.26.4)\n",
            "Requirement already satisfied: psutil>=5.8.0 in /usr/local/lib/python3.10/dist-packages (from torch-geometric>=1.4.2->-r /content/project/requirements.txt (line 3)) (5.9.5)\n",
            "Requirement already satisfied: pyparsing in /usr/local/lib/python3.10/dist-packages (from torch-geometric>=1.4.2->-r /content/project/requirements.txt (line 3)) (3.2.0)\n",
            "Requirement already satisfied: requests in /usr/local/lib/python3.10/dist-packages (from torch-geometric>=1.4.2->-r /content/project/requirements.txt (line 3)) (2.32.3)\n",
            "Requirement already satisfied: tqdm in /usr/local/lib/python3.10/dist-packages (from torch-geometric>=1.4.2->-r /content/project/requirements.txt (line 3)) (4.67.1)\n",
            "Requirement already satisfied: scipy in /usr/local/lib/python3.10/dist-packages (from torch-sparse>=0.6.0->-r /content/project/requirements.txt (line 5)) (1.13.1)\n",
            "Requirement already satisfied: pillow!=8.3.*,>=5.3.0 in /usr/local/lib/python3.10/dist-packages (from torchvision>=0.5.0->-r /content/project/requirements.txt (line 6)) (11.0.0)\n",
            "Requirement already satisfied: aiohappyeyeballs>=2.3.0 in /usr/local/lib/python3.10/dist-packages (from aiohttp->torch-geometric>=1.4.2->-r /content/project/requirements.txt (line 3)) (2.4.4)\n",
            "Requirement already satisfied: aiosignal>=1.1.2 in /usr/local/lib/python3.10/dist-packages (from aiohttp->torch-geometric>=1.4.2->-r /content/project/requirements.txt (line 3)) (1.3.2)\n",
            "Requirement already satisfied: async-timeout<6.0,>=4.0 in /usr/local/lib/python3.10/dist-packages (from aiohttp->torch-geometric>=1.4.2->-r /content/project/requirements.txt (line 3)) (4.0.3)\n",
            "Requirement already satisfied: attrs>=17.3.0 in /usr/local/lib/python3.10/dist-packages (from aiohttp->torch-geometric>=1.4.2->-r /content/project/requirements.txt (line 3)) (24.3.0)\n",
            "Requirement already satisfied: frozenlist>=1.1.1 in /usr/local/lib/python3.10/dist-packages (from aiohttp->torch-geometric>=1.4.2->-r /content/project/requirements.txt (line 3)) (1.5.0)\n",
            "Requirement already satisfied: multidict<7.0,>=4.5 in /usr/local/lib/python3.10/dist-packages (from aiohttp->torch-geometric>=1.4.2->-r /content/project/requirements.txt (line 3)) (6.1.0)\n",
            "Requirement already satisfied: propcache>=0.2.0 in /usr/local/lib/python3.10/dist-packages (from aiohttp->torch-geometric>=1.4.2->-r /content/project/requirements.txt (line 3)) (0.2.1)\n",
            "Requirement already satisfied: yarl<2.0,>=1.17.0 in /usr/local/lib/python3.10/dist-packages (from aiohttp->torch-geometric>=1.4.2->-r /content/project/requirements.txt (line 3)) (1.18.3)\n",
            "Requirement already satisfied: MarkupSafe>=2.0 in /usr/local/lib/python3.10/dist-packages (from jinja2->torch>=1.4.0->-r /content/project/requirements.txt (line 2)) (3.0.2)\n",
            "Requirement already satisfied: charset-normalizer<4,>=2 in /usr/local/lib/python3.10/dist-packages (from requests->torch-geometric>=1.4.2->-r /content/project/requirements.txt (line 3)) (3.4.0)\n",
            "Requirement already satisfied: idna<4,>=2.5 in /usr/local/lib/python3.10/dist-packages (from requests->torch-geometric>=1.4.2->-r /content/project/requirements.txt (line 3)) (3.10)\n",
            "Requirement already satisfied: urllib3<3,>=1.21.1 in /usr/local/lib/python3.10/dist-packages (from requests->torch-geometric>=1.4.2->-r /content/project/requirements.txt (line 3)) (2.2.3)\n",
            "Requirement already satisfied: certifi>=2017.4.17 in /usr/local/lib/python3.10/dist-packages (from requests->torch-geometric>=1.4.2->-r /content/project/requirements.txt (line 3)) (2024.12.14)\n",
            "Downloading attrdict-2.0.1-py2.py3-none-any.whl (9.9 kB)\n",
            "Installing collected packages: attrdict\n",
            "Successfully installed attrdict-2.0.1\n"
          ]
        }
      ],
      "source": [
        "!pip install -r requirements.txt"
      ]
    },
    {
      "cell_type": "code",
      "execution_count": 7,
      "metadata": {
        "colab": {
          "base_uri": "https://localhost:8080/"
        },
        "id": "ZcnDh3CRKkT-",
        "outputId": "140fe519-da4a-4666-825a-c4278042076e"
      },
      "outputs": [
        {
          "name": "stdout",
          "output_type": "stream",
          "text": [
            "Requirement already satisfied: scikit-learn in /usr/local/lib/python3.10/dist-packages (1.6.0)\n",
            "Requirement already satisfied: numpy>=1.19.5 in /usr/local/lib/python3.10/dist-packages (from scikit-learn) (1.26.4)\n",
            "Requirement already satisfied: scipy>=1.6.0 in /usr/local/lib/python3.10/dist-packages (from scikit-learn) (1.13.1)\n",
            "Requirement already satisfied: joblib>=1.2.0 in /usr/local/lib/python3.10/dist-packages (from scikit-learn) (1.4.2)\n",
            "Requirement already satisfied: threadpoolctl>=3.1.0 in /usr/local/lib/python3.10/dist-packages (from scikit-learn) (3.5.0)\n"
          ]
        }
      ],
      "source": [
        "!pip install scikit-learn\n"
      ]
    },
    {
      "cell_type": "code",
      "execution_count": 8,
      "metadata": {
        "colab": {
          "base_uri": "https://localhost:8080/"
        },
        "id": "AfM-95TdLDXN",
        "outputId": "72d75177-2f86-4679-9139-ce794608753b"
      },
      "outputs": [
        {
          "name": "stdout",
          "output_type": "stream",
          "text": [
            "/usr/local/lib/python3.10/dist-packages/torch_geometric/typing.py:86: UserWarning: An issue occurred while importing 'torch-scatter'. Disabling its usage. Stacktrace: /usr/local/lib/python3.10/dist-packages/torch_scatter/_version_cuda.so: undefined symbol: _ZN3c1017RegisterOperatorsD1Ev\n",
            "  warnings.warn(f\"An issue occurred while importing 'torch-scatter'. \"\n",
            "/usr/local/lib/python3.10/dist-packages/torch_geometric/typing.py:124: UserWarning: An issue occurred while importing 'torch-sparse'. Disabling its usage. Stacktrace: /usr/local/lib/python3.10/dist-packages/torch_sparse/_version_cuda.so: undefined symbol: _ZN3c1017RegisterOperatorsD1Ev\n",
            "  warnings.warn(f\"An issue occurred while importing 'torch-sparse'. \"\n"
          ]
        }
      ],
      "source": [
        "!python -c 'import torch; import torch_geometric'"
      ]
    },
    {
      "cell_type": "code",
      "execution_count": 9,
      "metadata": {
        "colab": {
          "base_uri": "https://localhost:8080/"
        },
        "id": "W4j-KsH8M-4E",
        "outputId": "226c0322-79d7-4a01-e1d1-6c5931a7879b"
      },
      "outputs": [
        {
          "name": "stdout",
          "output_type": "stream",
          "text": [
            "Found existing installation: attrdict 2.0.1\n",
            "Uninstalling attrdict-2.0.1:\n",
            "  Successfully uninstalled attrdict-2.0.1\n",
            "Collecting attrdict==2.0.1\n",
            "  Using cached attrdict-2.0.1-py2.py3-none-any.whl.metadata (6.7 kB)\n",
            "Requirement already satisfied: six in /usr/local/lib/python3.10/dist-packages (from attrdict==2.0.1) (1.17.0)\n",
            "Using cached attrdict-2.0.1-py2.py3-none-any.whl (9.9 kB)\n",
            "Installing collected packages: attrdict\n",
            "Successfully installed attrdict-2.0.1\n"
          ]
        }
      ],
      "source": [
        "# Uninstall any existing attrdict to ensure a clean reinstall\n",
        "!pip uninstall -y attrdict\n",
        "\n",
        "# Reinstall attrdict (so we can then patch it)\n",
        "!pip install attrdict==2.0.1\n",
        "\n",
        "# Replace \"from collections import Mapping, MutableMapping, Sequence\"\n",
        "# with \"from collections.abc import Mapping, MutableMapping, Sequence\"\n",
        "!sed -i 's/from collections import Mapping, MutableMapping, Sequence/from collections.abc import Mapping, MutableMapping, Sequence/g' /usr/local/lib/python3.10/dist-packages/attrdict/*.py\n",
        "\n",
        "# Sometimes they're imported separately, so let's handle those too:\n",
        "!sed -i 's/from collections import Mapping/from collections.abc import Mapping/g' /usr/local/lib/python3.10/dist-packages/attrdict/*.py\n",
        "!sed -i 's/from collections import MutableMapping/from collections.abc import MutableMapping/g' /usr/local/lib/python3.10/dist-packages/attrdict/*.py\n",
        "!sed -i 's/from collections import Sequence/from collections.abc import Sequence/g' /usr/local/lib/python3.10/dist-packages/attrdict/*.py\n"
      ]
    },
    {
      "cell_type": "code",
      "execution_count": 10,
      "metadata": {
        "id": "1tzhSTHzLHZQ"
      },
      "outputs": [],
      "source": [
        "#!python /content/project/main.py --batch_size 512 --accum_grad 2 --type GGNN"
      ]
    },
    {
      "cell_type": "code",
      "execution_count": 10,
      "metadata": {
        "colab": {
          "base_uri": "https://localhost:8080/"
        },
        "id": "4Oa7XL0KPaNA",
        "outputId": "978f652a-059e-4431-eaca-a1bcb2bf7592"
      },
      "outputs": [
        {
          "name": "stdout",
          "output_type": "stream",
          "text": [
            "/usr/local/lib/python3.10/dist-packages/torch_geometric/typing.py:86: UserWarning: An issue occurred while importing 'torch-scatter'. Disabling its usage. Stacktrace: /usr/local/lib/python3.10/dist-packages/torch_scatter/_version_cuda.so: undefined symbol: _ZN3c1017RegisterOperatorsD1Ev\n",
            "  warnings.warn(f\"An issue occurred while importing 'torch-scatter'. \"\n",
            "/usr/local/lib/python3.10/dist-packages/torch_geometric/typing.py:124: UserWarning: An issue occurred while importing 'torch-sparse'. Disabling its usage. Stacktrace: /usr/local/lib/python3.10/dist-packages/torch_sparse/_version_cuda.so: undefined symbol: _ZN3c1017RegisterOperatorsD1Ev\n",
            "  warnings.warn(f\"An issue occurred while importing 'torch-sparse'. \"\n",
            "usage: main.py [-h] [--task {Task.NEIGHBORS_MATCH}]\n",
            "               [--type {GNN_TYPE.GCN,GNN_TYPE.GGNN,GNN_TYPE.GIN,GNN_TYPE.GAT,GNN_TYPE.GSAGE_MEAN,GNN_TYPE.GSAGE_MAX,GNN_TYPE.GSAGE_MIN,GNN_TYPE.GSAGE_SUM}]\n",
            "               [--dim DIM] [--depth DEPTH] [--num_layers NUM_LAYERS]\n",
            "               [--train_fraction TRAIN_FRACTION] [--max_epochs MAX_EPOCHS]\n",
            "               [--eval_every EVAL_EVERY] [--batch_size BATCH_SIZE] [--accum_grad ACCUM_GRAD]\n",
            "               [--stop {STOP.TRAIN,STOP.TEST}] [--patience PATIENCE]\n",
            "               [--loader_workers LOADER_WORKERS] [--last_layer_fully_adjacent] [--no_layer_norm]\n",
            "               [--no_activation] [--no_residual] [--unroll]\n",
            "\n",
            "options:\n",
            "  -h, --help            show this help message and exit\n",
            "  --task {Task.NEIGHBORS_MATCH}\n",
            "  --type {GNN_TYPE.GCN,GNN_TYPE.GGNN,GNN_TYPE.GIN,GNN_TYPE.GAT,GNN_TYPE.GSAGE_MEAN,GNN_TYPE.GSAGE_MAX,GNN_TYPE.GSAGE_MIN,GNN_TYPE.GSAGE_SUM}\n",
            "  --dim DIM\n",
            "  --depth DEPTH\n",
            "  --num_layers NUM_LAYERS\n",
            "  --train_fraction TRAIN_FRACTION\n",
            "  --max_epochs MAX_EPOCHS\n",
            "  --eval_every EVAL_EVERY\n",
            "  --batch_size BATCH_SIZE\n",
            "  --accum_grad ACCUM_GRAD\n",
            "  --stop {STOP.TRAIN,STOP.TEST}\n",
            "  --patience PATIENCE\n",
            "  --loader_workers LOADER_WORKERS\n",
            "  --last_layer_fully_adjacent\n",
            "  --no_layer_norm\n",
            "  --no_activation\n",
            "  --no_residual\n",
            "  --unroll              use the same weights across GNN layers\n"
          ]
        }
      ],
      "source": [
        "!python /content/project/main.py --help"
      ]
    },
    {
      "cell_type": "code",
      "execution_count": 11,
      "metadata": {
        "id": "gjJyB_cNDk5v"
      },
      "outputs": [],
      "source": [
        "#!python /content/project/main.py --task NEIGHBORS_MATCH --eval_every 1000 --depth 4 --num_layers 2 --batch_size 1024 --type GSAGE_MEAN"
      ]
    },
    {
      "cell_type": "code",
      "execution_count": null,
      "metadata": {
        "colab": {
          "base_uri": "https://localhost:8080/"
        },
        "id": "APENM5GsJuZB",
        "outputId": "48a4c461-36e7-4a00-d47c-527966d5d08e"
      },
      "outputs": [
        {
          "name": "stdout",
          "output_type": "stream",
          "text": [
            "/usr/local/lib/python3.10/dist-packages/torch_geometric/typing.py:86: UserWarning: An issue occurred while importing 'torch-scatter'. Disabling its usage. Stacktrace: /usr/local/lib/python3.10/dist-packages/torch_scatter/_version_cuda.so: undefined symbol: _ZN3c1017RegisterOperatorsD1Ev\n",
            "  warnings.warn(f\"An issue occurred while importing 'torch-scatter'. \"\n",
            "/usr/local/lib/python3.10/dist-packages/torch_geometric/typing.py:124: UserWarning: An issue occurred while importing 'torch-sparse'. Disabling its usage. Stacktrace: /usr/local/lib/python3.10/dist-packages/torch_sparse/_version_cuda.so: undefined symbol: _ZN3c1017RegisterOperatorsD1Ev\n",
            "  warnings.warn(f\"An issue occurred while importing 'torch-sparse'. \"\n",
            "Starting experiment\n",
            "task: Task.NEIGHBORS_MATCH\n",
            "type: GNN_TYPE.GSAGE_MEAN\n",
            "dim: 32\n",
            "depth: 4\n",
            "num_layers: 5\n",
            "train_fraction: 0.8\n",
            "max_epochs: 50000\n",
            "eval_every: 100\n",
            "batch_size: 1024\n",
            "accum_grad: 1\n",
            "stop: STOP.TRAIN\n",
            "patience: 20\n",
            "loader_workers: 7\n",
            "last_layer_fully_adjacent: False\n",
            "no_layer_norm: False\n",
            "no_activation: True\n",
            "no_residual: False\n",
            "unroll: False\n",
            "\n",
            "Training examples: 12800, test examples: 3200\n",
            "Starting training\n",
            "/usr/local/lib/python3.10/dist-packages/torch_geometric/deprecation.py:26: UserWarning: 'data.DataLoader' is deprecated, use 'loader.DataLoader' instead\n",
            "  warnings.warn(out)\n",
            "/usr/local/lib/python3.10/dist-packages/torch/utils/data/dataloader.py:617: UserWarning: This DataLoader will create 7 worker processes in total. Our suggested max number of worker in current system is 2, which is smaller than what this DataLoader is going to create. Please be aware that excessive worker creation might get DataLoader running slow or even freeze, lower the worker number to avoid potential slowness/freeze if necessary.\n",
            "  warnings.warn(\n",
            "Epoch 100, LR: [0.001]: Train loss: 2.7703463, Train acc: 0.0721, Test accuracy: 0.0612 (new best train)\n",
            "Epoch 200, LR: [0.001]: Train loss: 2.7660809, Train acc: 0.0753, Test accuracy: 0.0591 (new best train)\n",
            "Epoch 300, LR: [0.001]: Train loss: 2.7657862, Train acc: 0.0755, Test accuracy: 0.0619 (new best train)\n",
            "Epoch 400, LR: [0.001]: Train loss: 2.7655513, Train acc: 0.0757, Test accuracy: 0.0625 (new best train)\n",
            "Epoch 500, LR: [0.001]: Train loss: 2.7654683, Train acc: 0.0757, Test accuracy: 0.0609\n",
            "Epoch 600, LR: [0.001]: Train loss: 2.7653437, Train acc: 0.0758, Test accuracy: 0.0688\n",
            "Epoch 700, LR: [0.001]: Train loss: 2.7653344, Train acc: 0.0761, Test accuracy: 0.0634 (new best train)\n",
            "Epoch 800, LR: [0.001]: Train loss: 2.7652213, Train acc: 0.0759, Test accuracy: 0.0609\n",
            "Epoch 900, LR: [0.001]: Train loss: 2.7651517, Train acc: 0.0760, Test accuracy: 0.0606\n",
            "Epoch 1000, LR: [0.001]: Train loss: 2.7650759, Train acc: 0.0763, Test accuracy: 0.0603 (new best train)\n",
            "Epoch 1100, LR: [0.001]: Train loss: 2.7650758, Train acc: 0.0762, Test accuracy: 0.0606\n",
            "Epoch 1200, LR: [0.001]: Train loss: 2.7649624, Train acc: 0.0764, Test accuracy: 0.0597 (new best train)\n",
            "Epoch 1300, LR: [0.001]: Train loss: 2.7649646, Train acc: 0.0765, Test accuracy: 0.0556\n",
            "Epoch 1400, LR: [0.001]: Train loss: 2.7648976, Train acc: 0.0761, Test accuracy: 0.0547\n",
            "Epoch 1500, LR: [0.001]: Train loss: 2.7648400, Train acc: 0.0764, Test accuracy: 0.0594\n",
            "Epoch 1600, LR: [0.001]: Train loss: 2.7648264, Train acc: 0.0761, Test accuracy: 0.0603\n",
            "Epoch 1700, LR: [0.001]: Train loss: 2.7647973, Train acc: 0.0764, Test accuracy: 0.0609\n",
            "Epoch 1800, LR: [0.001]: Train loss: 2.7647158, Train acc: 0.0762, Test accuracy: 0.0594\n",
            "Epoch 1900, LR: [0.001]: Train loss: 2.7647385, Train acc: 0.0765, Test accuracy: 0.0584 (new best train)\n",
            "Epoch 2000, LR: [0.001]: Train loss: 2.7645110, Train acc: 0.0764, Test accuracy: 0.0581\n",
            "Epoch 2100, LR: [0.001]: Train loss: 2.7469711, Train acc: 0.0762, Test accuracy: 0.0563\n",
            "Epoch 2200, LR: [0.001]: Train loss: 2.7351805, Train acc: 0.0763, Test accuracy: 0.0619\n",
            "Epoch 2300, LR: [0.001]: Train loss: 2.7303293, Train acc: 0.0770, Test accuracy: 0.0587 (new best train)\n",
            "Epoch 2400, LR: [0.001]: Train loss: 2.7259513, Train acc: 0.0797, Test accuracy: 0.0609 (new best train)\n",
            "Epoch 2500, LR: [0.001]: Train loss: 2.7215340, Train acc: 0.0822, Test accuracy: 0.0553 (new best train)\n",
            "Epoch 2600, LR: [0.001]: Train loss: 2.7173205, Train acc: 0.0847, Test accuracy: 0.0541 (new best train)\n",
            "Epoch 2700, LR: [0.001]: Train loss: 2.7131537, Train acc: 0.0862, Test accuracy: 0.0572 (new best train)\n",
            "Epoch 2800, LR: [0.001]: Train loss: 2.7101236, Train acc: 0.0878, Test accuracy: 0.0587 (new best train)\n",
            "Epoch 2900, LR: [0.001]: Train loss: 2.7064065, Train acc: 0.0895, Test accuracy: 0.0622 (new best train)\n",
            "Epoch 3000, LR: [0.001]: Train loss: 2.7036412, Train acc: 0.0915, Test accuracy: 0.0650 (new best train)\n",
            "Epoch 3100, LR: [0.001]: Train loss: 2.7006050, Train acc: 0.0929, Test accuracy: 0.0622 (new best train)\n",
            "Epoch 3200, LR: [0.001]: Train loss: 2.6978369, Train acc: 0.0938, Test accuracy: 0.0650 (new best train)\n",
            "Epoch 3300, LR: [0.001]: Train loss: 2.6955211, Train acc: 0.0951, Test accuracy: 0.0691 (new best train)\n",
            "Epoch 3400, LR: [0.001]: Train loss: 2.6924866, Train acc: 0.0958, Test accuracy: 0.0594 (new best train)\n",
            "Epoch 3500, LR: [0.001]: Train loss: 2.6902161, Train acc: 0.0969, Test accuracy: 0.0650 (new best train)\n",
            "Epoch 3600, LR: [0.001]: Train loss: 2.6869778, Train acc: 0.0975, Test accuracy: 0.0734 (new best train)\n",
            "Epoch 3700, LR: [0.001]: Train loss: 2.6836611, Train acc: 0.0983, Test accuracy: 0.0712 (new best train)\n",
            "Epoch 3800, LR: [0.001]: Train loss: 2.6793290, Train acc: 0.0996, Test accuracy: 0.0709 (new best train)\n",
            "Epoch 3900, LR: [0.001]: Train loss: 2.6749673, Train acc: 0.1001, Test accuracy: 0.0684 (new best train)\n",
            "Epoch 4000, LR: [0.001]: Train loss: 2.6495114, Train acc: 0.1015, Test accuracy: 0.0772 (new best train)\n",
            "Epoch 4100, LR: [0.001]: Train loss: 2.5016571, Train acc: 0.0996, Test accuracy: 0.0641\n",
            "Epoch 4200, LR: [0.001]: Train loss: 2.4630248, Train acc: 0.1058, Test accuracy: 0.0716 (new best train)\n",
            "Epoch 4300, LR: [0.001]: Train loss: 2.4425808, Train acc: 0.1187, Test accuracy: 0.0788 (new best train)\n",
            "Epoch 4400, LR: [0.001]: Train loss: 2.4253342, Train acc: 0.1294, Test accuracy: 0.0841 (new best train)\n",
            "Epoch 4500, LR: [0.001]: Train loss: 2.4151228, Train acc: 0.1329, Test accuracy: 0.0784 (new best train)\n",
            "Epoch 4600, LR: [0.001]: Train loss: 2.4052551, Train acc: 0.1364, Test accuracy: 0.0766 (new best train)\n",
            "Epoch 4700, LR: [0.001]: Train loss: 2.3985647, Train acc: 0.1383, Test accuracy: 0.0834 (new best train)\n",
            "Epoch 4800, LR: [0.001]: Train loss: 2.3903751, Train acc: 0.1437, Test accuracy: 0.0941 (new best train)\n",
            "Epoch 4900, LR: [0.001]: Train loss: 2.3801384, Train acc: 0.1506, Test accuracy: 0.0947 (new best train)\n",
            "Epoch 5000, LR: [0.001]: Train loss: 2.3741006, Train acc: 0.1534, Test accuracy: 0.1037 (new best train)\n",
            "Epoch 5100, LR: [0.001]: Train loss: 2.3686129, Train acc: 0.1556, Test accuracy: 0.0981 (new best train)\n",
            "Epoch 5200, LR: [0.001]: Train loss: 2.3618629, Train acc: 0.1582, Test accuracy: 0.0997 (new best train)\n",
            "Epoch 5300, LR: [0.001]: Train loss: 2.3467640, Train acc: 0.1647, Test accuracy: 0.1103 (new best train)\n",
            "Epoch 5400, LR: [0.001]: Train loss: 2.3153565, Train acc: 0.1812, Test accuracy: 0.1300 (new best train)\n",
            "Epoch 5500, LR: [0.001]: Train loss: 2.2810221, Train acc: 0.2005, Test accuracy: 0.1441 (new best train)\n",
            "Epoch 5600, LR: [0.001]: Train loss: 2.2589361, Train acc: 0.2118, Test accuracy: 0.1613 (new best train)\n",
            "Epoch 5700, LR: [0.001]: Train loss: 2.2450102, Train acc: 0.2215, Test accuracy: 0.1603 (new best train)\n",
            "Epoch 5800, LR: [0.001]: Train loss: 2.2307589, Train acc: 0.2311, Test accuracy: 0.1803 (new best train)\n"
          ]
        }
      ],
      "source": [
        "!python /content/project/run-gsage-2-6.py"
      ]
    }
  ],
  "metadata": {
    "accelerator": "GPU",
    "colab": {
      "gpuType": "T4",
      "provenance": []
    },
    "kernelspec": {
      "display_name": "Python 3",
      "name": "python3"
    },
    "language_info": {
      "name": "python"
    }
  },
  "nbformat": 4,
  "nbformat_minor": 0
}
